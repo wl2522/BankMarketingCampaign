{
 "cells": [
  {
   "cell_type": "markdown",
   "metadata": {},
   "source": [
    "# Submission Information:\n",
    "\n",
    "### Team Member 1:\n",
    "* UNI:  WL2522\n",
    "* Name:  Wilson Lui\n",
    "\n",
    "### Team Member 2 [optional]:\n",
    "* UNI:  \n",
    "* Name:"
   ]
  },
  {
   "cell_type": "markdown",
   "metadata": {},
   "source": [
    "# Step0 - Import Libraries, Load Data [0 points]\n",
    "\n",
    "This is the basic step where you can load the data and create train and test sets for internal validation as per your convinience."
   ]
  },
  {
   "cell_type": "code",
   "execution_count": 5,
   "metadata": {
    "ExecuteTime": {
     "end_time": "2017-04-02T02:05:49.610803",
     "start_time": "2017-04-02T02:05:49.146778"
    },
    "collapsed": false
   },
   "outputs": [
    {
     "name": "stdout",
     "output_type": "stream",
     "text": [
      "['nonexistent' 'failure' 'success']\n"
     ]
    }
   ],
   "source": [
    "%matplotlib inline\n",
    "\n",
    "import pandas as pd\n",
    "import numpy as np\n",
    "import matplotlib.pyplot as plt\n",
    "from collections import Counter\n",
    "\n",
    "from sklearn.model_selection import train_test_split, GridSearchCV, cross_val_score\n",
    "from sklearn.preprocessing import LabelEncoder, scale, OneHotEncoder, StandardScaler\n",
    "from sklearn.pipeline import make_pipeline\n",
    "from sklearn.metrics import roc_auc_score\n",
    "from sklearn.linear_model import LogisticRegression\n",
    "\n",
    "from imblearn.under_sampling import RandomUnderSampler\n",
    "from imblearn.combine import SMOTEENN\n",
    "\n",
    "\n",
    "\n",
    "\n",
    "data = pd.read_csv('data\\data.csv')\n",
    "\n",
    "#Separate the ID column from the holdout set\n",
    "\n",
    "holdout = pd.read_csv('data\\holdout.csv')\n",
    "ID = holdout['ID']\n",
    "holdout = holdout.drop('ID', 1)\n",
    "\n",
    "#Remove the \"duration\" feature to avoid getting overoptimistic results\n",
    "\n",
    "data = data.drop('duration', 1)\n",
    "holdout = holdout.drop('duration', 1)\n",
    "\n",
    "#Separate the categorical features from the numerical ones\n",
    "#Encode category and response variable strings to integers\n",
    "\n",
    "num = ['age', 'campaign', 'prev_days', 'prev_contacts', 'emp_var_rate',\n",
    "       'cons_price_idx', 'cons_conf_idx', 'euribor3m', 'nr_employed']\n",
    "\n",
    "cat = ['job', 'marital_status', 'education', 'credit_default', 'housing',\n",
    "       'loan', 'contact', 'month', 'day_of_week', 'prev_outcomes']\n",
    "\n",
    "enc_data = data.copy()\n",
    "enc_holdout = holdout.copy()\n",
    "\n",
    "le = LabelEncoder()\n",
    "\n",
    "for col in cat:\n",
    "    levels = enc_data[col].unique()\n",
    "    le.fit(levels)\n",
    "    enc_data[col] = le.transform(enc_data[col])\n",
    "    enc_holdout[col] = le.transform(enc_holdout[col])\n",
    "\n",
    "#Separate the features from the response variable\n",
    "\n",
    "levels = enc_data['subscribed'].unique()\n",
    "le.fit(levels)\n",
    "enc_data['subscribed'] = le.transform(enc_data['subscribed'])\n",
    "\n",
    "X = enc_data.iloc[:,:-1]\n",
    "y = enc_data.iloc[:,-1]\n",
    "\n",
    "X_train, X_test, y_train, y_test = train_test_split(X, y, stratify=y)\n"
   ]
  },
  {
   "cell_type": "markdown",
   "metadata": {},
   "source": [
    "# Step1 - Exploration and Preparation [10 points]\n",
    "\n",
    "In this step, we expect you to look into the data and try to understand it before modeling. This understanding may lead to some basic data preparation steps which are common across the two model sets required."
   ]
  },
  {
   "cell_type": "code",
   "execution_count": 62,
   "metadata": {
    "ExecuteTime": {
     "end_time": "2017-04-01T15:09:42.285993",
     "start_time": "2017-04-01T15:09:42.238927"
    },
    "collapsed": true
   },
   "outputs": [
    {
     "data": {
      "text/html": [
       "<div>\n",
       "<table border=\"1\" class=\"dataframe\">\n",
       "  <thead>\n",
       "    <tr style=\"text-align: right;\">\n",
       "      <th></th>\n",
       "      <th>age</th>\n",
       "      <th>campaign</th>\n",
       "      <th>prev_days</th>\n",
       "      <th>prev_contacts</th>\n",
       "      <th>emp_var_rate</th>\n",
       "      <th>cons_price_idx</th>\n",
       "      <th>cons_conf_idx</th>\n",
       "      <th>euribor3m</th>\n",
       "      <th>nr_employed</th>\n",
       "    </tr>\n",
       "  </thead>\n",
       "  <tbody>\n",
       "    <tr>\n",
       "      <th>count</th>\n",
       "      <td>32950.000000</td>\n",
       "      <td>32950.000000</td>\n",
       "      <td>32950.000000</td>\n",
       "      <td>32950.000000</td>\n",
       "      <td>32950.000000</td>\n",
       "      <td>32950.000000</td>\n",
       "      <td>32950.000000</td>\n",
       "      <td>32950.000000</td>\n",
       "      <td>32950.000000</td>\n",
       "    </tr>\n",
       "    <tr>\n",
       "      <th>mean</th>\n",
       "      <td>40.019059</td>\n",
       "      <td>2.641639</td>\n",
       "      <td>961.537906</td>\n",
       "      <td>0.174385</td>\n",
       "      <td>0.080115</td>\n",
       "      <td>93.583705</td>\n",
       "      <td>-40.496740</td>\n",
       "      <td>3.618901</td>\n",
       "      <td>5166.932832</td>\n",
       "    </tr>\n",
       "    <tr>\n",
       "      <th>std</th>\n",
       "      <td>10.850807</td>\n",
       "      <td>2.803230</td>\n",
       "      <td>189.209917</td>\n",
       "      <td>0.498989</td>\n",
       "      <td>1.573180</td>\n",
       "      <td>1.162662</td>\n",
       "      <td>4.645301</td>\n",
       "      <td>1.737149</td>\n",
       "      <td>72.439480</td>\n",
       "    </tr>\n",
       "    <tr>\n",
       "      <th>min</th>\n",
       "      <td>17.000000</td>\n",
       "      <td>1.000000</td>\n",
       "      <td>0.000000</td>\n",
       "      <td>0.000000</td>\n",
       "      <td>-3.695294</td>\n",
       "      <td>88.311974</td>\n",
       "      <td>-52.220779</td>\n",
       "      <td>0.325461</td>\n",
       "      <td>4963.600000</td>\n",
       "    </tr>\n",
       "    <tr>\n",
       "      <th>25%</th>\n",
       "      <td>32.000000</td>\n",
       "      <td>1.000000</td>\n",
       "      <td>999.000000</td>\n",
       "      <td>0.000000</td>\n",
       "      <td>-1.724208</td>\n",
       "      <td>92.800661</td>\n",
       "      <td>-43.087110</td>\n",
       "      <td>1.377065</td>\n",
       "      <td>5101.000000</td>\n",
       "    </tr>\n",
       "    <tr>\n",
       "      <th>50%</th>\n",
       "      <td>38.000000</td>\n",
       "      <td>2.000000</td>\n",
       "      <td>999.000000</td>\n",
       "      <td>0.000000</td>\n",
       "      <td>1.085053</td>\n",
       "      <td>93.586959</td>\n",
       "      <td>-41.685507</td>\n",
       "      <td>4.800570</td>\n",
       "      <td>5194.000000</td>\n",
       "    </tr>\n",
       "    <tr>\n",
       "      <th>75%</th>\n",
       "      <td>47.000000</td>\n",
       "      <td>3.000000</td>\n",
       "      <td>999.000000</td>\n",
       "      <td>0.000000</td>\n",
       "      <td>1.366367</td>\n",
       "      <td>94.381404</td>\n",
       "      <td>-36.404580</td>\n",
       "      <td>4.943674</td>\n",
       "      <td>5226.000000</td>\n",
       "    </tr>\n",
       "    <tr>\n",
       "      <th>max</th>\n",
       "      <td>97.000000</td>\n",
       "      <td>56.000000</td>\n",
       "      <td>999.000000</td>\n",
       "      <td>7.000000</td>\n",
       "      <td>1.785673</td>\n",
       "      <td>98.263042</td>\n",
       "      <td>-25.323735</td>\n",
       "      <td>5.362403</td>\n",
       "      <td>5249.000000</td>\n",
       "    </tr>\n",
       "  </tbody>\n",
       "</table>\n",
       "</div>"
      ],
      "text/plain": [
       "                age      campaign     prev_days  prev_contacts  emp_var_rate  \\\n",
       "count  32950.000000  32950.000000  32950.000000   32950.000000  32950.000000   \n",
       "mean      40.019059      2.641639    961.537906       0.174385      0.080115   \n",
       "std       10.850807      2.803230    189.209917       0.498989      1.573180   \n",
       "min       17.000000      1.000000      0.000000       0.000000     -3.695294   \n",
       "25%       32.000000      1.000000    999.000000       0.000000     -1.724208   \n",
       "50%       38.000000      2.000000    999.000000       0.000000      1.085053   \n",
       "75%       47.000000      3.000000    999.000000       0.000000      1.366367   \n",
       "max       97.000000     56.000000    999.000000       7.000000      1.785673   \n",
       "\n",
       "       cons_price_idx  cons_conf_idx     euribor3m   nr_employed  \n",
       "count    32950.000000   32950.000000  32950.000000  32950.000000  \n",
       "mean        93.583705     -40.496740      3.618901   5166.932832  \n",
       "std          1.162662       4.645301      1.737149     72.439480  \n",
       "min         88.311974     -52.220779      0.325461   4963.600000  \n",
       "25%         92.800661     -43.087110      1.377065   5101.000000  \n",
       "50%         93.586959     -41.685507      4.800570   5194.000000  \n",
       "75%         94.381404     -36.404580      4.943674   5226.000000  \n",
       "max         98.263042     -25.323735      5.362403   5249.000000  "
      ]
     },
     "execution_count": 62,
     "metadata": {},
     "output_type": "execute_result"
    }
   ],
   "source": [
    "#Get summary statistics on the data\n",
    "\n",
    "data.describe()"
   ]
  },
  {
   "cell_type": "code",
   "execution_count": 3,
   "metadata": {
    "ExecuteTime": {
     "end_time": "2017-03-31T20:59:11.253843",
     "start_time": "2017-03-31T20:59:11.060658"
    },
    "collapsed": true
   },
   "outputs": [
    {
     "name": "stdout",
     "output_type": "stream",
     "text": [
      "Counter({'admin.': 8342, 'blue-collar': 7408, 'technician': 5371, 'services': 3168, 'management': 2340, 'retired': 1390, 'entrepreneur': 1198, 'self-employed': 1140, 'housemaid': 827, 'unemployed': 797, 'student': 708, 'unknown': 261})\n"
     ]
    },
    {
     "data": {
      "text/plain": [
       "([<matplotlib.axis.XTick at 0x265691f5400>,\n",
       "  <matplotlib.axis.XTick at 0x26568d6bb70>,\n",
       "  <matplotlib.axis.XTick at 0x265691e0828>,\n",
       "  <matplotlib.axis.XTick at 0x265691a74a8>,\n",
       "  <matplotlib.axis.XTick at 0x265691a7e80>,\n",
       "  <matplotlib.axis.XTick at 0x265691aa898>,\n",
       "  <matplotlib.axis.XTick at 0x265691ae2b0>,\n",
       "  <matplotlib.axis.XTick at 0x265691aec88>,\n",
       "  <matplotlib.axis.XTick at 0x265691b56a0>,\n",
       "  <matplotlib.axis.XTick at 0x265691b80b8>,\n",
       "  <matplotlib.axis.XTick at 0x265691b8a90>,\n",
       "  <matplotlib.axis.XTick at 0x265691bd4a8>],\n",
       " <a list of 12 Text xticklabel objects>)"
      ]
     },
     "execution_count": 3,
     "metadata": {},
     "output_type": "execute_result"
    },
    {
     "data": {
      "image/png": "[encoded data removed]",
      "text/plain": [
       "<matplotlib.figure.Figure at 0x26564632b70>"
      ]
     },
     "metadata": {},
     "output_type": "display_data"
    }
   ],
   "source": [
    "#Examine the distribution of job categories\n",
    "\n",
    "job_count = Counter(data['job'])\n",
    "print(job_count)\n",
    "plt.bar(range(len(job_count)), job_count.values(), align='center')\n",
    "plt.xticks(range(len(job_count)), list(job_count.keys()), rotation='vertical')\n"
   ]
  },
  {
   "cell_type": "code",
   "execution_count": 4,
   "metadata": {
    "ExecuteTime": {
     "end_time": "2017-03-31T20:59:11.394478",
     "start_time": "2017-03-31T20:59:11.254844"
    },
    "collapsed": true
   },
   "outputs": [
    {
     "name": "stdout",
     "output_type": "stream",
     "text": [
      "Counter({'married': 19955, 'single': 9256, 'divorced': 3676, 'unknown': 63})\n"
     ]
    },
    {
     "data": {
      "text/plain": [
       "([<matplotlib.axis.XTick at 0x26569153080>,\n",
       "  <matplotlib.axis.XTick at 0x26569265cc0>,\n",
       "  <matplotlib.axis.XTick at 0x2656924ff98>,\n",
       "  <matplotlib.axis.XTick at 0x2656974ee80>],\n",
       " <a list of 4 Text xticklabel objects>)"
      ]
     },
     "execution_count": 4,
     "metadata": {},
     "output_type": "execute_result"
    },
    {
     "data": {
      "image/png": "[encoded data removed]",
      "text/plain": [
       "<matplotlib.figure.Figure at 0x26564632278>"
      ]
     },
     "metadata": {},
     "output_type": "display_data"
    }
   ],
   "source": [
    "#Examine the distribution of marital statuses\n",
    "\n",
    "marital_count = Counter(data['marital_status'])\n",
    "print(marital_count)\n",
    "plt.bar(range(len(marital_count)), marital_count.values(), align='center')\n",
    "plt.xticks(range(len(marital_count)), list(marital_count.keys()), rotation='vertical')\n"
   ]
  },
  {
   "cell_type": "code",
   "execution_count": 5,
   "metadata": {
    "ExecuteTime": {
     "end_time": "2017-03-31T20:59:11.552128",
     "start_time": "2017-03-31T20:59:11.395479"
    },
    "collapsed": true
   },
   "outputs": [
    {
     "name": "stdout",
     "output_type": "stream",
     "text": [
      "Counter({'university.degree': 9760, 'high.school': 7580, 'basic.9y': 4889, 'professional.course': 4154, 'basic.4y': 3313, 'basic.6y': 1846, 'unknown': 1394, 'illiterate': 14})\n"
     ]
    },
    {
     "data": {
      "text/plain": [
       "([<matplotlib.axis.XTick at 0x2656919ba58>,\n",
       "  <matplotlib.axis.XTick at 0x26569784080>,\n",
       "  <matplotlib.axis.XTick at 0x2656976d588>,\n",
       "  <matplotlib.axis.XTick at 0x265697cf0b8>,\n",
       "  <matplotlib.axis.XTick at 0x265697cfa90>,\n",
       "  <matplotlib.axis.XTick at 0x265697d34a8>,\n",
       "  <matplotlib.axis.XTick at 0x265697d3e80>,\n",
       "  <matplotlib.axis.XTick at 0x265697d8898>],\n",
       " <a list of 8 Text xticklabel objects>)"
      ]
     },
     "execution_count": 5,
     "metadata": {},
     "output_type": "execute_result"
    },
    {
     "data": {
      "image/png": "[encoded data removed]",
      "text/plain": [
       "<matplotlib.figure.Figure at 0x265697614a8>"
      ]
     },
     "metadata": {},
     "output_type": "display_data"
    }
   ],
   "source": [
    "#Examine the distribution of education levels\n",
    "\n",
    "education_count = Counter(data['education'])\n",
    "print(education_count)\n",
    "plt.bar(range(len(education_count)), education_count.values(), align='center')\n",
    "\n",
    "plt.xticks(range(len(education_count)), list(education_count.keys()), rotation='vertical')"
   ]
  },
  {
   "cell_type": "code",
   "execution_count": 6,
   "metadata": {
    "ExecuteTime": {
     "end_time": "2017-03-31T20:59:11.957536",
     "start_time": "2017-03-31T20:59:11.553631"
    },
    "collapsed": true
   },
   "outputs": [
    {
     "name": "stdout",
     "output_type": "stream",
     "text": [
      "Counter({'no': 26059, 'unknown': 6888, 'yes': 3})\n",
      "Counter({'yes': 17176, 'no': 14974, 'unknown': 800})\n",
      "Counter({'no': 27179, 'yes': 4971, 'unknown': 800})\n",
      "Counter({'cellular': 20902, 'telephone': 12048})\n"
     ]
    },
    {
     "data": {
      "text/plain": [
       "<matplotlib.text.Text at 0x26569daddd8>"
      ]
     },
     "execution_count": 6,
     "metadata": {},
     "output_type": "execute_result"
    },
    {
     "data": {
      "image/png": "[encoded data removed]",
      "text/plain": [
       "<matplotlib.figure.Figure at 0x265697e7dd8>"
      ]
     },
     "metadata": {},
     "output_type": "display_data"
    }
   ],
   "source": [
    "#Examine distribution of binary variables\n",
    "\n",
    "default_count = Counter(data['credit_default'])\n",
    "housing_count = Counter(data['housing'])\n",
    "loan_count = Counter(data['loan'])\n",
    "contact_count = Counter(data['contact'])\n",
    "print(default_count)\n",
    "print(housing_count)\n",
    "print(loan_count)\n",
    "print(contact_count)\n",
    "\n",
    "\n",
    "ax1 = plt.subplot('331')\n",
    "plt.bar(range(len(default_count)), default_count.values(), align='center')\n",
    "plt.xticks(range(len(default_count)), list(default_count.keys()), rotation='vertical')\n",
    "ax1.set_title('Has Credit Defaults?')\n",
    "\n",
    "ax2 = plt.subplot('333')\n",
    "plt.bar(range(len(housing_count)), housing_count.values(), align='center')\n",
    "plt.xticks(range(len(housing_count)), list(housing_count.keys()), rotation='vertical')\n",
    "ax2.set_title('Has Housing Loans?')\n",
    "\n",
    "ax3 = plt.subplot('337')\n",
    "plt.bar(range(len(loan_count)), loan_count.values(), align='center')\n",
    "plt.xticks(range(len(loan_count)), list(loan_count.keys()), rotation='vertical')\n",
    "ax3.set_title('Has Personal Loans?')\n",
    "\n",
    "ax4 = plt.subplot('339')\n",
    "plt.bar(range(len(contact_count)), contact_count.values(), align='center')\n",
    "plt.xticks(range(len(contact_count)), list(contact_count), rotation='vertical')\n",
    "ax4.set_title('Method of Communication')"
   ]
  },
  {
   "cell_type": "code",
   "execution_count": 55,
   "metadata": {
    "ExecuteTime": {
     "end_time": "2017-04-01T15:07:12.929872",
     "start_time": "2017-04-01T15:07:12.606544"
    },
    "collapsed": false,
    "scrolled": true
   },
   "outputs": [
    {
     "data": {
      "text/plain": [
       "([<matplotlib.axis.YTick at 0x2cea1d86630>,\n",
       "  <matplotlib.axis.YTick at 0x2cea0ff4a90>,\n",
       "  <matplotlib.axis.YTick at 0x2cea1d8c748>,\n",
       "  <matplotlib.axis.YTick at 0x2cea173cd68>,\n",
       "  <matplotlib.axis.YTick at 0x2cea172fcc0>,\n",
       "  <matplotlib.axis.YTick at 0x2cea1da4470>,\n",
       "  <matplotlib.axis.YTick at 0x2cea1752a90>,\n",
       "  <matplotlib.axis.YTick at 0x2cea17594a8>,\n",
       "  <matplotlib.axis.YTick at 0x2cea1759e80>,\n",
       "  <matplotlib.axis.YTick at 0x2cea175e898>,\n",
       "  <matplotlib.axis.YTick at 0x2cea1ae22b0>,\n",
       "  <matplotlib.axis.YTick at 0x2cea1ae2c88>,\n",
       "  <matplotlib.axis.YTick at 0x2cea1ae66a0>,\n",
       "  <matplotlib.axis.YTick at 0x2cea1aeb0b8>,\n",
       "  <matplotlib.axis.YTick at 0x2cea17494e0>,\n",
       "  <matplotlib.axis.YTick at 0x2cea1740278>,\n",
       "  <matplotlib.axis.YTick at 0x2cea1733cf8>,\n",
       "  <matplotlib.axis.YTick at 0x2cea172a710>,\n",
       "  <matplotlib.axis.YTick at 0x2cea1d8cb38>],\n",
       " <a list of 19 Text yticklabel objects>)"
      ]
     },
     "execution_count": 55,
     "metadata": {},
     "output_type": "execute_result"
    },
    {
     "data": {
      "image/png": "[encoded data removed]",
      "text/plain": [
       "<matplotlib.figure.Figure at 0x2cea0fe5b00>"
      ]
     },
     "metadata": {},
     "output_type": "display_data"
    }
   ],
   "source": [
    "#Create covariance matrix heatmap to check for correlated features\n",
    "\n",
    "cov = np.cov(scale(X_train), rowvar = False)\n",
    "plt.imshow(cov, cmap='viridis', interpolation='nearest')\n",
    "plt.xticks(range(len(list(X_train))), list(X_train), rotation = 'vertical')\n",
    "plt.yticks(range(len(list(X_train))), list(X_train))"
   ]
  },
  {
   "cell_type": "code",
   "execution_count": 14,
   "metadata": {
    "ExecuteTime": {
     "end_time": "2017-03-31T21:54:01.077728",
     "start_time": "2017-03-31T21:53:53.981684"
    },
    "collapsed": false
   },
   "outputs": [
    {
     "name": "stdout",
     "output_type": "stream",
     "text": [
      "[ 0.00691953  0.01288572  0.00693719  0.00289419  0.01001758  0.00133675\n",
      "  0.00312493  0.01176952  0.02795122  0.00140462  0.00024864  0.03438093\n",
      "  0.01959197  0.03077206  0.04814837  0.          0.05242143  0.05630778\n",
      "  0.0641352 ]\n",
      "(array([  1.04857099e+01,   2.08001473e+01,   6.14920477e+01,\n",
      "         9.50088876e+01,   2.46146619e+02,   1.26006064e+01,\n",
      "         5.02433811e-01,   5.22542694e+02,   2.75606480e-01,\n",
      "         4.88612992e+00,   1.18084991e+02,   2.94373920e+03,\n",
      "         1.37564973e+03,   4.90872737e+02,   2.44640280e+03,\n",
      "         1.49917538e+02,   6.86169604e+01,   2.63317569e+03,\n",
      "         3.59645237e+03]), array([  1.20460123e-003,   5.12237283e-006,   4.62411693e-015,\n",
      "         2.08005058e-022,   3.32008751e-055,   3.86337496e-004,\n",
      "         4.78439362e-001,   1.82389233e-114,   5.99600163e-001,\n",
      "         2.70824354e-002,   1.91652859e-027,   0.00000000e+000,\n",
      "         4.40972767e-293,   1.03063842e-107,   0.00000000e+000,\n",
      "         2.27326457e-034,   1.25566790e-016,   0.00000000e+000,\n",
      "         0.00000000e+000]))\n"
     ]
    }
   ],
   "source": [
    "from sklearn.feature_selection import mutual_info_classif\n",
    "score = mutual_info_classif(X_train, y_train, discrete_features = [1,2,3,4,5,6,7,8,9,13])\n",
    "\n",
    "from sklearn.feature_selection import f_classif\n",
    "f_score = f_classif(X_train, y_train)\n",
    "mi_score = mutual_info_classif(X_train, y_train)\n",
    "print(mi_score)\n",
    "print(f_score)"
   ]
  },
  {
   "cell_type": "markdown",
   "metadata": {},
   "source": [
    "# Step2 - ModelSet1 [35 points]\n",
    "\n",
    "In this step, we expect you to perform the following steps relevant to the models you choose for set1:\n",
    "\n",
    "* feature engineering\n",
    "* validation\n",
    "* feature selection\n",
    "* final model selection\n",
    "\n",
    "You may select up to 5 models in this step for the purpose of final ensemble. Any classification algorithm covered in class apart from tree-based models can be tested here."
   ]
  },
  {
   "cell_type": "code",
   "execution_count": 12,
   "metadata": {
    "ExecuteTime": {
     "end_time": "2017-04-02T02:30:00.021422",
     "start_time": "2017-04-02T02:30:00.005388"
    },
    "collapsed": false
   },
   "outputs": [],
   "source": [
    "#Perform One Hot Encoding on the training set\n",
    "\n",
    "discrete = [1,2,3,4,5,6,7,8,9,13]\n",
    "\n",
    "X_train_OHE = X_train.as_matrix()\n",
    "\n",
    "def OHE(X, discrete_features):\n",
    "\n",
    "    OHE = OneHotEncoder().fit(X[:, [discrete_features]].reshape(-1,1))\n",
    "    enc_discrete = OHE.transform(X[:,1].reshape(-1,1)).toarray()\n",
    "\n",
    "    for col in discrete_features[1:]:\n",
    "        enc = OneHotEncoder().fit_transform(X[:, col].reshape(-1,1)).toarray()\n",
    "        enc_discrete = np.append(enc_discrete, enc, axis = 1)\n",
    "\n",
    "    X = np.delete(X, discrete_features, axis=1)\n",
    "    X = np.append(X, enc_discrete, axis = 1)\n",
    "    \n",
    "    return X\n",
    "\n",
    "#correlated = [8,7]\n",
    "#X_train_OHE = np.delete(X_train_OHE, correlated, axis = 1)\n"
   ]
  },
  {
   "cell_type": "code",
   "execution_count": 24,
   "metadata": {
    "ExecuteTime": {
     "end_time": "2017-04-02T02:44:30.281620",
     "start_time": "2017-04-02T02:43:56.871350"
    },
    "collapsed": false
   },
   "outputs": [
    {
     "name": "stdout",
     "output_type": "stream",
     "text": [
      "[4 1 1 1 1 2 1 1 1 1 1 5 1 1 1 1 1 1 3]\n"
     ]
    }
   ],
   "source": [
    "from sklearn.feature_selection import RFE\n",
    "from sklearn.svm import LinearSVC\n",
    "\n",
    "sm = SMOTEENN()\n",
    "X_smote, y_smote = sm.fit_sample(X_train_OHE, y_train)\n",
    "\n",
    "svc = LinearSVC()\n",
    "svc_rfe = RFE(svc, n_features_to_select = 15)\n",
    "svc_rfe.fit(X_smote, y_smote)\n",
    "print(rfe.ranking_)\n"
   ]
  },
  {
   "cell_type": "code",
   "execution_count": 25,
   "metadata": {
    "ExecuteTime": {
     "end_time": "2017-04-02T02:44:41.637817",
     "start_time": "2017-04-02T02:44:39.604323"
    },
    "collapsed": false
   },
   "outputs": [
    {
     "name": "stdout",
     "output_type": "stream",
     "text": [
      "[2 4 1 1 1 1 1 1 1 1 1 5 1 1 1 1 1 1 3]\n"
     ]
    }
   ],
   "source": [
    "lr = LogisticRegression()\n",
    "lr_rfe = RFE(lr, n_features_to_select = 15)\n",
    "lr_rfe.fit(X_smote, y_smote)\n",
    "print(lr_rfe.ranking_)"
   ]
  },
  {
   "cell_type": "code",
   "execution_count": 21,
   "metadata": {
    "ExecuteTime": {
     "end_time": "2017-04-02T02:39:36.253648",
     "start_time": "2017-04-02T02:39:27.657730"
    },
    "collapsed": false
   },
   "outputs": [
    {
     "name": "stdout",
     "output_type": "stream",
     "text": [
      "f [False  True  True  True  True  True False  True False False  True  True\n",
      "  True  True  True  True  True  True  True]\n",
      "mi [ True  True  True  True False  True False  True  True  True  True False\n",
      "  True  True  True False  True  True  True]\n"
     ]
    }
   ],
   "source": [
    "from sklearn.feature_selection import SelectKBest\n",
    "from sklearn.feature_selection import mutual_info_classif\n",
    "from sklearn.feature_selection import f_classif\n",
    "\n",
    "f = SelectKBest(f_classif, k=15)\n",
    "mi = SelectKBest(mutual_info_classif, k=15)\n",
    "                \n",
    "f.fit(X_smote, y_smote)\n",
    "mi.fit(X_smote, y_smote)\n",
    "\n",
    "print('f', f.get_support())\n",
    "print('mi', mi.get_support())"
   ]
  },
  {
   "cell_type": "code",
   "execution_count": 6,
   "metadata": {
    "ExecuteTime": {
     "end_time": "2017-04-02T00:27:25.758505",
     "start_time": "2017-04-02T00:27:22.702929"
    },
    "collapsed": false
   },
   "outputs": [],
   "source": [
    "\n",
    "\n",
    "param_grid = {'C': np.logspace(-3, 2, 6),\n",
    "              'gamma': np.logspace(-3, 2, 6) / np.shape(X_train_OHE)[0]}\n",
    "\n",
    "sm = SMOTEENN()\n",
    "X_smote, y_smote = sm.fit_sample(X_train_OHE, y_train)\n",
    "\n",
    "#roc = GridSearchCV(SVC(), param_grid=param_grid, cv=5)\n",
    "#roc.fit(X_train_OHE, y_train)\n",
    "#print(grid.best_params_)\n",
    "#print(grid_score(X_smote, y_smote, scoring='roc_auc'))"
   ]
  },
  {
   "cell_type": "code",
   "execution_count": null,
   "metadata": {
    "ExecuteTime": {
     "start_time": "2017-04-02T04:27:31.408Z"
    },
    "collapsed": false
   },
   "outputs": [],
   "source": []
  },
  {
   "cell_type": "code",
   "execution_count": 16,
   "metadata": {
    "ExecuteTime": {
     "end_time": "2017-04-01T23:19:30.875098",
     "start_time": "2017-04-01T23:18:54.378701"
    },
    "collapsed": false
   },
   "outputs": [
    {
     "data": {
      "text/plain": [
       "array([[ 0.77113489,  0.22886511],\n",
       "       [ 0.75166589,  0.24833411],\n",
       "       [ 0.76911286,  0.23088714],\n",
       "       ..., \n",
       "       [ 0.23408144,  0.76591856],\n",
       "       [ 0.76048712,  0.23951288],\n",
       "       [ 0.76567808,  0.23432192]])"
      ]
     },
     "execution_count": 16,
     "metadata": {},
     "output_type": "execute_result"
    }
   ],
   "source": [
    "pipe.predict_proba(X_smote)\n"
   ]
  },
  {
   "cell_type": "code",
   "execution_count": null,
   "metadata": {
    "collapsed": true
   },
   "outputs": [],
   "source": [
    "from sklearn.linear_model import LogisticRegression\n",
    "from imblearn.pipeline import make_pipeline as imb_pipeline\n",
    "\n",
    "\n",
    "#rus = RandomUnderSampler(replacement=True)\n",
    "sm = SMOTEENN()\n",
    "X_smote, y_smote = sm.fit_sample(X_train_OHE, y_train)\n",
    "print(X_smote.shape)\n",
    "pipe = make_pipeline(LogisticRegression(C = 0.5, penalty='l1'))\n",
    "score = cross_val_score(pipe, X_smote, y_smote, cv=5, scoring = 'roc_auc')\n",
    "print(score)\n",
    "\n"
   ]
  },
  {
   "cell_type": "markdown",
   "metadata": {},
   "source": [
    "# Step3 - ModelSet2 [35 points]\n",
    "\n",
    "In this step, we expect you to perform the following steps relevant to the models you choose for set2:\n",
    "\n",
    "* feature engineering\n",
    "* validation\n",
    "* feature selection\n",
    "* final model selection\n",
    "\n",
    "You may select up to 5 models in this step for the purpose of final ensemble. We encourage you to try decition tree, random forest and gradient boosted tree methods here and pick the one which you think works best."
   ]
  },
  {
   "cell_type": "code",
   "execution_count": 4,
   "metadata": {
    "collapsed": true
   },
   "outputs": [],
   "source": [
    "#write code below, you can make multiple cells"
   ]
  },
  {
   "cell_type": "markdown",
   "metadata": {},
   "source": [
    "# Step4 - Ensemble [20 points + 10 Bonus points]\n",
    "\n",
    "In this step, we expect you to use the models created before and create new predictions. You should definitely try poor man's stacking but we encourage you to think of different ensemble techniques as well. We will judge your creativity and improvement in model performance using ensemble models and you can potentially earn 10 bonus points here."
   ]
  },
  {
   "cell_type": "code",
   "execution_count": 5,
   "metadata": {
    "collapsed": false
   },
   "outputs": [],
   "source": [
    "#write code below, you can make multiple cells\n",
    "assert True"
   ]
  }
 ],
 "metadata": {
  "anaconda-cloud": {},
  "kernelspec": {
   "display_name": "Python [Root]",
   "language": "python",
   "name": "Python [Root]"
  },
  "language_info": {
   "codemirror_mode": {
    "name": "ipython",
    "version": 3
   },
   "file_extension": ".py",
   "mimetype": "text/x-python",
   "name": "python",
   "nbconvert_exporter": "python",
   "pygments_lexer": "ipython3",
   "version": "3.5.2"
  }
 },
 "nbformat": 4,
 "nbformat_minor": 2
}
