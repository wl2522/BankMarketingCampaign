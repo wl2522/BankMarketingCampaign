{
 "cells": [
  {
   "cell_type": "markdown",
   "metadata": {},
   "source": [
    "# Submission Information:\n",
    "\n",
    "### Team Member 1:\n",
    "* UNI:  WL2522\n",
    "* Name:  Wilson Lui\n",
    "\n",
    "### Team Member 2 [optional]:\n",
    "* UNI:  \n",
    "* Name:"
   ]
  },
  {
   "cell_type": "markdown",
   "metadata": {},
   "source": [
    "# Step0 - Import Libraries, Load Data [0 points]\n",
    "\n",
    "This is the basic step where you can load the data and create train and test sets for internal validation as per your convinience."
   ]
  },
  {
   "cell_type": "code",
   "execution_count": 197,
   "metadata": {
    "ExecuteTime": {
     "end_time": "2017-04-02T22:14:19.638572",
     "start_time": "2017-04-02T22:14:19.494932"
    },
    "collapsed": false
   },
   "outputs": [],
   "source": [
    "%matplotlib inline\n",
    "\n",
    "import pandas as pd\n",
    "import numpy as np\n",
    "import matplotlib.pyplot as plt\n",
    "from collections import Counter\n",
    "\n",
    "from sklearn.model_selection import train_test_split, GridSearchCV, cross_val_score\n",
    "from sklearn.preprocessing import LabelEncoder, scale, OneHotEncoder, StandardScaler\n",
    "from sklearn.pipeline import make_pipeline\n",
    "from sklearn.metrics import roc_auc_score\n",
    "from sklearn.linear_model import LogisticRegression, LogisticRegressionCV, SGDClassifier\n",
    "from sklearn.feature_selection import RFE, SelectKBest, mutual_info_classif, f_classif\n",
    "from sklearn.svm import LinearSVC \n",
    "from sklearn.tree import DecisionTreeClassifier, ExtraTreeClassifier\n",
    "\n",
    "from imblearn.under_sampling import RandomUnderSampler\n",
    "from imblearn.combine import SMOTEENN\n",
    "from imblearn.over_sampling import SMOTE\n",
    "\n",
    "data = pd.read_csv('data\\data.csv')\n"
   ]
  },
  {
   "cell_type": "code",
   "execution_count": 198,
   "metadata": {
    "ExecuteTime": {
     "end_time": "2017-04-02T22:14:22.000065",
     "start_time": "2017-04-02T22:14:21.955493"
    },
    "collapsed": true
   },
   "outputs": [],
   "source": [
    "#Separate the ID column from the holdout set\n",
    "\n",
    "\n",
    "holdout = pd.read_csv('data\\holdout.csv')\n",
    "ID = holdout['ID']\n",
    "holdout = holdout.drop('ID', 1)\n",
    "\n",
    "\n",
    "#Remove the \"duration\" feature to avoid getting overoptimistic results\n",
    "\n",
    "\n",
    "data = data.drop('duration', 1)\n",
    "holdout = holdout.drop('duration', 1)\n"
   ]
  },
  {
   "cell_type": "code",
   "execution_count": 290,
   "metadata": {
    "ExecuteTime": {
     "end_time": "2017-04-03T00:26:24.321471",
     "start_time": "2017-04-03T00:26:24.243857"
    },
    "collapsed": false
   },
   "outputs": [
    {
     "name": "stdout",
     "output_type": "stream",
     "text": [
      "0        1\n",
      "1        3\n",
      "2        5\n",
      "3        3\n",
      "4        4\n",
      "5        1\n",
      "6        1\n",
      "7        3\n",
      "8        1\n",
      "9        5\n",
      "10       5\n",
      "11       2\n",
      "12       5\n",
      "13       4\n",
      "14       4\n",
      "15       1\n",
      "16       1\n",
      "17       2\n",
      "18       2\n",
      "19       2\n",
      "20       5\n",
      "21       5\n",
      "22       1\n",
      "23       3\n",
      "24       1\n",
      "25       5\n",
      "26       1\n",
      "27       4\n",
      "28       1\n",
      "29       2\n",
      "        ..\n",
      "32920    4\n",
      "32921    5\n",
      "32922    2\n",
      "32923    2\n",
      "32924    1\n",
      "32925    2\n",
      "32926    4\n",
      "32927    3\n",
      "32928    2\n",
      "32929    3\n",
      "32930    2\n",
      "32931    2\n",
      "32932    3\n",
      "32933    1\n",
      "32934    2\n",
      "32935    5\n",
      "32936    3\n",
      "32937    5\n",
      "32938    2\n",
      "32939    1\n",
      "32940    3\n",
      "32941    4\n",
      "32942    5\n",
      "32943    2\n",
      "32944    5\n",
      "32945    2\n",
      "32946    3\n",
      "32947    2\n",
      "32948    1\n",
      "32949    3\n",
      "Name: day_of_week, dtype: int64\n"
     ]
    }
   ],
   "source": [
    "#Convert the \"month\" and \"day_of_week\" features to integers\n",
    "\n",
    "\n",
    "months = [('mar', 3), ('apr', 4), ('may', 5), ('jun', 6), ('jul', 7), ('aug', 8),\n",
    "          ('sep', 9), ('oct', 10), ('nov', 11), ('dec', 12)]\n",
    "weekdays = [('mon', 1), ('tue', 2), ('wed', 3), ('thu', 4), ('fri', 5)]\n",
    "\n",
    "for month in months:\n",
    "    data['month'].replace(to_replace=month[0], value=month[1], inplace=True)\n",
    "    holdout['month'].replace(to_replace=month[0], value=month[1], inplace=True)\n",
    "    \n",
    "for day in weekdays:\n",
    "    data['day_of_week'].replace(to_replace=day[0], value=day[1], inplace=True)\n",
    "    \n"
   ]
  },
  {
   "cell_type": "code",
   "execution_count": 292,
   "metadata": {
    "ExecuteTime": {
     "end_time": "2017-04-03T00:26:57.541324",
     "start_time": "2017-04-03T00:26:57.338581"
    },
    "collapsed": false
   },
   "outputs": [],
   "source": [
    "#Create a copy of the dataset for encoding purposes and leave the original for visualizations\n",
    "#Separate the categorical features from the numerical ones\n",
    "#Encode category and response variable strings to integers\n",
    "#Treat \"prev_days\" as a categorical variable due to the large majority of 999 values\n",
    "\n",
    "\n",
    "num = ['age', 'month', 'day_of_week', 'campaign', 'prev_contacts','emp_var_rate',\n",
    "       'cons_price_idx', 'cons_conf_idx', 'euribor3m', 'nr_employed']\n",
    "\n",
    "cat = ['job', 'marital_status', 'education', 'credit_default', 'housing',\n",
    "       'loan', 'contact', 'prev_days', 'prev_outcomes']\n",
    "\n",
    "\n",
    "enc_data = data.copy()\n",
    "enc_holdout = holdout.copy()\n",
    "\n",
    "le = LabelEncoder()\n",
    "\n",
    "\n",
    "for col in cat:\n",
    "    levels = np.concatenate((enc_data[col].unique(), enc_holdout[col].unique()))\n",
    "    le.fit(levels)\n",
    "    enc_data[col] = le.transform(enc_data[col])\n",
    "    enc_holdout[col] = le.transform(enc_holdout[col])\n"
   ]
  },
  {
   "cell_type": "code",
   "execution_count": 293,
   "metadata": {
    "ExecuteTime": {
     "end_time": "2017-04-03T00:26:59.479214",
     "start_time": "2017-04-03T00:26:59.452687"
    },
    "collapsed": true
   },
   "outputs": [],
   "source": [
    "#Encode the response variable\n",
    "#Separate the features from the response variable\n",
    "\n",
    "\n",
    "levels = enc_data['subscribed'].unique()\n",
    "le.fit(levels)\n",
    "enc_data['subscribed'] = le.transform(enc_data['subscribed'])\n",
    "\n",
    "X = enc_data.iloc[:,:-1]\n",
    "y = enc_data.iloc[:,-1]\n"
   ]
  },
  {
   "cell_type": "code",
   "execution_count": 294,
   "metadata": {
    "ExecuteTime": {
     "end_time": "2017-04-03T00:27:02.781213",
     "start_time": "2017-04-03T00:27:01.354164"
    },
    "collapsed": false
   },
   "outputs": [],
   "source": [
    "#Balance the dataset using Random Undersampling, SMOTE, and SMOTE + Edited Nearest Neighbors\n",
    "#Create a different train/test split for each balanced datasert\n",
    "\n",
    "\n",
    "rus = RandomUnderSampler(replacement=True)\n",
    "sm = SMOTE()\n",
    "enn = SMOTEENN()\n",
    "\n",
    "X_rus, y_rus = rus.fit_sample(X, y)\n",
    "X_sm, y_sm = sm.fit_sample(X, y)\n",
    "X_enn, y_enn = enn.fit_sample(X, y)\n",
    "\n",
    "X_train_rus, X_test_rus, y_train_rus, y_test_rus = train_test_split(X_rus, y_rus, stratify=y_rus)\n",
    "X_train_sm, X_test_sm, y_train_sm, y_test_sm = train_test_split(X_sm, y_sm, stratify=y_sm)\n",
    "X_train_enn, X_test_enn, y_train_enn, y_test_enn = train_test_split(X_enn, y_enn, stratify=y_enn)\n"
   ]
  },
  {
   "cell_type": "markdown",
   "metadata": {},
   "source": [
    "# Step1 - Exploration and Preparation [10 points]\n",
    "\n",
    "In this step, we expect you to look into the data and try to understand it before modeling. This understanding may lead to some basic data preparation steps which are common across the two model sets required."
   ]
  },
  {
   "cell_type": "code",
   "execution_count": 62,
   "metadata": {
    "ExecuteTime": {
     "end_time": "2017-04-01T15:09:42.285993",
     "start_time": "2017-04-01T15:09:42.238927"
    },
    "collapsed": true
   },
   "outputs": [
    {
     "data": {
      "text/html": [
       "<div>\n",
       "<table border=\"1\" class=\"dataframe\">\n",
       "  <thead>\n",
       "    <tr style=\"text-align: right;\">\n",
       "      <th></th>\n",
       "      <th>age</th>\n",
       "      <th>campaign</th>\n",
       "      <th>prev_days</th>\n",
       "      <th>prev_contacts</th>\n",
       "      <th>emp_var_rate</th>\n",
       "      <th>cons_price_idx</th>\n",
       "      <th>cons_conf_idx</th>\n",
       "      <th>euribor3m</th>\n",
       "      <th>nr_employed</th>\n",
       "    </tr>\n",
       "  </thead>\n",
       "  <tbody>\n",
       "    <tr>\n",
       "      <th>count</th>\n",
       "      <td>32950.000000</td>\n",
       "      <td>32950.000000</td>\n",
       "      <td>32950.000000</td>\n",
       "      <td>32950.000000</td>\n",
       "      <td>32950.000000</td>\n",
       "      <td>32950.000000</td>\n",
       "      <td>32950.000000</td>\n",
       "      <td>32950.000000</td>\n",
       "      <td>32950.000000</td>\n",
       "    </tr>\n",
       "    <tr>\n",
       "      <th>mean</th>\n",
       "      <td>40.019059</td>\n",
       "      <td>2.641639</td>\n",
       "      <td>961.537906</td>\n",
       "      <td>0.174385</td>\n",
       "      <td>0.080115</td>\n",
       "      <td>93.583705</td>\n",
       "      <td>-40.496740</td>\n",
       "      <td>3.618901</td>\n",
       "      <td>5166.932832</td>\n",
       "    </tr>\n",
       "    <tr>\n",
       "      <th>std</th>\n",
       "      <td>10.850807</td>\n",
       "      <td>2.803230</td>\n",
       "      <td>189.209917</td>\n",
       "      <td>0.498989</td>\n",
       "      <td>1.573180</td>\n",
       "      <td>1.162662</td>\n",
       "      <td>4.645301</td>\n",
       "      <td>1.737149</td>\n",
       "      <td>72.439480</td>\n",
       "    </tr>\n",
       "    <tr>\n",
       "      <th>min</th>\n",
       "      <td>17.000000</td>\n",
       "      <td>1.000000</td>\n",
       "      <td>0.000000</td>\n",
       "      <td>0.000000</td>\n",
       "      <td>-3.695294</td>\n",
       "      <td>88.311974</td>\n",
       "      <td>-52.220779</td>\n",
       "      <td>0.325461</td>\n",
       "      <td>4963.600000</td>\n",
       "    </tr>\n",
       "    <tr>\n",
       "      <th>25%</th>\n",
       "      <td>32.000000</td>\n",
       "      <td>1.000000</td>\n",
       "      <td>999.000000</td>\n",
       "      <td>0.000000</td>\n",
       "      <td>-1.724208</td>\n",
       "      <td>92.800661</td>\n",
       "      <td>-43.087110</td>\n",
       "      <td>1.377065</td>\n",
       "      <td>5101.000000</td>\n",
       "    </tr>\n",
       "    <tr>\n",
       "      <th>50%</th>\n",
       "      <td>38.000000</td>\n",
       "      <td>2.000000</td>\n",
       "      <td>999.000000</td>\n",
       "      <td>0.000000</td>\n",
       "      <td>1.085053</td>\n",
       "      <td>93.586959</td>\n",
       "      <td>-41.685507</td>\n",
       "      <td>4.800570</td>\n",
       "      <td>5194.000000</td>\n",
       "    </tr>\n",
       "    <tr>\n",
       "      <th>75%</th>\n",
       "      <td>47.000000</td>\n",
       "      <td>3.000000</td>\n",
       "      <td>999.000000</td>\n",
       "      <td>0.000000</td>\n",
       "      <td>1.366367</td>\n",
       "      <td>94.381404</td>\n",
       "      <td>-36.404580</td>\n",
       "      <td>4.943674</td>\n",
       "      <td>5226.000000</td>\n",
       "    </tr>\n",
       "    <tr>\n",
       "      <th>max</th>\n",
       "      <td>97.000000</td>\n",
       "      <td>56.000000</td>\n",
       "      <td>999.000000</td>\n",
       "      <td>7.000000</td>\n",
       "      <td>1.785673</td>\n",
       "      <td>98.263042</td>\n",
       "      <td>-25.323735</td>\n",
       "      <td>5.362403</td>\n",
       "      <td>5249.000000</td>\n",
       "    </tr>\n",
       "  </tbody>\n",
       "</table>\n",
       "</div>"
      ],
      "text/plain": [
       "                age      campaign     prev_days  prev_contacts  emp_var_rate  \\\n",
       "count  32950.000000  32950.000000  32950.000000   32950.000000  32950.000000   \n",
       "mean      40.019059      2.641639    961.537906       0.174385      0.080115   \n",
       "std       10.850807      2.803230    189.209917       0.498989      1.573180   \n",
       "min       17.000000      1.000000      0.000000       0.000000     -3.695294   \n",
       "25%       32.000000      1.000000    999.000000       0.000000     -1.724208   \n",
       "50%       38.000000      2.000000    999.000000       0.000000      1.085053   \n",
       "75%       47.000000      3.000000    999.000000       0.000000      1.366367   \n",
       "max       97.000000     56.000000    999.000000       7.000000      1.785673   \n",
       "\n",
       "       cons_price_idx  cons_conf_idx     euribor3m   nr_employed  \n",
       "count    32950.000000   32950.000000  32950.000000  32950.000000  \n",
       "mean        93.583705     -40.496740      3.618901   5166.932832  \n",
       "std          1.162662       4.645301      1.737149     72.439480  \n",
       "min         88.311974     -52.220779      0.325461   4963.600000  \n",
       "25%         92.800661     -43.087110      1.377065   5101.000000  \n",
       "50%         93.586959     -41.685507      4.800570   5194.000000  \n",
       "75%         94.381404     -36.404580      4.943674   5226.000000  \n",
       "max         98.263042     -25.323735      5.362403   5249.000000  "
      ]
     },
     "execution_count": 62,
     "metadata": {},
     "output_type": "execute_result"
    }
   ],
   "source": [
    "#Get summary statistics on the data\n",
    "\n",
    "\n",
    "data.describe()"
   ]
  },
  {
   "cell_type": "code",
   "execution_count": 3,
   "metadata": {
    "ExecuteTime": {
     "end_time": "2017-03-31T20:59:11.253843",
     "start_time": "2017-03-31T20:59:11.060658"
    },
    "collapsed": true
   },
   "outputs": [
    {
     "name": "stdout",
     "output_type": "stream",
     "text": [
      "Counter({'admin.': 8342, 'blue-collar': 7408, 'technician': 5371, 'services': 3168, 'management': 2340, 'retired': 1390, 'entrepreneur': 1198, 'self-employed': 1140, 'housemaid': 827, 'unemployed': 797, 'student': 708, 'unknown': 261})\n"
     ]
    },
    {
     "data": {
      "text/plain": [
       "([<matplotlib.axis.XTick at 0x265691f5400>,\n",
       "  <matplotlib.axis.XTick at 0x26568d6bb70>,\n",
       "  <matplotlib.axis.XTick at 0x265691e0828>,\n",
       "  <matplotlib.axis.XTick at 0x265691a74a8>,\n",
       "  <matplotlib.axis.XTick at 0x265691a7e80>,\n",
       "  <matplotlib.axis.XTick at 0x265691aa898>,\n",
       "  <matplotlib.axis.XTick at 0x265691ae2b0>,\n",
       "  <matplotlib.axis.XTick at 0x265691aec88>,\n",
       "  <matplotlib.axis.XTick at 0x265691b56a0>,\n",
       "  <matplotlib.axis.XTick at 0x265691b80b8>,\n",
       "  <matplotlib.axis.XTick at 0x265691b8a90>,\n",
       "  <matplotlib.axis.XTick at 0x265691bd4a8>],\n",
       " <a list of 12 Text xticklabel objects>)"
      ]
     },
     "execution_count": 3,
     "metadata": {},
     "output_type": "execute_result"
    },
    {
     "data": {
      "image/png": "[encoded data removed]",
      "text/plain": [
       "<matplotlib.figure.Figure at 0x26564632b70>"
      ]
     },
     "metadata": {},
     "output_type": "display_data"
    }
   ],
   "source": [
    "#Examine the distribution of job categories\n",
    "\n",
    "\n",
    "job_count = Counter(data['job'])\n",
    "print(job_count)\n",
    "plt.bar(range(len(job_count)), job_count.values(), align='center')\n",
    "plt.xticks(range(len(job_count)), list(job_count.keys()), rotation='vertical')\n"
   ]
  },
  {
   "cell_type": "code",
   "execution_count": 4,
   "metadata": {
    "ExecuteTime": {
     "end_time": "2017-03-31T20:59:11.394478",
     "start_time": "2017-03-31T20:59:11.254844"
    },
    "collapsed": true
   },
   "outputs": [
    {
     "name": "stdout",
     "output_type": "stream",
     "text": [
      "Counter({'married': 19955, 'single': 9256, 'divorced': 3676, 'unknown': 63})\n"
     ]
    },
    {
     "data": {
      "text/plain": [
       "([<matplotlib.axis.XTick at 0x26569153080>,\n",
       "  <matplotlib.axis.XTick at 0x26569265cc0>,\n",
       "  <matplotlib.axis.XTick at 0x2656924ff98>,\n",
       "  <matplotlib.axis.XTick at 0x2656974ee80>],\n",
       " <a list of 4 Text xticklabel objects>)"
      ]
     },
     "execution_count": 4,
     "metadata": {},
     "output_type": "execute_result"
    },
    {
     "data": {
      "image/png": "[encoded data removed]",
      "text/plain": [
       "<matplotlib.figure.Figure at 0x26564632278>"
      ]
     },
     "metadata": {},
     "output_type": "display_data"
    }
   ],
   "source": [
    "#Examine the distribution of marital statuses\n",
    "\n",
    "\n",
    "marital_count = Counter(data['marital_status'])\n",
    "print(marital_count)\n",
    "plt.bar(range(len(marital_count)), marital_count.values(), align='center')\n",
    "plt.xticks(range(len(marital_count)), list(marital_count.keys()), rotation='vertical')\n"
   ]
  },
  {
   "cell_type": "code",
   "execution_count": 5,
   "metadata": {
    "ExecuteTime": {
     "end_time": "2017-03-31T20:59:11.552128",
     "start_time": "2017-03-31T20:59:11.395479"
    },
    "collapsed": true
   },
   "outputs": [
    {
     "name": "stdout",
     "output_type": "stream",
     "text": [
      "Counter({'university.degree': 9760, 'high.school': 7580, 'basic.9y': 4889, 'professional.course': 4154, 'basic.4y': 3313, 'basic.6y': 1846, 'unknown': 1394, 'illiterate': 14})\n"
     ]
    },
    {
     "data": {
      "text/plain": [
       "([<matplotlib.axis.XTick at 0x2656919ba58>,\n",
       "  <matplotlib.axis.XTick at 0x26569784080>,\n",
       "  <matplotlib.axis.XTick at 0x2656976d588>,\n",
       "  <matplotlib.axis.XTick at 0x265697cf0b8>,\n",
       "  <matplotlib.axis.XTick at 0x265697cfa90>,\n",
       "  <matplotlib.axis.XTick at 0x265697d34a8>,\n",
       "  <matplotlib.axis.XTick at 0x265697d3e80>,\n",
       "  <matplotlib.axis.XTick at 0x265697d8898>],\n",
       " <a list of 8 Text xticklabel objects>)"
      ]
     },
     "execution_count": 5,
     "metadata": {},
     "output_type": "execute_result"
    },
    {
     "data": {
      "image/png": "[encoded data removed]",
      "text/plain": [
       "<matplotlib.figure.Figure at 0x265697614a8>"
      ]
     },
     "metadata": {},
     "output_type": "display_data"
    }
   ],
   "source": [
    "#Examine the distribution of education levels\n",
    "\n",
    "\n",
    "education_count = Counter(data['education'])\n",
    "print(education_count)\n",
    "plt.bar(range(len(education_count)), education_count.values(), align='center')\n",
    "plt.xticks(range(len(education_count)), list(education_count.keys()), rotation='vertical')\n"
   ]
  },
  {
   "cell_type": "code",
   "execution_count": 56,
   "metadata": {
    "ExecuteTime": {
     "end_time": "2017-04-02T14:42:36.287367",
     "start_time": "2017-04-02T14:42:36.063555"
    },
    "collapsed": false
   },
   "outputs": [
    {
     "name": "stdout",
     "output_type": "stream",
     "text": [
      "Counter({'may': 11016, 'jul': 5716, 'aug': 4954, 'jun': 4272, 'nov': 3299, 'apr': 2097, 'oct': 540, 'sep': 465, 'mar': 437, 'dec': 154})\n"
     ]
    },
    {
     "data": {
      "text/plain": [
       "([<matplotlib.axis.XTick at 0x1b436d3cd68>,\n",
       "  <matplotlib.axis.XTick at 0x1b436dde0f0>,\n",
       "  <matplotlib.axis.XTick at 0x1b436da65c0>,\n",
       "  <matplotlib.axis.XTick at 0x1b435a57940>,\n",
       "  <matplotlib.axis.XTick at 0x1b435a62358>,\n",
       "  <matplotlib.axis.XTick at 0x1b435a62d30>,\n",
       "  <matplotlib.axis.XTick at 0x1b435a65748>,\n",
       "  <matplotlib.axis.XTick at 0x1b435a6b160>,\n",
       "  <matplotlib.axis.XTick at 0x1b435a6bb38>,\n",
       "  <matplotlib.axis.XTick at 0x1b435a6f550>],\n",
       " <a list of 10 Text xticklabel objects>)"
      ]
     },
     "execution_count": 56,
     "metadata": {},
     "output_type": "execute_result"
    },
    {
     "data": {
      "image/png": "[encoded data removed]",
      "text/plain": [
       "<matplotlib.figure.Figure at 0x1b436d39198>"
      ]
     },
     "metadata": {},
     "output_type": "display_data"
    }
   ],
   "source": [
    "#Examine the distribution of call months\n",
    "\n",
    "\n",
    "month_count = Counter(data['month'])\n",
    "print(month_count)\n",
    "plt.bar(range(len(month_count)), month_count.values(), align='center')\n",
    "plt.xticks(range(len(month_count)), list(month_count.keys()), rotation='vertical')\n"
   ]
  },
  {
   "cell_type": "code",
   "execution_count": 58,
   "metadata": {
    "ExecuteTime": {
     "end_time": "2017-04-02T14:46:02.165554",
     "start_time": "2017-04-02T14:46:02.023922"
    },
    "collapsed": false
   },
   "outputs": [
    {
     "name": "stdout",
     "output_type": "stream",
     "text": [
      "Counter({'thu': 6945, 'mon': 6749, 'wed': 6531, 'tue': 6495, 'fri': 6230})\n"
     ]
    },
    {
     "data": {
      "text/plain": [
       "([<matplotlib.axis.XTick at 0x1b436e87c50>,\n",
       "  <matplotlib.axis.XTick at 0x1b435aa2b70>,\n",
       "  <matplotlib.axis.XTick at 0x1b436e8bd68>,\n",
       "  <matplotlib.axis.XTick at 0x1b436edeb38>,\n",
       "  <matplotlib.axis.XTick at 0x1b436ee2550>],\n",
       " <a list of 5 Text xticklabel objects>)"
      ]
     },
     "execution_count": 58,
     "metadata": {},
     "output_type": "execute_result"
    },
    {
     "data": {
      "image/png": "[encoded data removed]",
      "text/plain": [
       "<matplotlib.figure.Figure at 0x1b436d9beb8>"
      ]
     },
     "metadata": {},
     "output_type": "display_data"
    }
   ],
   "source": [
    "#Examine the distribution of days of the week\n",
    "\n",
    "\n",
    "week_count = Counter(data['day_of_week'])\n",
    "print(week_count)\n",
    "plt.bar(range(len(week_count)), week_count.values(), align='center')\n",
    "plt.xticks(range(len(week_count)), list(week_count.keys()), rotation='vertical')\n"
   ]
  },
  {
   "cell_type": "code",
   "execution_count": 174,
   "metadata": {
    "ExecuteTime": {
     "end_time": "2017-04-02T20:06:06.759518",
     "start_time": "2017-04-02T20:06:06.425647"
    },
    "collapsed": false
   },
   "outputs": [
    {
     "name": "stdout",
     "output_type": "stream",
     "text": [
      "Counter({999: 31707, 3: 373, 6: 332, 4: 105, 9: 55, 7: 48, 2: 46, 12: 45, 5: 42, 10: 40, 13: 26, 11: 23, 1: 19, 15: 18, 14: 17, 8: 13, 0: 11, 16: 10, 17: 5, 18: 4, 19: 3, 22: 3, 21: 2, 20: 1, 26: 1, 27: 1})\n"
     ]
    },
    {
     "data": {
      "text/plain": [
       "([<matplotlib.axis.XTick at 0x1b4386670b8>,\n",
       "  <matplotlib.axis.XTick at 0x1b43867ffd0>,\n",
       "  <matplotlib.axis.XTick at 0x1b438330940>,\n",
       "  <matplotlib.axis.XTick at 0x1b4383227f0>,\n",
       "  <matplotlib.axis.XTick at 0x1b43831c780>,\n",
       "  <matplotlib.axis.XTick at 0x1b43794d358>,\n",
       "  <matplotlib.axis.XTick at 0x1b4379b73c8>,\n",
       "  <matplotlib.axis.XTick at 0x1b4379b7940>,\n",
       "  <matplotlib.axis.XTick at 0x1b4379be470>,\n",
       "  <matplotlib.axis.XTick at 0x1b4379b5630>,\n",
       "  <matplotlib.axis.XTick at 0x1b4379b5ef0>,\n",
       "  <matplotlib.axis.XTick at 0x1b437943ba8>,\n",
       "  <matplotlib.axis.XTick at 0x1b4384164a8>,\n",
       "  <matplotlib.axis.XTick at 0x1b4382ba278>,\n",
       "  <matplotlib.axis.XTick at 0x1b437931be0>,\n",
       "  <matplotlib.axis.XTick at 0x1b4379c2898>,\n",
       "  <matplotlib.axis.XTick at 0x1b4379c2c50>,\n",
       "  <matplotlib.axis.XTick at 0x1b438260d68>,\n",
       "  <matplotlib.axis.XTick at 0x1b438266e48>,\n",
       "  <matplotlib.axis.XTick at 0x1b4379dd940>,\n",
       "  <matplotlib.axis.XTick at 0x1b4379367b8>,\n",
       "  <matplotlib.axis.XTick at 0x1b43826a8d0>,\n",
       "  <matplotlib.axis.XTick at 0x1b4382710b8>,\n",
       "  <matplotlib.axis.XTick at 0x1b438271ef0>,\n",
       "  <matplotlib.axis.XTick at 0x1b438283c18>,\n",
       "  <matplotlib.axis.XTick at 0x1b4379d3fd0>],\n",
       " <a list of 26 Text xticklabel objects>)"
      ]
     },
     "execution_count": 174,
     "metadata": {},
     "output_type": "execute_result"
    },
    {
     "data": {
      "image/png": "[encoded data removed]",
      "text/plain": [
       "<matplotlib.figure.Figure at 0x1b438416a58>"
      ]
     },
     "metadata": {},
     "output_type": "display_data"
    }
   ],
   "source": [
    "#Examine the distribution of previous days since last contact\n",
    "\n",
    "\n",
    "days_count = Counter(data['prev_days'])\n",
    "print(days_count)\n",
    "plt.bar(range(len(days_count)), days_count.values(), align='center')\n",
    "plt.xticks(range(len(days_count)), list(days_count.keys()))\n"
   ]
  },
  {
   "cell_type": "code",
   "execution_count": 6,
   "metadata": {
    "ExecuteTime": {
     "end_time": "2017-03-31T20:59:11.957536",
     "start_time": "2017-03-31T20:59:11.553631"
    },
    "collapsed": true
   },
   "outputs": [
    {
     "name": "stdout",
     "output_type": "stream",
     "text": [
      "Counter({'no': 26059, 'unknown': 6888, 'yes': 3})\n",
      "Counter({'yes': 17176, 'no': 14974, 'unknown': 800})\n",
      "Counter({'no': 27179, 'yes': 4971, 'unknown': 800})\n",
      "Counter({'cellular': 20902, 'telephone': 12048})\n"
     ]
    },
    {
     "data": {
      "text/plain": [
       "<matplotlib.text.Text at 0x26569daddd8>"
      ]
     },
     "execution_count": 6,
     "metadata": {},
     "output_type": "execute_result"
    },
    {
     "data": {
      "image/png": "[encoded data removed]",
      "text/plain": [
       "<matplotlib.figure.Figure at 0x265697e7dd8>"
      ]
     },
     "metadata": {},
     "output_type": "display_data"
    }
   ],
   "source": [
    "#Examine distribution of binary variables\n",
    "\n",
    "\n",
    "default_count = Counter(data['credit_default'])\n",
    "housing_count = Counter(data['housing'])\n",
    "loan_count = Counter(data['loan'])\n",
    "contact_count = Counter(data['contact'])\n",
    "print(default_count)\n",
    "print(housing_count)\n",
    "print(loan_count)\n",
    "print(contact_count)\n",
    "\n",
    "ax1 = plt.subplot('331')\n",
    "plt.bar(range(len(default_count)), default_count.values(), align='center')\n",
    "plt.xticks(range(len(default_count)), list(default_count.keys()), rotation='vertical')\n",
    "ax1.set_title('Has Credit Defaults?')\n",
    "\n",
    "ax2 = plt.subplot('333')\n",
    "plt.bar(range(len(housing_count)), housing_count.values(), align='center')\n",
    "plt.xticks(range(len(housing_count)), list(housing_count.keys()), rotation='vertical')\n",
    "ax2.set_title('Has Housing Loans?')\n",
    "\n",
    "ax3 = plt.subplot('337')\n",
    "plt.bar(range(len(loan_count)), loan_count.values(), align='center')\n",
    "plt.xticks(range(len(loan_count)), list(loan_count.keys()), rotation='vertical')\n",
    "ax3.set_title('Has Personal Loans?')\n",
    "\n",
    "ax4 = plt.subplot('339')\n",
    "plt.bar(range(len(contact_count)), contact_count.values(), align='center')\n",
    "plt.xticks(range(len(contact_count)), list(contact_count), rotation='vertical')\n",
    "ax4.set_title('Method of Communication')\n"
   ]
  },
  {
   "cell_type": "code",
   "execution_count": 102,
   "metadata": {
    "ExecuteTime": {
     "end_time": "2017-04-02T16:46:47.112604",
     "start_time": "2017-04-02T16:46:46.832324"
    },
    "collapsed": false,
    "scrolled": true
   },
   "outputs": [
    {
     "name": "stdout",
     "output_type": "stream",
     "text": [
      "nr_employed/euribor3m correlation \n",
      " [[ 1.         0.9418152]\n",
      " [ 0.9418152  1.       ]]\n",
      "nr_employed/emp_var_rate correlation \n",
      " [[ 1.          0.90294658]\n",
      " [ 0.90294658  1.        ]]\n"
     ]
    },
    {
     "data": {
      "image/png": "[encoded data removed]",
      "text/plain": [
       "<matplotlib.figure.Figure at 0x1b437c132e8>"
      ]
     },
     "metadata": {},
     "output_type": "display_data"
    }
   ],
   "source": [
    "#Create covariance matrix heatmap to check for correlated features\n",
    "\n",
    "\n",
    "cov = np.cov(scale(X_train), rowvar = False)\n",
    "plt.imshow(cov, cmap='viridis', interpolation='nearest')\n",
    "plt.xticks(range(len(list(X_train))), list(X_train), rotation = 'vertical')\n",
    "plt.yticks(range(len(list(X_train))), list(X_train))\n",
    "\n",
    "print('nr_employed/euribor3m correlation \\n', np.corrcoef(data['nr_employed'], data['euribor3m']))\n",
    "print('nr_employed/emp_var_rate correlation \\n', np.corrcoef(data['nr_employed'], data['emp_var_rate']))"
   ]
  },
  {
   "cell_type": "markdown",
   "metadata": {},
   "source": [
    "# Step2 - ModelSet1 [35 points]\n",
    "\n",
    "In this step, we expect you to perform the following steps relevant to the models you choose for set1:\n",
    "\n",
    "* feature engineering\n",
    "* validation\n",
    "* feature selection\n",
    "* final model selection\n",
    "\n",
    "You may select up to 5 models in this step for the purpose of final ensemble. Any classification algorithm covered in class apart from tree-based models can be tested here."
   ]
  },
  {
   "cell_type": "code",
   "execution_count": 295,
   "metadata": {
    "ExecuteTime": {
     "end_time": "2017-04-03T00:27:33.111313",
     "start_time": "2017-04-03T00:27:33.102320"
    },
    "collapsed": false
   },
   "outputs": [],
   "source": [
    "#Perform One Hot Encoding on each training sets\n",
    "\n",
    "\n",
    "discrete = [1, 2, 3, 4, 5, 6, 7, 11, 13]\n",
    "\n",
    "def OHE(X, discrete_features):\n",
    "    \"\"\"Performs one hot encoding on the input array using scikit-learn's \n",
    "    OneHotEncoder()\n",
    "    \n",
    "    Parameters\n",
    "    ----------\n",
    "    X : NumPy array\n",
    "    discrete_features : list\n",
    "    \n",
    "    Returns\n",
    "    -------\n",
    "    NumPy array\n",
    "        array with the categorical features replaced with encoded features\n",
    "    \n",
    "    \"\"\"\n",
    "\n",
    "    OHE = OneHotEncoder().fit(X[:, [discrete_features]].reshape(-1,1))\n",
    "    enc_discrete = OHE.transform(X[:,1].reshape(-1,1)).toarray()\n",
    "\n",
    "    for col in discrete_features[1:]:\n",
    "        enc = OneHotEncoder().fit_transform(X[:, col].reshape(-1,1)).toarray()\n",
    "        enc_discrete = np.append(enc_discrete, enc, axis = 1)\n",
    "\n",
    "    X = np.delete(X, discrete_features, axis=1)\n",
    "    X = np.append(X, enc_discrete, axis = 1)\n",
    "    \n",
    "    return X\n"
   ]
  },
  {
   "cell_type": "code",
   "execution_count": 296,
   "metadata": {
    "ExecuteTime": {
     "end_time": "2017-04-03T00:29:37.908836",
     "start_time": "2017-04-03T00:27:36.712557"
    },
    "collapsed": false
   },
   "outputs": [
    {
     "name": "stdout",
     "output_type": "stream",
     "text": [
      "sm [ 9 10  1  4  1  5  1  1  6  3  1  7  1  1  1  2  1  1  8]\n",
      "rus [ 1  8  1  1  1 10  3  1  1  2  1  7  1  1  6  4  5  1  9]\n",
      "enn [10  7  1  2  1  6  1  1  3  4  1  8  1  1  5  1  1  1  9]\n"
     ]
    }
   ],
   "source": [
    "#Determine feature importance with RFE using SVMs\n",
    "\n",
    "\n",
    "svc = LinearSVC()\n",
    "svc_rfe = RFE(svc, n_features_to_select = 10)\n",
    "\n",
    "sm = svc_rfe.fit(X_train_sm, y_train_sm)\n",
    "print('sm', sm.ranking_)\n",
    "\n",
    "rus = svc_rfe.fit(X_train_rus, y_train_rus)\n",
    "print('rus', rus.ranking_)\n",
    "\n",
    "enn = svc_rfe.fit(X_train_enn, y_train_enn)\n",
    "print('enn', enn.ranking_)\n"
   ]
  },
  {
   "cell_type": "code",
   "execution_count": 297,
   "metadata": {
    "ExecuteTime": {
     "end_time": "2017-04-03T00:29:46.694143",
     "start_time": "2017-04-03T00:29:37.909819"
    },
    "collapsed": false
   },
   "outputs": [
    {
     "name": "stdout",
     "output_type": "stream",
     "text": [
      "sm [ 8  7  1  3  1  5  1  1 10  4  1  6  1  1  1  1  2  1  9]\n",
      "rus [ 8  7  1  3  1  5  1  1 10  4  1  6  1  1  1  1  2  1  9]\n",
      "enn [ 8  7  1  3  1  5  1  1 10  4  1  6  1  1  1  1  2  1  9]\n"
     ]
    }
   ],
   "source": [
    "#Determine feature importance with RFE using Logistic Regression\n",
    "\n",
    "\n",
    "lr = LogisticRegression(n_jobs=8)\n",
    "lr_rfe = RFE(lr, n_features_to_select = 10)\n",
    "\n",
    "sm_lr = lr_rfe.fit(X_train_sm, y_train_sm)\n",
    "rus_lr = lr_rfe.fit(X_train_rus, y_train_rus)\n",
    "enn_lr = lr_rfe.fit(X_train_enn, y_train_enn)\n",
    "\n",
    "print('sm', sm_lr.ranking_)\n",
    "print('rus', rus_lr.ranking_)\n",
    "print('enn', enn_lr.ranking_)\n"
   ]
  },
  {
   "cell_type": "code",
   "execution_count": 298,
   "metadata": {
    "ExecuteTime": {
     "end_time": "2017-04-03T00:29:55.635900",
     "start_time": "2017-04-03T00:29:46.695143"
    },
    "collapsed": false
   },
   "outputs": [
    {
     "name": "stdout",
     "output_type": "stream",
     "text": [
      "f [False False False False  True False False  True False False  True  True\n",
      "  True  True  True  True False  True  True]\n",
      "mi [ True  True  True  True False  True False False  True  True  True False\n",
      " False False False False False  True  True]\n"
     ]
    }
   ],
   "source": [
    "#Determine feature importance with F-scores, mutual information, and SelectKBest\n",
    "\n",
    "\n",
    "f = SelectKBest(f_classif, k=10)\n",
    "mi = SelectKBest(mutual_info_classif, k=10)\n",
    "                \n",
    "f.fit(X_train_sm, y_train_sm)\n",
    "mi.fit(X_train_sm, y_train_sm)\n",
    "\n",
    "print('f', f.get_support())\n",
    "print('mi', mi.get_support())\n"
   ]
  },
  {
   "cell_type": "code",
   "execution_count": 300,
   "metadata": {
    "ExecuteTime": {
     "end_time": "2017-04-03T00:31:18.275268",
     "start_time": "2017-04-03T00:30:34.146214"
    },
    "collapsed": false
   },
   "outputs": [
    {
     "name": "stdout",
     "output_type": "stream",
     "text": [
      "sm [ 0.     0.06   0.7    0.785  1.     0.02   0.5    1.     0.275  0.37   1.\n",
      "  0.89   0.16   1.     0.62   0.075  0.98   0.125  1.   ]\n",
      "rus [ 0.     0.06   0.7    0.785  1.     0.02   0.5    1.     0.275  0.37   1.\n",
      "  0.89   0.16   1.     0.62   0.075  0.98   0.125  1.   ]\n",
      "enn [ 0.     0.06   0.7    0.785  1.     0.02   0.5    1.     0.275  0.37   1.\n",
      "  0.89   0.16   1.     0.62   0.075  0.98   0.125  1.   ]\n"
     ]
    }
   ],
   "source": [
    "#Determine feature importance with stability selection using Logistic Regression\n",
    "\n",
    "\n",
    "from sklearn.linear_model import RandomizedLogisticRegression\n",
    "\n",
    "rlr = RandomizedLogisticRegression()\n",
    "\n",
    "rus_rlr = rlr.fit(X_train_rus, y_train_rus)\n",
    "sm_rlr = rlr.fit(X_train_sm, y_train_sm)\n",
    "enn_rlr = rlr.fit(X_train_enn, y_train_enn)\n",
    "\n",
    "print('sm', sm_rlr.scores_)\n",
    "print('rus', rus_rlr.scores_)\n",
    "print('enn', enn_rlr.scores_)\n"
   ]
  },
  {
   "cell_type": "code",
   "execution_count": 301,
   "metadata": {
    "ExecuteTime": {
     "end_time": "2017-04-03T00:32:16.604105",
     "start_time": "2017-04-03T00:31:18.276252"
    },
    "collapsed": false
   },
   "outputs": [
    {
     "name": "stdout",
     "output_type": "stream",
     "text": [
      "rus 0.782992145359\n",
      "sm 0.876977292477\n",
      "enn 0.880473828847\n"
     ]
    }
   ],
   "source": [
    "#Drop the features deemed to be unimportant: \"age\", \"housing\", \"nr_employed\"\n",
    "#Determine the best resampling technique to use with Logistic Regression\n",
    "\n",
    "\n",
    "dropped = [0, 5, 18]\n",
    "leftover_discrete = [0, 1, 2, 3, 4, 5, 6, 7, 9, 11]\n",
    "\n",
    "X_train_rus_enc = OHE(np.delete(X_train_rus, dropped, axis=1), leftover_discrete)\n",
    "X_train_sm_enc = OHE(np.delete(X_train_sm, dropped, axis=1), leftover_discrete)\n",
    "X_train_enn_enc = OHE(np.delete(X_train_enn, dropped, axis=1), leftover_discrete)\n",
    "\n",
    "pipe = make_pipeline(StandardScaler(), LogisticRegressionCV(n_jobs=8))\n",
    "\n",
    "rus_score = cross_val_score(pipe, X_train_rus_enc, y_train_rus, cv=10, scoring='roc_auc')\n",
    "print('rus', np.mean(rus_score))\n",
    "\n",
    "sm_score = cross_val_score(pipe, X_train_sm_enc, y_train_sm, cv=10, scoring='roc_auc')\n",
    "print('sm', np.mean(sm_score))\n",
    "\n",
    "enn_score = cross_val_score(pipe, X_train_enn_enc, y_train_enn, cv=10, scoring='roc_auc')\n",
    "print('enn', np.mean(enn_score))\n",
    "    "
   ]
  },
  {
   "cell_type": "code",
   "execution_count": 305,
   "metadata": {
    "ExecuteTime": {
     "end_time": "2017-04-03T00:45:53.501147",
     "start_time": "2017-04-03T00:44:54.559780"
    },
    "collapsed": false
   },
   "outputs": [
    {
     "name": "stdout",
     "output_type": "stream",
     "text": [
      "rus 0.877305717486\n",
      "sm 0.877305717486\n",
      "enn 0.877324450539\n"
     ]
    }
   ],
   "source": [
    "#Drop the features deemed to be unimportant: \"age\", \"job\", \"housing\", \"nr_employed\"\n",
    "#Determine the best resampling technique to use with Logistic Regression\n",
    "\n",
    "\n",
    "dropped = [0, 1, 5, 18]\n",
    "leftover_discrete = [0, 1, 2, 3, 4, 5, 6, 8, 10]\n",
    "\n",
    "X_train_rus_enc = OHE(np.delete(X_train_rus, dropped, axis=1), leftover_discrete)\n",
    "X_train_sm_enc = OHE(np.delete(X_train_sm, dropped, axis=1), leftover_discrete)\n",
    "X_train_enn_enc = OHE(np.delete(X_train_enn, dropped, axis=1), leftover_discrete)\n",
    "\n",
    "pipe = make_pipeline(StandardScaler(), LogisticRegressionCV(n_jobs=8))\n",
    "\n",
    "rus_score = cross_val_score(pipe, X_train_rus_enc, y_train_rus, cv=10, scoring='roc_auc')\n",
    "print('rus', np.mean(enn_score))\n",
    "\n",
    "sm_score = cross_val_score(pipe, X_train_sm_enc, y_train_sm, cv=10, scoring='roc_auc')\n",
    "print('sm', np.mean(enn_score))\n",
    "\n",
    "enn_score = cross_val_score(pipe, X_train_enn_enc, y_train_enn, cv=10, scoring='roc_auc')\n",
    "print('enn', np.mean(enn_score))\n",
    "    "
   ]
  },
  {
   "cell_type": "code",
   "execution_count": 308,
   "metadata": {
    "ExecuteTime": {
     "end_time": "2017-04-03T00:48:14.012707",
     "start_time": "2017-04-03T00:48:12.772485"
    },
    "collapsed": false
   },
   "outputs": [
    {
     "ename": "ValueError",
     "evalue": "operands could not be broadcast together with shapes (1856,83) (85,) (1856,83) ",
     "output_type": "error",
     "traceback": [
      "\u001b[1;31m\u001b[0m",
      "\u001b[1;31mValueError\u001b[0mTraceback (most recent call last)",
      "\u001b[1;32m<ipython-input-308-57c4644b693b>\u001b[0m in \u001b[0;36m<module>\u001b[1;34m()\u001b[0m\n\u001b[0;32m      4\u001b[0m \u001b[1;33m\u001b[0m\u001b[0m\n\u001b[0;32m      5\u001b[0m \u001b[0mrus_pipe\u001b[0m \u001b[1;33m=\u001b[0m \u001b[0mpipe\u001b[0m\u001b[1;33m.\u001b[0m\u001b[0mfit\u001b[0m\u001b[1;33m(\u001b[0m\u001b[0mX_train_rus_enc\u001b[0m\u001b[1;33m,\u001b[0m \u001b[0my_train_rus\u001b[0m\u001b[1;33m)\u001b[0m\u001b[1;33m\u001b[0m\u001b[0m\n\u001b[1;32m----> 6\u001b[1;33m \u001b[0mprint\u001b[0m\u001b[1;33m(\u001b[0m\u001b[0mpipe\u001b[0m\u001b[1;33m.\u001b[0m\u001b[0mscore\u001b[0m\u001b[1;33m(\u001b[0m\u001b[0mX_test_rus_enc\u001b[0m\u001b[1;33m,\u001b[0m \u001b[0my_test_rus\u001b[0m\u001b[1;33m)\u001b[0m\u001b[1;33m)\u001b[0m\u001b[1;33m\u001b[0m\u001b[0m\n\u001b[0m\u001b[0;32m      7\u001b[0m \u001b[1;33m\u001b[0m\u001b[0m\n\u001b[0;32m      8\u001b[0m \u001b[0msm_pipe\u001b[0m \u001b[1;33m=\u001b[0m \u001b[0mpipe\u001b[0m\u001b[1;33m.\u001b[0m\u001b[0mfit\u001b[0m\u001b[1;33m(\u001b[0m\u001b[0mX_train_sm_enc\u001b[0m\u001b[1;33m,\u001b[0m \u001b[0my_train_sm\u001b[0m\u001b[1;33m)\u001b[0m\u001b[1;33m\u001b[0m\u001b[0m\n",
      "\u001b[1;32mC:\\Anaconda3\\lib\\site-packages\\sklearn\\utils\\metaestimators.py\u001b[0m in \u001b[0;36m<lambda>\u001b[1;34m(*args, **kwargs)\u001b[0m\n\u001b[0;32m     52\u001b[0m \u001b[1;33m\u001b[0m\u001b[0m\n\u001b[0;32m     53\u001b[0m         \u001b[1;31m# lambda, but not partial, allows help() to work with update_wrapper\u001b[0m\u001b[1;33m\u001b[0m\u001b[1;33m\u001b[0m\u001b[0m\n\u001b[1;32m---> 54\u001b[1;33m         \u001b[0mout\u001b[0m \u001b[1;33m=\u001b[0m \u001b[1;32mlambda\u001b[0m \u001b[1;33m*\u001b[0m\u001b[0margs\u001b[0m\u001b[1;33m,\u001b[0m \u001b[1;33m**\u001b[0m\u001b[0mkwargs\u001b[0m\u001b[1;33m:\u001b[0m \u001b[0mself\u001b[0m\u001b[1;33m.\u001b[0m\u001b[0mfn\u001b[0m\u001b[1;33m(\u001b[0m\u001b[0mobj\u001b[0m\u001b[1;33m,\u001b[0m \u001b[1;33m*\u001b[0m\u001b[0margs\u001b[0m\u001b[1;33m,\u001b[0m \u001b[1;33m**\u001b[0m\u001b[0mkwargs\u001b[0m\u001b[1;33m)\u001b[0m\u001b[1;33m\u001b[0m\u001b[0m\n\u001b[0m\u001b[0;32m     55\u001b[0m         \u001b[1;31m# update the docstring of the returned function\u001b[0m\u001b[1;33m\u001b[0m\u001b[1;33m\u001b[0m\u001b[0m\n\u001b[0;32m     56\u001b[0m         \u001b[0mupdate_wrapper\u001b[0m\u001b[1;33m(\u001b[0m\u001b[0mout\u001b[0m\u001b[1;33m,\u001b[0m \u001b[0mself\u001b[0m\u001b[1;33m.\u001b[0m\u001b[0mfn\u001b[0m\u001b[1;33m)\u001b[0m\u001b[1;33m\u001b[0m\u001b[0m\n",
      "\u001b[1;32mC:\\Anaconda3\\lib\\site-packages\\sklearn\\pipeline.py\u001b[0m in \u001b[0;36mscore\u001b[1;34m(self, X, y)\u001b[0m\n\u001b[0;32m    502\u001b[0m         \u001b[1;32mfor\u001b[0m \u001b[0mname\u001b[0m\u001b[1;33m,\u001b[0m \u001b[0mtransform\u001b[0m \u001b[1;32min\u001b[0m \u001b[0mself\u001b[0m\u001b[1;33m.\u001b[0m\u001b[0msteps\u001b[0m\u001b[1;33m[\u001b[0m\u001b[1;33m:\u001b[0m\u001b[1;33m-\u001b[0m\u001b[1;36m1\u001b[0m\u001b[1;33m]\u001b[0m\u001b[1;33m:\u001b[0m\u001b[1;33m\u001b[0m\u001b[0m\n\u001b[0;32m    503\u001b[0m             \u001b[1;32mif\u001b[0m \u001b[0mtransform\u001b[0m \u001b[1;32mis\u001b[0m \u001b[1;32mnot\u001b[0m \u001b[1;32mNone\u001b[0m\u001b[1;33m:\u001b[0m\u001b[1;33m\u001b[0m\u001b[0m\n\u001b[1;32m--> 504\u001b[1;33m                 \u001b[0mXt\u001b[0m \u001b[1;33m=\u001b[0m \u001b[0mtransform\u001b[0m\u001b[1;33m.\u001b[0m\u001b[0mtransform\u001b[0m\u001b[1;33m(\u001b[0m\u001b[0mXt\u001b[0m\u001b[1;33m)\u001b[0m\u001b[1;33m\u001b[0m\u001b[0m\n\u001b[0m\u001b[0;32m    505\u001b[0m         \u001b[1;32mreturn\u001b[0m \u001b[0mself\u001b[0m\u001b[1;33m.\u001b[0m\u001b[0msteps\u001b[0m\u001b[1;33m[\u001b[0m\u001b[1;33m-\u001b[0m\u001b[1;36m1\u001b[0m\u001b[1;33m]\u001b[0m\u001b[1;33m[\u001b[0m\u001b[1;33m-\u001b[0m\u001b[1;36m1\u001b[0m\u001b[1;33m]\u001b[0m\u001b[1;33m.\u001b[0m\u001b[0mscore\u001b[0m\u001b[1;33m(\u001b[0m\u001b[0mXt\u001b[0m\u001b[1;33m,\u001b[0m \u001b[0my\u001b[0m\u001b[1;33m)\u001b[0m\u001b[1;33m\u001b[0m\u001b[0m\n\u001b[0;32m    506\u001b[0m \u001b[1;33m\u001b[0m\u001b[0m\n",
      "\u001b[1;32mC:\\Anaconda3\\lib\\site-packages\\sklearn\\preprocessing\\data.py\u001b[0m in \u001b[0;36mtransform\u001b[1;34m(self, X, y, copy)\u001b[0m\n\u001b[0;32m    658\u001b[0m         \u001b[1;32melse\u001b[0m\u001b[1;33m:\u001b[0m\u001b[1;33m\u001b[0m\u001b[0m\n\u001b[0;32m    659\u001b[0m             \u001b[1;32mif\u001b[0m \u001b[0mself\u001b[0m\u001b[1;33m.\u001b[0m\u001b[0mwith_mean\u001b[0m\u001b[1;33m:\u001b[0m\u001b[1;33m\u001b[0m\u001b[0m\n\u001b[1;32m--> 660\u001b[1;33m                 \u001b[0mX\u001b[0m \u001b[1;33m-=\u001b[0m \u001b[0mself\u001b[0m\u001b[1;33m.\u001b[0m\u001b[0mmean_\u001b[0m\u001b[1;33m\u001b[0m\u001b[0m\n\u001b[0m\u001b[0;32m    661\u001b[0m             \u001b[1;32mif\u001b[0m \u001b[0mself\u001b[0m\u001b[1;33m.\u001b[0m\u001b[0mwith_std\u001b[0m\u001b[1;33m:\u001b[0m\u001b[1;33m\u001b[0m\u001b[0m\n\u001b[0;32m    662\u001b[0m                 \u001b[0mX\u001b[0m \u001b[1;33m/=\u001b[0m \u001b[0mself\u001b[0m\u001b[1;33m.\u001b[0m\u001b[0mscale_\u001b[0m\u001b[1;33m\u001b[0m\u001b[0m\n",
      "\u001b[1;31mValueError\u001b[0m: operands could not be broadcast together with shapes (1856,83) (85,) (1856,83) "
     ]
    }
   ],
   "source": [
    "X_test_rus_enc = OHE(np.delete(X_test_rus, dropped, axis=1), leftover_discrete)\n",
    "X_test_sm_enc = OHE(np.delete(X_test_sm, dropped, axis=1), leftover_discrete)\n",
    "X_test_enn_enc = OHE(np.delete(X_test_enn, dropped, axis=1), leftover_discrete)\n",
    "\n",
    "rus_pipe = pipe.fit(X_train_rus_enc, y_train_rus)\n",
    "print(pipe.score(X_test_rus_enc, y_test_rus))\n",
    "\n",
    "sm_pipe = pipe.fit(X_train_sm_enc, y_train_sm)\n",
    "print(pipe.score(X_test_sm_enc, y_test_sm))\n",
    "\n",
    "enn_pipe = pipe.fit(X_train_enn_enc, y_train_enn)\n",
    "print(pipe.score(X_test_enn_enc, y_test_enn))"
   ]
  },
  {
   "cell_type": "code",
   "execution_count": 303,
   "metadata": {
    "ExecuteTime": {
     "end_time": "2017-04-03T00:34:10.627430",
     "start_time": "2017-04-03T00:33:13.723307"
    },
    "collapsed": false
   },
   "outputs": [
    {
     "name": "stdout",
     "output_type": "stream",
     "text": [
      "rus 0.877324450539\n",
      "sm 0.877324450539\n",
      "enn 0.877305717486\n"
     ]
    }
   ],
   "source": [
    "#Drop the features deemed to be unimportant: \"age\", \"job\", \"housing\", cons_price_idx, \"nr_employed\"\n",
    "#Determine the best resampling technique to use with Logistic Regression\n",
    "\n",
    "\n",
    "dropped = [0, 1, 5, 15, 18]\n",
    "leftover_discrete = [0, 1, 2, 3, 4, 5, 6, 8, 10]\n",
    "\n",
    "X_train_rus_enc = OHE(np.delete(X_train_rus, dropped, axis=1), leftover_discrete)\n",
    "X_train_sm_enc = OHE(np.delete(X_train_sm, dropped, axis=1), leftover_discrete)\n",
    "X_train_enn_enc = OHE(np.delete(X_train_enn, dropped, axis=1), leftover_discrete)\n",
    "\n",
    "pipe = make_pipeline(StandardScaler(), LogisticRegressionCV(n_jobs=8))\n",
    "\n",
    "rus_score = cross_val_score(pipe, X_train_rus_enc, y_train_rus, cv=10, scoring='roc_auc')\n",
    "print('rus', np.mean(enn_score))\n",
    "\n",
    "sm_score = cross_val_score(pipe, X_train_sm_enc, y_train_sm, cv=10, scoring='roc_auc')\n",
    "print('sm', np.mean(enn_score))\n",
    "\n",
    "enn_score = cross_val_score(pipe, X_train_enn_enc, y_train_enn, cv=10, scoring='roc_auc')\n",
    "print('enn', np.mean(enn_score))"
   ]
  },
  {
   "cell_type": "code",
   "execution_count": 304,
   "metadata": {
    "ExecuteTime": {
     "end_time": "2017-04-03T00:38:48.925169",
     "start_time": "2017-04-03T00:34:10.628430"
    },
    "collapsed": false
   },
   "outputs": [
    {
     "name": "stdout",
     "output_type": "stream",
     "text": [
      "best score 0.750422286836\n",
      "best parameters {'alpha': 1.0}\n",
      "best score 0.753662856658\n",
      "best parameters {'alpha': 0.10000000000000001}\n",
      "best score 0.760844223899\n",
      "best parameters {'alpha': 0.10000000000000001}\n",
      "rus best score 0.758962983262\n",
      "rus best parameters {'alpha': 1.0}\n",
      "sm best score 0.683213810036\n",
      "sm best parameters {'alpha': 0.10000000000000001}\n",
      "enn best score 0.688385852212\n",
      "enn best parameters {'alpha': 0.10000000000000001}\n"
     ]
    }
   ],
   "source": [
    "#Determine the best resampling technique to use with SGDClassifier\n",
    "\n",
    "dropped = [0, 1, 5, 18]\n",
    "leftover_discrete = [0, 1, 2, 3, 4, 5, 6, 8, 10]\n",
    "\n",
    "X_train_rus_enc = OHE(np.delete(X_train_rus, dropped, axis=1), leftover_discrete)\n",
    "X_train_sm_enc = OHE(np.delete(X_train_sm, dropped, axis=1), leftover_discrete)\n",
    "X_train_enn_enc = OHE(np.delete(X_train_enn, dropped, axis=1), leftover_discrete)\n",
    "\n",
    "grid = {'alpha': np.logspace(-1,7, 9)}\n",
    "\n",
    "methods = [(X_train_rus, y_train_rus), (X_train_sm, y_train_sm), (X_train_enn, y_train_enn)]\n",
    "scaler = StandardScaler()\n",
    "for array in methods:\n",
    "    gridsearch = GridSearchCV(SGDClassifier(loss='modified_huber', n_iter=np.ceil(10**6/np.shape(array[0])[0])),\n",
    "                                     param_grid=grid, scoring='roc_auc', cv=15)\n",
    "    \n",
    "    sgd = gridsearch.fit(scaler.fit_transform(array[0]), array[1])\n",
    "    print('best score', sgd.score(array[0], array[1]))\n",
    "    print('best parameters', sgd.best_params_)\n",
    "    \n",
    "rus_grid = GridSearchCV(SGDClassifier(loss='modified_huber', n_iter=np.ceil(10**6/np.shape(X_train_rus_enc)[0])),param_grid=grid, scoring='roc_auc', cv=15)\n",
    "sm_grid = GridSearchCV(SGDClassifier(loss='modified_huber', n_iter=np.ceil(10**6/np.shape(X_train_sm_enc)[0])),param_grid=grid, scoring='roc_auc', cv=15)\n",
    "enn_grid = GridSearchCV(SGDClassifier(loss='modified_huber', n_iter=np.ceil(10**6/np.shape(X_train_enn_enc)[0])),param_grid=grid, scoring='roc_auc', cv=15)\n",
    "\n",
    "rus_sgd = sgd_grid.fit(scaler.fit_transform(X_train_rus_enc), y_train_rus)\n",
    "\n",
    "print('rus best score', rus_sgd.score(X_train_rus_enc, y_train_rus))\n",
    "print('rus best parameters', rus_sgd.best_params_)\n",
    "\n",
    "sm_sgd = sgd_grid.fit(scaler.fit_transform(X_train_sm_enc), y_train_sm)\n",
    "\n",
    "print('sm best score', sm_sgd.score(X_train_sm_enc, y_train_sm))\n",
    "print('sm best parameters', sm_sgd.best_params_)\n",
    "\n",
    "enn_sgd = sgd_grid.fit(scaler.fit_transform(X_train_enn_enc), y_train_enn)\n",
    "\n",
    "print('enn best score', enn_sgd.score(X_train_enn_enc, y_train_enn))\n",
    "print('enn best parameters', enn_sgd.best_params_)\n"
   ]
  },
  {
   "cell_type": "code",
   "execution_count": 157,
   "metadata": {
    "ExecuteTime": {
     "end_time": "2017-04-02T19:27:23.048507",
     "start_time": "2017-04-02T19:27:04.737200"
    },
    "collapsed": false
   },
   "outputs": [
    {
     "name": "stdout",
     "output_type": "stream",
     "text": [
      "[ 0.82955597  0.83429874  0.83208014  0.84074337  0.83063209]\n"
     ]
    }
   ],
   "source": [
    "\n",
    "gd_pipe = make_pipeline(StandardScaler(),\n",
    "                         SGDClassifier(alpha=10,loss='modified_huber',n_iter=np.ceil(10**6/np.shape(X_train_enn_enc)[0])))\n",
    "\n",
    "sgd_score = cross_val_score(sgd_pipe, X_test, y_train_enn, cv=5, scoring='roc_auc')\n"
   ]
  },
  {
   "cell_type": "markdown",
   "metadata": {},
   "source": [
    "# Step3 - ModelSet2 [35 points]\n",
    "\n",
    "In this step, we expect you to perform the following steps relevant to the models you choose for set2:\n",
    "\n",
    "* feature engineering\n",
    "* validation\n",
    "* feature selection\n",
    "* final model selection\n",
    "\n",
    "You may select up to 5 models in this step for the purpose of final ensemble. We encourage you to try decition tree, random forest and gradient boosted tree methods here and pick the one which you think works best."
   ]
  },
  {
   "cell_type": "code",
   "execution_count": 193,
   "metadata": {
    "ExecuteTime": {
     "end_time": "2017-04-02T21:16:33.523618",
     "start_time": "2017-04-02T21:15:13.551167"
    },
    "collapsed": false
   },
   "outputs": [
    {
     "name": "stdout",
     "output_type": "stream",
     "text": [
      "0.901939655172\n",
      "{'max_depth': 50.0, 'max_features': 10}\n",
      "0.962902424941\n",
      "{'max_depth': 50.0, 'max_features': 10}\n",
      "1.0\n",
      "{'max_depth': 50.0, 'max_features': 10}\n"
     ]
    }
   ],
   "source": [
    "#Perform a grid search to find the optimal Decision Tree parameter values for max_depth and max_features\n",
    "\n",
    "\n",
    "grid = {'max_features': range(3, 15, 1), 'max_depth': np.linspace(5, 50, 2)}\n",
    "\n",
    "search = GridSearchCV(DecisionTreeClassifier(), param_grid = grid, scoring='roc_auc', cv=10)\n",
    "\n",
    "rus = search.fit(X_train_rus, y_train_rus)\n",
    "sm = search.fit(X_train_sm, y_train_sm)\n",
    "enn = search.fit(X_train_enn, y_train_enn)\n",
    "\n",
    "print(rus.score(X_train_rus, y_train_rus))\n",
    "print(rus.best_params_)\n",
    "print(sm.score(X_train_sm, y_train_sm))\n",
    "print(sm.best_params_)\n",
    "print(enn.score(X_train_enn, y_train_enn))\n",
    "print(enn.best_params_)\n"
   ]
  },
  {
   "cell_type": "code",
   "execution_count": 195,
   "metadata": {
    "ExecuteTime": {
     "end_time": "2017-04-02T21:40:17.510985",
     "start_time": "2017-04-02T21:40:10.658379"
    },
    "collapsed": false
   },
   "outputs": [
    {
     "name": "stdout",
     "output_type": "stream",
     "text": [
      "[ 0.6922043   0.65456989  0.70754717  0.6819407   0.64959569  0.64555256\n",
      "  0.65229111  0.67789757  0.65633423  0.68463612]\n",
      "[ 0.64637483  0.86114911  0.93194254  0.92989056  0.93125855  0.93023256\n",
      "  0.93177155  0.93040356  0.93345878  0.92593226]\n",
      "[ 0.65208293  0.85575044  0.92689401  0.93133591  0.9315354   0.93630301\n",
      "  0.93457674  0.93216625  0.93288443  0.93805281]\n"
     ]
    }
   ],
   "source": [
    "#Perform cross-validation using the entire dataset and the optimal parameters\n",
    "#Determine the best resampling technique\n",
    "\n",
    "\n",
    "dt = DecisionTreeClassifier(max_features=10, max_depth=50)\n",
    "\n",
    "print(cross_val_score(dt, X_rus, y_rus, cv=10, scoring='roc_auc'))\n",
    "print(cross_val_score(dt, X_sm, y_sm, cv=10, scoring='roc_auc'))\n",
    "print(cross_val_score(dt, X_enn, y_enn, cv=10, scoring='roc_auc'))"
   ]
  },
  {
   "cell_type": "code",
   "execution_count": null,
   "metadata": {
    "collapsed": true
   },
   "outputs": [],
   "source": []
  },
  {
   "cell_type": "markdown",
   "metadata": {},
   "source": [
    "# Step4 - Ensemble [20 points + 10 Bonus points]\n",
    "\n",
    "In this step, we expect you to use the models created before and create new predictions. You should definitely try poor man's stacking but we encourage you to think of different ensemble techniques as well. We will judge your creativity and improvement in model performance using ensemble models and you can potentially earn 10 bonus points here."
   ]
  },
  {
   "cell_type": "code",
   "execution_count": 5,
   "metadata": {
    "collapsed": false
   },
   "outputs": [],
   "source": [
    "#write code below, you can make multiple cells\n",
    "assert True"
   ]
  }
 ],
 "metadata": {
  "anaconda-cloud": {},
  "kernelspec": {
   "display_name": "Python [Root]",
   "language": "python",
   "name": "Python [Root]"
  },
  "language_info": {
   "codemirror_mode": {
    "name": "ipython",
    "version": 3
   },
   "file_extension": ".py",
   "mimetype": "text/x-python",
   "name": "python",
   "nbconvert_exporter": "python",
   "pygments_lexer": "ipython3",
   "version": "3.5.2"
  }
 },
 "nbformat": 4,
 "nbformat_minor": 2
}
