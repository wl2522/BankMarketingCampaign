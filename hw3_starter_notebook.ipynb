{
 "cells": [
  {
   "cell_type": "markdown",
   "metadata": {},
   "source": [
    "# Submission Information:\n",
    "\n",
    "### Team Member 1:\n",
    "* UNI:  WL2522\n",
    "* Name: Wilson Lui\n",
    "\n",
    "### Team Member 2 [optional]:\n",
    "* UNI:  \n",
    "* Name:"
   ]
  },
  {
   "cell_type": "markdown",
   "metadata": {},
   "source": [
    "# Step0 - Import Libraries, Load Data [0 points]\n",
    "\n",
    "This is the basic step where you can load the data and create train and test sets for internal validation as per your convinience."
   ]
  },
  {
   "cell_type": "code",
   "execution_count": 59,
   "metadata": {
    "ExecuteTime": {
     "end_time": "2017-04-04T00:34:08.679553",
     "start_time": "2017-04-04T00:34:08.537183"
    },
    "collapsed": true
   },
   "outputs": [],
   "source": [
    "%matplotlib inline\n",
    "\n",
    "import pandas as pd\n",
    "import numpy as np\n",
    "import matplotlib.pyplot as plt\n",
    "from collections import Counter\n",
    "\n",
    "from sklearn.model_selection import train_test_split, GridSearchCV, cross_val_score\n",
    "from sklearn.preprocessing import LabelEncoder, scale, OneHotEncoder, MaxAbsScaler\n",
    "from sklearn.pipeline import make_pipeline\n",
    "from sklearn.metrics import roc_auc_score\n",
    "from sklearn.linear_model import LogisticRegression, LogisticRegressionCV, SGDClassifier\n",
    "from sklearn.feature_selection import RFE, SelectKBest, mutual_info_classif, f_classif\n",
    "from sklearn.svm import LinearSVC \n",
    "from sklearn.tree import DecisionTreeClassifier\n",
    "from sklearn.ensemble import RandomForestClassifier, ExtraTreesClassifier\n",
    "\n",
    "from imblearn.under_sampling import RandomUnderSampler\n",
    "from imblearn.combine import SMOTEENN\n",
    "from imblearn.over_sampling import SMOTE\n",
    "\n",
    "data = pd.read_csv('data.csv')\n"
   ]
  },
  {
   "cell_type": "code",
   "execution_count": 3,
   "metadata": {
    "ExecuteTime": {
     "end_time": "2017-04-03T22:59:37.384829",
     "start_time": "2017-04-03T22:59:37.345796"
    },
    "collapsed": true
   },
   "outputs": [],
   "source": [
    "#Separate the ID column from the holdout set\n",
    "\n",
    "\n",
    "holdout = pd.read_csv('data/holdout.csv')\n",
    "ID = holdout['ID']\n",
    "holdout = holdout.drop('ID', 1)\n",
    "\n",
    "\n",
    "#Remove the \"duration\" feature to avoid getting overoptimistic results\n",
    "\n",
    "\n",
    "data = data.drop('duration', 1)\n",
    "holdout = holdout.drop('duration', 1)\n"
   ]
  },
  {
   "cell_type": "code",
   "execution_count": 4,
   "metadata": {
    "ExecuteTime": {
     "end_time": "2017-04-03T22:59:37.454923",
     "start_time": "2017-04-03T22:59:37.385817"
    },
    "collapsed": true
   },
   "outputs": [],
   "source": [
    "#Convert the \"month\" and \"day_of_week\" features to integers\n",
    "#(in order to experiment with treating them as both categorical and continuous features)\n",
    "\n",
    "\n",
    "months = [('mar', 3), ('apr', 4), ('may', 5), ('jun', 6), ('jul', 7), ('aug', 8),\n",
    "          ('sep', 9), ('oct', 10), ('nov', 11), ('dec', 12)]\n",
    "weekdays = [('mon', 1), ('tue', 2), ('wed', 3), ('thu', 4), ('fri', 5)]\n",
    "\n",
    "for month in months:\n",
    "    data['month'].replace(to_replace=month[0], value=month[1], inplace=True)\n",
    "    holdout['month'].replace(to_replace=month[0], value=month[1], inplace=True)\n",
    "    \n",
    "for day in weekdays:\n",
    "    data['day_of_week'].replace(to_replace=day[0], value=day[1], inplace=True)\n",
    "    holdout['day_of_week'].replace(to_replace=day[0], value=day[1], inplace=True)\n",
    "    "
   ]
  },
  {
   "cell_type": "code",
   "execution_count": 5,
   "metadata": {
    "ExecuteTime": {
     "end_time": "2017-04-03T22:59:37.650659",
     "start_time": "2017-04-03T22:59:37.455906"
    },
    "collapsed": true
   },
   "outputs": [],
   "source": [
    "#Create a copy of the dataset for encoding purposes and leave the original for visualizations\n",
    "#Separate the categorical features from the numerical ones\n",
    "#Encode category and response variable strings to integers\n",
    "#Treat \"prev_days\" as a categorical variable due to the large majority of 999 values\n",
    "\n",
    "\n",
    "num = ['age', 'month', 'day_of_week', 'campaign', 'prev_days', 'prev_contacts','emp_var_rate',\n",
    "       'cons_price_idx', 'cons_conf_idx', 'euribor3m', 'nr_employed']\n",
    "\n",
    "cat = ['job', 'marital_status', 'education', 'credit_default', 'housing',\n",
    "       'loan', 'contact', 'prev_outcomes']\n",
    "\n",
    "\n",
    "enc_data = data.copy()\n",
    "enc_holdout = holdout.copy()\n",
    "\n",
    "le = LabelEncoder()\n",
    "\n",
    "\n",
    "for col in cat:\n",
    "    levels = np.concatenate((enc_data[col].unique(), enc_holdout[col].unique()))\n",
    "    le.fit(levels)\n",
    "    enc_data[col] = le.transform(enc_data[col])\n",
    "    enc_holdout[col] = le.transform(enc_holdout[col])\n"
   ]
  },
  {
   "cell_type": "code",
   "execution_count": 6,
   "metadata": {
    "ExecuteTime": {
     "end_time": "2017-04-03T22:59:37.677168",
     "start_time": "2017-04-03T22:59:37.651644"
    },
    "collapsed": true
   },
   "outputs": [],
   "source": [
    "#Encode the response variable\n",
    "#Separate the features from the response variable\n",
    "\n",
    "\n",
    "levels = enc_data['subscribed'].unique()\n",
    "le.fit(levels)\n",
    "enc_data['subscribed'] = le.transform(enc_data['subscribed'])\n",
    "\n",
    "X = enc_data.iloc[:,:-1]\n",
    "y = enc_data.iloc[:,-1]\n"
   ]
  },
  {
   "cell_type": "code",
   "execution_count": 7,
   "metadata": {
    "ExecuteTime": {
     "end_time": "2017-04-03T22:59:43.053194",
     "start_time": "2017-04-03T22:59:37.678670"
    },
    "collapsed": true
   },
   "outputs": [],
   "source": [
    "#Balance the dataset using Random Undersampling, SMOTE, and SMOTE + Edited Nearest Neighbors\n",
    "#Create a different train/test split for each balanced dataset\n",
    "\n",
    "\n",
    "rus = RandomUnderSampler(replacement=True)\n",
    "sm = SMOTE()\n",
    "enn = SMOTEENN()\n",
    "\n",
    "X_rus, y_rus = rus.fit_sample(X, y)\n",
    "X_sm, y_sm = sm.fit_sample(X, y)\n",
    "X_enn, y_enn = enn.fit_sample(X, y)\n",
    "\n",
    "X_train_rus, X_test_rus, y_train_rus, y_test_rus = train_test_split(X_rus, y_rus, stratify=y_rus)\n",
    "X_train_sm, X_test_sm, y_train_sm, y_test_sm = train_test_split(X_sm, y_sm, stratify=y_sm)\n",
    "X_train_enn, X_test_enn, y_train_enn, y_test_enn = train_test_split(X_enn, y_enn, stratify=y_enn)\n"
   ]
  },
  {
   "cell_type": "markdown",
   "metadata": {},
   "source": [
    "# Step1 - Exploration and Preparation [10 points]\n",
    "\n",
    "In this step, we expect you to look into the data and try to understand it before modeling. This understanding may lead to some basic data preparation steps which are common across the two model sets required."
   ]
  },
  {
   "cell_type": "code",
   "execution_count": 8,
   "metadata": {
    "ExecuteTime": {
     "end_time": "2017-04-03T22:59:43.098282",
     "start_time": "2017-04-03T22:59:43.054181"
    },
    "collapsed": false
   },
   "outputs": [
    {
     "data": {
      "text/html": [
       "<div>\n",
       "<table border=\"1\" class=\"dataframe\">\n",
       "  <thead>\n",
       "    <tr style=\"text-align: right;\">\n",
       "      <th></th>\n",
       "      <th>age</th>\n",
       "      <th>month</th>\n",
       "      <th>day_of_week</th>\n",
       "      <th>campaign</th>\n",
       "      <th>prev_days</th>\n",
       "      <th>prev_contacts</th>\n",
       "      <th>emp_var_rate</th>\n",
       "      <th>cons_price_idx</th>\n",
       "      <th>cons_conf_idx</th>\n",
       "      <th>euribor3m</th>\n",
       "      <th>nr_employed</th>\n",
       "    </tr>\n",
       "  </thead>\n",
       "  <tbody>\n",
       "    <tr>\n",
       "      <th>count</th>\n",
       "      <td>32950.000000</td>\n",
       "      <td>32950.000000</td>\n",
       "      <td>32950.000000</td>\n",
       "      <td>32950.000000</td>\n",
       "      <td>32950.000000</td>\n",
       "      <td>32950.000000</td>\n",
       "      <td>32950.000000</td>\n",
       "      <td>32950.000000</td>\n",
       "      <td>32950.000000</td>\n",
       "      <td>32950.000000</td>\n",
       "      <td>32950.000000</td>\n",
       "    </tr>\n",
       "    <tr>\n",
       "      <th>mean</th>\n",
       "      <td>40.019059</td>\n",
       "      <td>6.609317</td>\n",
       "      <td>2.982155</td>\n",
       "      <td>2.641639</td>\n",
       "      <td>961.537906</td>\n",
       "      <td>0.174385</td>\n",
       "      <td>0.080115</td>\n",
       "      <td>93.583705</td>\n",
       "      <td>-40.496740</td>\n",
       "      <td>3.618901</td>\n",
       "      <td>5166.932832</td>\n",
       "    </tr>\n",
       "    <tr>\n",
       "      <th>std</th>\n",
       "      <td>10.850807</td>\n",
       "      <td>2.042670</td>\n",
       "      <td>1.408273</td>\n",
       "      <td>2.803230</td>\n",
       "      <td>189.209917</td>\n",
       "      <td>0.498989</td>\n",
       "      <td>1.573180</td>\n",
       "      <td>1.162662</td>\n",
       "      <td>4.645301</td>\n",
       "      <td>1.737149</td>\n",
       "      <td>72.439480</td>\n",
       "    </tr>\n",
       "    <tr>\n",
       "      <th>min</th>\n",
       "      <td>17.000000</td>\n",
       "      <td>3.000000</td>\n",
       "      <td>1.000000</td>\n",
       "      <td>1.000000</td>\n",
       "      <td>0.000000</td>\n",
       "      <td>0.000000</td>\n",
       "      <td>-3.695294</td>\n",
       "      <td>88.311974</td>\n",
       "      <td>-52.220779</td>\n",
       "      <td>0.325461</td>\n",
       "      <td>4963.600000</td>\n",
       "    </tr>\n",
       "    <tr>\n",
       "      <th>25%</th>\n",
       "      <td>32.000000</td>\n",
       "      <td>5.000000</td>\n",
       "      <td>2.000000</td>\n",
       "      <td>1.000000</td>\n",
       "      <td>999.000000</td>\n",
       "      <td>0.000000</td>\n",
       "      <td>-1.724208</td>\n",
       "      <td>92.800661</td>\n",
       "      <td>-43.087110</td>\n",
       "      <td>1.377065</td>\n",
       "      <td>5101.000000</td>\n",
       "    </tr>\n",
       "    <tr>\n",
       "      <th>50%</th>\n",
       "      <td>38.000000</td>\n",
       "      <td>6.000000</td>\n",
       "      <td>3.000000</td>\n",
       "      <td>2.000000</td>\n",
       "      <td>999.000000</td>\n",
       "      <td>0.000000</td>\n",
       "      <td>1.085053</td>\n",
       "      <td>93.586959</td>\n",
       "      <td>-41.685507</td>\n",
       "      <td>4.800570</td>\n",
       "      <td>5194.000000</td>\n",
       "    </tr>\n",
       "    <tr>\n",
       "      <th>75%</th>\n",
       "      <td>47.000000</td>\n",
       "      <td>8.000000</td>\n",
       "      <td>4.000000</td>\n",
       "      <td>3.000000</td>\n",
       "      <td>999.000000</td>\n",
       "      <td>0.000000</td>\n",
       "      <td>1.366367</td>\n",
       "      <td>94.381404</td>\n",
       "      <td>-36.404580</td>\n",
       "      <td>4.943674</td>\n",
       "      <td>5226.000000</td>\n",
       "    </tr>\n",
       "    <tr>\n",
       "      <th>max</th>\n",
       "      <td>97.000000</td>\n",
       "      <td>12.000000</td>\n",
       "      <td>5.000000</td>\n",
       "      <td>56.000000</td>\n",
       "      <td>999.000000</td>\n",
       "      <td>7.000000</td>\n",
       "      <td>1.785673</td>\n",
       "      <td>98.263042</td>\n",
       "      <td>-25.323735</td>\n",
       "      <td>5.362403</td>\n",
       "      <td>5249.000000</td>\n",
       "    </tr>\n",
       "  </tbody>\n",
       "</table>\n",
       "</div>"
      ],
      "text/plain": [
       "                age         month   day_of_week      campaign     prev_days  \\\n",
       "count  32950.000000  32950.000000  32950.000000  32950.000000  32950.000000   \n",
       "mean      40.019059      6.609317      2.982155      2.641639    961.537906   \n",
       "std       10.850807      2.042670      1.408273      2.803230    189.209917   \n",
       "min       17.000000      3.000000      1.000000      1.000000      0.000000   \n",
       "25%       32.000000      5.000000      2.000000      1.000000    999.000000   \n",
       "50%       38.000000      6.000000      3.000000      2.000000    999.000000   \n",
       "75%       47.000000      8.000000      4.000000      3.000000    999.000000   \n",
       "max       97.000000     12.000000      5.000000     56.000000    999.000000   \n",
       "\n",
       "       prev_contacts  emp_var_rate  cons_price_idx  cons_conf_idx  \\\n",
       "count   32950.000000  32950.000000    32950.000000   32950.000000   \n",
       "mean        0.174385      0.080115       93.583705     -40.496740   \n",
       "std         0.498989      1.573180        1.162662       4.645301   \n",
       "min         0.000000     -3.695294       88.311974     -52.220779   \n",
       "25%         0.000000     -1.724208       92.800661     -43.087110   \n",
       "50%         0.000000      1.085053       93.586959     -41.685507   \n",
       "75%         0.000000      1.366367       94.381404     -36.404580   \n",
       "max         7.000000      1.785673       98.263042     -25.323735   \n",
       "\n",
       "          euribor3m   nr_employed  \n",
       "count  32950.000000  32950.000000  \n",
       "mean       3.618901   5166.932832  \n",
       "std        1.737149     72.439480  \n",
       "min        0.325461   4963.600000  \n",
       "25%        1.377065   5101.000000  \n",
       "50%        4.800570   5194.000000  \n",
       "75%        4.943674   5226.000000  \n",
       "max        5.362403   5249.000000  "
      ]
     },
     "execution_count": 8,
     "metadata": {},
     "output_type": "execute_result"
    }
   ],
   "source": [
    "#Get summary statistics on the data\n",
    "\n",
    "\n",
    "data.describe()"
   ]
  },
  {
   "cell_type": "code",
   "execution_count": 9,
   "metadata": {
    "ExecuteTime": {
     "end_time": "2017-04-03T22:59:43.300718",
     "start_time": "2017-04-03T22:59:43.099269"
    },
    "collapsed": false
   },
   "outputs": [
    {
     "name": "stdout",
     "output_type": "stream",
     "text": [
      "Counter({'admin.': 8342, 'blue-collar': 7408, 'technician': 5371, 'services': 3168, 'management': 2340, 'retired': 1390, 'entrepreneur': 1198, 'self-employed': 1140, 'housemaid': 827, 'unemployed': 797, 'student': 708, 'unknown': 261})\n"
     ]
    },
    {
     "data": {
      "text/plain": [
       "([<matplotlib.axis.XTick at 0x14e04870eb8>,\n",
       "  <matplotlib.axis.XTick at 0x14e047c5fd0>,\n",
       "  <matplotlib.axis.XTick at 0x14e047c5400>,\n",
       "  <matplotlib.axis.XTick at 0x14e052371d0>,\n",
       "  <matplotlib.axis.XTick at 0x14e05237ba8>,\n",
       "  <matplotlib.axis.XTick at 0x14e051c26a0>,\n",
       "  <matplotlib.axis.XTick at 0x14e047c51d0>,\n",
       "  <matplotlib.axis.XTick at 0x14e047bf2b0>,\n",
       "  <matplotlib.axis.XTick at 0x14e0523bc50>,\n",
       "  <matplotlib.axis.XTick at 0x14e05241630>,\n",
       "  <matplotlib.axis.XTick at 0x14e05245048>,\n",
       "  <matplotlib.axis.XTick at 0x14e05245a20>],\n",
       " <a list of 12 Text xticklabel objects>)"
      ]
     },
     "execution_count": 9,
     "metadata": {},
     "output_type": "execute_result"
    },
    {
     "data": {
      "image/png": "[encoded data removed]",
      "text/plain": [
       "<matplotlib.figure.Figure at 0x14e04851080>"
      ]
     },
     "metadata": {},
     "output_type": "display_data"
    }
   ],
   "source": [
    "#Examine the distribution of job categories\n",
    "\n",
    "\n",
    "job_count = Counter(data['job'])\n",
    "print(job_count)\n",
    "plt.bar(range(len(job_count)), job_count.values(), align='center')\n",
    "plt.xticks(range(len(job_count)), list(job_count.keys()), rotation='vertical')\n"
   ]
  },
  {
   "cell_type": "code",
   "execution_count": 10,
   "metadata": {
    "ExecuteTime": {
     "end_time": "2017-04-03T22:59:43.443847",
     "start_time": "2017-04-03T22:59:43.301708"
    },
    "collapsed": false
   },
   "outputs": [
    {
     "name": "stdout",
     "output_type": "stream",
     "text": [
      "Counter({'married': 19955, 'single': 9256, 'divorced': 3676, 'unknown': 63})\n"
     ]
    },
    {
     "data": {
      "text/plain": [
       "([<matplotlib.axis.XTick at 0x14e076cf048>,\n",
       "  <matplotlib.axis.XTick at 0x14e0524a6d8>,\n",
       "  <matplotlib.axis.XTick at 0x14e0526eef0>,\n",
       "  <matplotlib.axis.XTick at 0x14e0770e390>],\n",
       " <a list of 4 Text xticklabel objects>)"
      ]
     },
     "execution_count": 10,
     "metadata": {},
     "output_type": "execute_result"
    },
    {
     "data": {
      "image/png": "[encoded data removed]",
      "text/plain": [
       "<matplotlib.figure.Figure at 0x14e04857898>"
      ]
     },
     "metadata": {},
     "output_type": "display_data"
    }
   ],
   "source": [
    "#Examine the distribution of marital statuses\n",
    "\n",
    "\n",
    "marital_count = Counter(data['marital_status'])\n",
    "print(marital_count)\n",
    "plt.bar(range(len(marital_count)), marital_count.values(), align='center')\n",
    "plt.xticks(range(len(marital_count)), list(marital_count.keys()), rotation='vertical')\n"
   ]
  },
  {
   "cell_type": "code",
   "execution_count": 11,
   "metadata": {
    "ExecuteTime": {
     "end_time": "2017-04-03T22:59:43.643110",
     "start_time": "2017-04-03T22:59:43.444848"
    },
    "collapsed": false
   },
   "outputs": [
    {
     "name": "stdout",
     "output_type": "stream",
     "text": [
      "Counter({'university.degree': 9760, 'high.school': 7580, 'basic.9y': 4889, 'professional.course': 4154, 'basic.4y': 3313, 'basic.6y': 1846, 'unknown': 1394, 'illiterate': 14})\n"
     ]
    },
    {
     "data": {
      "text/plain": [
       "([<matplotlib.axis.XTick at 0x14e047cb6d8>,\n",
       "  <matplotlib.axis.XTick at 0x14e077276a0>,\n",
       "  <matplotlib.axis.XTick at 0x14e052378d0>,\n",
       "  <matplotlib.axis.XTick at 0x14e07995550>,\n",
       "  <matplotlib.axis.XTick at 0x14e07995f28>,\n",
       "  <matplotlib.axis.XTick at 0x14e07999940>,\n",
       "  <matplotlib.axis.XTick at 0x14e0799c358>,\n",
       "  <matplotlib.axis.XTick at 0x14e0799cd30>],\n",
       " <a list of 8 Text xticklabel objects>)"
      ]
     },
     "execution_count": 11,
     "metadata": {},
     "output_type": "execute_result"
    },
    {
     "data": {
      "image/png": "[encoded data removed]",
      "text/plain": [
       "<matplotlib.figure.Figure at 0x14e07713e80>"
      ]
     },
     "metadata": {},
     "output_type": "display_data"
    }
   ],
   "source": [
    "#Examine the distribution of education levels\n",
    "\n",
    "\n",
    "education_count = Counter(data['education'])\n",
    "print(education_count)\n",
    "plt.bar(range(len(education_count)), education_count.values(), align='center')\n",
    "plt.xticks(range(len(education_count)), list(education_count.keys()), rotation='vertical')\n"
   ]
  },
  {
   "cell_type": "code",
   "execution_count": 12,
   "metadata": {
    "ExecuteTime": {
     "end_time": "2017-04-03T22:59:43.799161",
     "start_time": "2017-04-03T22:59:43.644077"
    },
    "collapsed": false
   },
   "outputs": [
    {
     "name": "stdout",
     "output_type": "stream",
     "text": [
      "Counter({5: 11016, 7: 5716, 8: 4954, 6: 4272, 11: 3299, 4: 2097, 10: 540, 9: 465, 3: 437, 12: 154})\n"
     ]
    },
    {
     "data": {
      "text/plain": [
       "([<matplotlib.axis.XTick at 0x14e079b0128>,\n",
       "  <matplotlib.axis.XTick at 0x14e079aa3c8>,\n",
       "  <matplotlib.axis.XTick at 0x14e076a62e8>,\n",
       "  <matplotlib.axis.XTick at 0x14e07a18ef0>,\n",
       "  <matplotlib.axis.XTick at 0x14e07a1d908>,\n",
       "  <matplotlib.axis.XTick at 0x14e07a21320>,\n",
       "  <matplotlib.axis.XTick at 0x14e07a21cf8>,\n",
       "  <matplotlib.axis.XTick at 0x14e07a27710>,\n",
       "  <matplotlib.axis.XTick at 0x14e07a2a128>,\n",
       "  <matplotlib.axis.XTick at 0x14e07a2ab00>],\n",
       " <a list of 10 Text xticklabel objects>)"
      ]
     },
     "execution_count": 12,
     "metadata": {},
     "output_type": "execute_result"
    },
    {
     "data": {
      "image/png": "[encoded data removed]",
      "text/plain": [
       "<matplotlib.figure.Figure at 0x14e047cba58>"
      ]
     },
     "metadata": {},
     "output_type": "display_data"
    }
   ],
   "source": [
    "#Examine the distribution of call months\n",
    "\n",
    "\n",
    "month_count = Counter(enc_data['month'])\n",
    "print(month_count)\n",
    "plt.bar(range(len(month_count)), month_count.values(), align='center')\n",
    "plt.xticks(range(len(month_count)), list(month_count.keys()), rotation='vertical')\n"
   ]
  },
  {
   "cell_type": "code",
   "execution_count": 13,
   "metadata": {
    "ExecuteTime": {
     "end_time": "2017-04-03T22:59:43.935295",
     "start_time": "2017-04-03T22:59:43.800162"
    },
    "collapsed": false
   },
   "outputs": [
    {
     "name": "stdout",
     "output_type": "stream",
     "text": [
      "Counter({4: 6945, 1: 6749, 3: 6531, 2: 6495, 5: 6230})\n"
     ]
    },
    {
     "data": {
      "text/plain": [
       "([<matplotlib.axis.XTick at 0x14e0527b5c0>,\n",
       "  <matplotlib.axis.XTick at 0x14e07a2a710>,\n",
       "  <matplotlib.axis.XTick at 0x14e07a1d4e0>,\n",
       "  <matplotlib.axis.XTick at 0x14e07a95278>,\n",
       "  <matplotlib.axis.XTick at 0x14e07a95c50>],\n",
       " <a list of 5 Text xticklabel objects>)"
      ]
     },
     "execution_count": 13,
     "metadata": {},
     "output_type": "execute_result"
    },
    {
     "data": {
      "image/png": "[encoded data removed]",
      "text/plain": [
       "<matplotlib.figure.Figure at 0x14e07a36f98>"
      ]
     },
     "metadata": {},
     "output_type": "display_data"
    }
   ],
   "source": [
    "#Examine the distribution of days of the week\n",
    "\n",
    "\n",
    "week_count = Counter(enc_data['day_of_week'])\n",
    "print(week_count)\n",
    "plt.bar(range(len(week_count)), week_count.values(), align='center')\n",
    "plt.xticks(range(len(week_count)), list(week_count.keys()), rotation='vertical')\n"
   ]
  },
  {
   "cell_type": "code",
   "execution_count": 14,
   "metadata": {
    "ExecuteTime": {
     "end_time": "2017-04-03T22:59:44.193798",
     "start_time": "2017-04-03T22:59:43.936296"
    },
    "collapsed": false
   },
   "outputs": [
    {
     "name": "stdout",
     "output_type": "stream",
     "text": [
      "Counter({999: 31707, 3: 373, 6: 332, 4: 105, 9: 55, 7: 48, 2: 46, 12: 45, 5: 42, 10: 40, 13: 26, 11: 23, 1: 19, 15: 18, 14: 17, 8: 13, 0: 11, 16: 10, 17: 5, 18: 4, 19: 3, 22: 3, 21: 2, 20: 1, 26: 1, 27: 1})\n"
     ]
    },
    {
     "data": {
      "text/plain": [
       "([<matplotlib.axis.XTick at 0x14e07ac0eb8>,\n",
       "  <matplotlib.axis.XTick at 0x14e07a21550>,\n",
       "  <matplotlib.axis.XTick at 0x14e07aa7860>,\n",
       "  <matplotlib.axis.XTick at 0x14e07b4d160>,\n",
       "  <matplotlib.axis.XTick at 0x14e07b4db38>,\n",
       "  <matplotlib.axis.XTick at 0x14e07b4f550>,\n",
       "  <matplotlib.axis.XTick at 0x14e07b4ff28>,\n",
       "  <matplotlib.axis.XTick at 0x14e07b53940>,\n",
       "  <matplotlib.axis.XTick at 0x14e07b5a358>,\n",
       "  <matplotlib.axis.XTick at 0x14e07abd7f0>,\n",
       "  <matplotlib.axis.XTick at 0x14e07a84630>,\n",
       "  <matplotlib.axis.XTick at 0x14e07b5ad30>,\n",
       "  <matplotlib.axis.XTick at 0x14e07b5f748>,\n",
       "  <matplotlib.axis.XTick at 0x14e07b621d0>,\n",
       "  <matplotlib.axis.XTick at 0x14e07b62b38>,\n",
       "  <matplotlib.axis.XTick at 0x14e07b68550>,\n",
       "  <matplotlib.axis.XTick at 0x14e07b68f28>,\n",
       "  <matplotlib.axis.XTick at 0x14e07b6c940>,\n",
       "  <matplotlib.axis.XTick at 0x14e07b71358>,\n",
       "  <matplotlib.axis.XTick at 0x14e07b71d30>,\n",
       "  <matplotlib.axis.XTick at 0x14e07b76748>,\n",
       "  <matplotlib.axis.XTick at 0x14e07b7a160>,\n",
       "  <matplotlib.axis.XTick at 0x14e07b7ab38>,\n",
       "  <matplotlib.axis.XTick at 0x14e07b7f550>,\n",
       "  <matplotlib.axis.XTick at 0x14e07b7ff28>,\n",
       "  <matplotlib.axis.XTick at 0x14e07b83940>],\n",
       " <a list of 26 Text xticklabel objects>)"
      ]
     },
     "execution_count": 14,
     "metadata": {},
     "output_type": "execute_result"
    },
    {
     "data": {
      "image/png": "[encoded data removed]",
      "text/plain": [
       "<matplotlib.figure.Figure at 0x14e07a766d8>"
      ]
     },
     "metadata": {},
     "output_type": "display_data"
    }
   ],
   "source": [
    "#Examine the distribution of previous days since last contact\n",
    "\n",
    "\n",
    "days_count = Counter(data['prev_days'])\n",
    "print(days_count)\n",
    "plt.bar(range(len(days_count)), days_count.values(), align='center')\n",
    "plt.xticks(range(len(days_count)), list(days_count.keys()))\n"
   ]
  },
  {
   "cell_type": "code",
   "execution_count": 15,
   "metadata": {
    "ExecuteTime": {
     "end_time": "2017-04-03T22:59:44.547920",
     "start_time": "2017-04-03T22:59:44.194799"
    },
    "collapsed": false
   },
   "outputs": [
    {
     "name": "stdout",
     "output_type": "stream",
     "text": [
      "Counter({'no': 26059, 'unknown': 6888, 'yes': 3})\n",
      "Counter({'yes': 17176, 'no': 14974, 'unknown': 800})\n",
      "Counter({'no': 27179, 'yes': 4971, 'unknown': 800})\n",
      "Counter({'cellular': 20902, 'telephone': 12048})\n"
     ]
    },
    {
     "data": {
      "text/plain": [
       "<matplotlib.text.Text at 0x14e08ca0208>"
      ]
     },
     "execution_count": 15,
     "metadata": {},
     "output_type": "execute_result"
    },
    {
     "data": {
      "image/png": "[encoded data removed]",
      "text/plain": [
       "<matplotlib.figure.Figure at 0x14e07b9a940>"
      ]
     },
     "metadata": {},
     "output_type": "display_data"
    }
   ],
   "source": [
    "#Examine distribution of binary variables\n",
    "\n",
    "\n",
    "default_count = Counter(data['credit_default'])\n",
    "housing_count = Counter(data['housing'])\n",
    "loan_count = Counter(data['loan'])\n",
    "contact_count = Counter(data['contact'])\n",
    "print(default_count)\n",
    "print(housing_count)\n",
    "print(loan_count)\n",
    "print(contact_count)\n",
    "\n",
    "ax1 = plt.subplot('331')\n",
    "plt.bar(range(len(default_count)), default_count.values(), align='center')\n",
    "plt.xticks(range(len(default_count)), list(default_count.keys()), rotation='vertical')\n",
    "ax1.set_title('Has Credit Defaults?')\n",
    "\n",
    "ax2 = plt.subplot('333')\n",
    "plt.bar(range(len(housing_count)), housing_count.values(), align='center')\n",
    "plt.xticks(range(len(housing_count)), list(housing_count.keys()), rotation='vertical')\n",
    "ax2.set_title('Has Housing Loans?')\n",
    "\n",
    "ax3 = plt.subplot('337')\n",
    "plt.bar(range(len(loan_count)), loan_count.values(), align='center')\n",
    "plt.xticks(range(len(loan_count)), list(loan_count.keys()), rotation='vertical')\n",
    "ax3.set_title('Has Personal Loans?')\n",
    "\n",
    "ax4 = plt.subplot('339')\n",
    "plt.bar(range(len(contact_count)), contact_count.values(), align='center')\n",
    "plt.xticks(range(len(contact_count)), list(contact_count), rotation='vertical')\n",
    "ax4.set_title('Method of Communication')\n"
   ]
  },
  {
   "cell_type": "code",
   "execution_count": 16,
   "metadata": {
    "ExecuteTime": {
     "end_time": "2017-04-03T22:59:44.898274",
     "start_time": "2017-04-03T22:59:44.548921"
    },
    "collapsed": false
   },
   "outputs": [
    {
     "name": "stdout",
     "output_type": "stream",
     "text": [
      "Correlation Matrix\n",
      "(nr_employed, euribor3m, emp_var_rate)\n"
     ]
    },
    {
     "data": {
      "text/plain": [
       "array([[ 1.        ,  0.9418152 ,  0.90294658],\n",
       "       [ 0.9418152 ,  1.        ,  0.96852127],\n",
       "       [ 0.90294658,  0.96852127,  1.        ]])"
      ]
     },
     "execution_count": 16,
     "metadata": {},
     "output_type": "execute_result"
    },
    {
     "data": {
      "image/png": "[encoded data removed]",
      "text/plain": [
       "<matplotlib.figure.Figure at 0x14e07b5f7f0>"
      ]
     },
     "metadata": {},
     "output_type": "display_data"
    }
   ],
   "source": [
    "#Create covariance matrix heatmap to check for correlated features\n",
    "\n",
    "\n",
    "cov = np.cov(scale(X), rowvar = False)\n",
    "plt.imshow(cov, cmap='viridis', interpolation='nearest')\n",
    "plt.xticks(range(len(list(X))), list(X), rotation = 'vertical')\n",
    "plt.yticks(range(len(list(X))), list(X))\n",
    "\n",
    "\n",
    "#Take a closer look at the three continuous variables with high covariance\n",
    "\n",
    "\n",
    "print('Correlation Matrix')\n",
    "print('(nr_employed, euribor3m, emp_var_rate)')\n",
    "\n",
    "np.corrcoef(np.stack((data['nr_employed'], data['euribor3m']), axis=0), data['emp_var_rate'])\n"
   ]
  },
  {
   "cell_type": "markdown",
   "metadata": {},
   "source": [
    "# Step2 - ModelSet1 [35 points]\n",
    "\n",
    "In this step, we expect you to perform the following steps relevant to the models you choose for set1:\n",
    "\n",
    "* feature engineering\n",
    "* validation\n",
    "* feature selection\n",
    "* final model selection\n",
    "\n",
    "You may select up to 5 models in this step for the purpose of final ensemble. Any classification algorithm covered in class apart from tree-based models can be tested here."
   ]
  },
  {
   "cell_type": "code",
   "execution_count": 17,
   "metadata": {
    "ExecuteTime": {
     "end_time": "2017-04-03T23:01:36.665822",
     "start_time": "2017-04-03T22:59:44.899275"
    },
    "collapsed": false
   },
   "outputs": [
    {
     "name": "stdout",
     "output_type": "stream",
     "text": [
      "sm : [ 9  7  1  4  1  6  1  1  3  2  1 10  1  1  5  1  1  1  8]\n",
      "rus: [ 8  3  1  5  1  1  9  1  1  1  6 10  1  1  1  2  4  1  7]\n",
      "enn: [ 9  7  1  1  1  5  1  1  1  4  1 10  1  1  2  3  6  1  8]\n"
     ]
    }
   ],
   "source": [
    "#Determine feature importance with RFE using SVMs\n",
    "\n",
    "\n",
    "svc = LinearSVC()\n",
    "svc_rfe = RFE(svc, n_features_to_select = 10)\n",
    "\n",
    "sm = svc_rfe.fit(X_train_sm, y_train_sm)\n",
    "print('sm :', sm.ranking_)\n",
    "\n",
    "rus = svc_rfe.fit(X_train_rus, y_train_rus)\n",
    "print('rus:', rus.ranking_)\n",
    "\n",
    "enn = svc_rfe.fit(X_train_enn, y_train_enn)\n",
    "print('enn:', enn.ranking_)\n"
   ]
  },
  {
   "cell_type": "code",
   "execution_count": 18,
   "metadata": {
    "ExecuteTime": {
     "end_time": "2017-04-03T23:01:44.215613",
     "start_time": "2017-04-03T23:01:36.666809"
    },
    "collapsed": false
   },
   "outputs": [
    {
     "name": "stdout",
     "output_type": "stream",
     "text": [
      "sm : [ 8  7  1  3  1  6  1  1  4  2  1 10  1  1  5  1  1  1  9]\n",
      "rus: [ 8  7  1  3  1  6  1  1  4  2  1 10  1  1  5  1  1  1  9]\n",
      "enn: [ 8  7  1  3  1  6  1  1  4  2  1 10  1  1  5  1  1  1  9]\n"
     ]
    }
   ],
   "source": [
    "#Determine feature importance with RFE using Logistic Regression\n",
    "\n",
    "\n",
    "lr = LogisticRegression(n_jobs=8)\n",
    "lr_rfe = RFE(lr, n_features_to_select = 10)\n",
    "\n",
    "sm_lr = lr_rfe.fit(X_train_sm, y_train_sm)\n",
    "rus_lr = lr_rfe.fit(X_train_rus, y_train_rus)\n",
    "enn_lr = lr_rfe.fit(X_train_enn, y_train_enn)\n",
    "\n",
    "print('sm :', sm_lr.ranking_)\n",
    "print('rus:', rus_lr.ranking_)\n",
    "print('enn:', enn_lr.ranking_)\n"
   ]
  },
  {
   "cell_type": "code",
   "execution_count": 19,
   "metadata": {
    "ExecuteTime": {
     "end_time": "2017-04-03T23:01:53.132591",
     "start_time": "2017-04-03T23:01:44.216600"
    },
    "collapsed": false
   },
   "outputs": [
    {
     "name": "stdout",
     "output_type": "stream",
     "text": [
      "f : [False False False False  True False False  True False False  True  True\n",
      "  True  True  True  True False  True  True]\n",
      "mi: [ True  True  True  True False  True False False  True  True  True False\n",
      " False False False False False  True  True]\n"
     ]
    }
   ],
   "source": [
    "#Determine feature importance with F-scores, mutual information, and SelectKBest\n",
    "\n",
    "\n",
    "f = SelectKBest(f_classif, k=10)\n",
    "mi = SelectKBest(mutual_info_classif, k=10)\n",
    "                \n",
    "f.fit(X_train_sm, y_train_sm)\n",
    "mi.fit(X_train_sm, y_train_sm)\n",
    "\n",
    "print('f :', f.get_support())\n",
    "print('mi:', mi.get_support())\n"
   ]
  },
  {
   "cell_type": "code",
   "execution_count": 20,
   "metadata": {
    "ExecuteTime": {
     "end_time": "2017-04-03T23:02:39.250840",
     "start_time": "2017-04-03T23:01:53.133591"
    },
    "collapsed": false
   },
   "outputs": [
    {
     "name": "stdout",
     "output_type": "stream",
     "text": [
      "sm : [ 0.02   0.085  0.545  0.985  1.     0.025  0.49   1.     0.445  0.535  1.\n",
      "  0.87   0.145  1.     0.615  0.115  0.98   0.175  1.   ]\n",
      "rus: [ 0.02   0.085  0.545  0.985  1.     0.025  0.49   1.     0.445  0.535  1.\n",
      "  0.87   0.145  1.     0.615  0.115  0.98   0.175  1.   ]\n",
      "enn: [ 0.02   0.085  0.545  0.985  1.     0.025  0.49   1.     0.445  0.535  1.\n",
      "  0.87   0.145  1.     0.615  0.115  0.98   0.175  1.   ]\n"
     ]
    }
   ],
   "source": [
    "#Determine feature importance with stability selection using Logistic Regression\n",
    "\n",
    "\n",
    "from sklearn.linear_model import RandomizedLogisticRegression\n",
    "\n",
    "rlr = RandomizedLogisticRegression()\n",
    "\n",
    "rus_rlr = rlr.fit(X_train_rus, y_train_rus)\n",
    "sm_rlr = rlr.fit(X_train_sm, y_train_sm)\n",
    "enn_rlr = rlr.fit(X_train_enn, y_train_enn)\n",
    "\n",
    "print('sm :', sm_rlr.scores_)\n",
    "print('rus:', rus_rlr.scores_)\n",
    "print('enn:', enn_rlr.scores_)\n"
   ]
  },
  {
   "cell_type": "code",
   "execution_count": 21,
   "metadata": {
    "ExecuteTime": {
     "end_time": "2017-04-03T23:04:17.951213",
     "start_time": "2017-04-03T23:02:39.251822"
    },
    "collapsed": false
   },
   "outputs": [
    {
     "name": "stdout",
     "output_type": "stream",
     "text": [
      "rus: 0.773373700693\n",
      "sm : 0.858581888274\n",
      "enn: 0.863075782424\n"
     ]
    }
   ],
   "source": [
    "#Drop the features deemed to be unimportant: \"age\", \"housing\", \"nr_employed\"\n",
    "#Perform One Hot Encoding on the categorical features\n",
    "#Determine the best resampling technique to use with Logistic Regression\n",
    "\n",
    "\n",
    "dropped = [0, 5, 18]\n",
    "leftover_discrete = np.array([0, 1, 2, 3, 4, 5, 11])\n",
    "levels = np.array([12, 4, 8, 3, 3, 2, 3])\n",
    "\n",
    "one = OneHotEncoder(categorical_features=leftover_discrete, n_values=levels)\n",
    "\n",
    "X_train_rus_enc = one.fit_transform(np.delete(X_train_rus, dropped, axis=1))\n",
    "X_train_sm_enc = one.fit_transform(np.delete(X_train_sm, dropped, axis=1))\n",
    "X_train_enn_enc = one.fit_transform(np.delete(X_train_enn, dropped, axis=1))\n",
    "\n",
    "pipe = make_pipeline(MaxAbsScaler(), LogisticRegressionCV())\n",
    "\n",
    "rus_score = cross_val_score(pipe, X_train_rus_enc, y_train_rus, cv=10, scoring='roc_auc')\n",
    "print('rus:', np.mean(rus_score))\n",
    "\n",
    "sm_score = cross_val_score(pipe, X_train_sm_enc, y_train_sm, cv=10, scoring='roc_auc')\n",
    "print('sm :', np.mean(sm_score))\n",
    "\n",
    "enn_score = cross_val_score(pipe, X_train_enn_enc, y_train_enn, cv=10, scoring='roc_auc')\n",
    "print('enn:', np.mean(enn_score))\n",
    "    "
   ]
  },
  {
   "cell_type": "code",
   "execution_count": 22,
   "metadata": {
    "ExecuteTime": {
     "end_time": "2017-04-03T23:05:52.005186",
     "start_time": "2017-04-03T23:04:17.952214"
    },
    "collapsed": false
   },
   "outputs": [
    {
     "name": "stdout",
     "output_type": "stream",
     "text": [
      "rus: 0.771173646579\n",
      "sm : 0.84986389861\n",
      "enn: 0.853901625887\n"
     ]
    }
   ],
   "source": [
    "#Drop the features deemed to be unimportant: \"age\", \"job\", \"housing\", \"nr_employed\"\n",
    "#Perform One Hot Encoding on the categorical features\n",
    "#Determine the best resampling technique to use with Logistic Regression\n",
    "\n",
    "\n",
    "dropped = [0, 1, 5, 18]\n",
    "leftover_discrete = [0, 1, 2, 3, 4, 10]\n",
    "levels = np.array([4, 8, 3, 3, 2, 3])\n",
    "\n",
    "one = OneHotEncoder(categorical_features=leftover_discrete, n_values=levels)\n",
    "\n",
    "X_train_rus_enc = one.fit_transform(np.delete(X_train_rus, dropped, axis=1))\n",
    "X_train_sm_enc = one.fit_transform(np.delete(X_train_sm, dropped, axis=1))\n",
    "X_train_enn_enc = one.fit_transform(np.delete(X_train_enn, dropped, axis=1))\n",
    "\n",
    "pipe = make_pipeline(MaxAbsScaler(), LogisticRegressionCV())\n",
    "\n",
    "rus_score = cross_val_score(pipe, X_train_rus_enc, y_train_rus, cv=10, scoring='roc_auc')\n",
    "print('rus:', np.mean(rus_score))\n",
    "\n",
    "sm_score = cross_val_score(pipe, X_train_sm_enc, y_train_sm, cv=10, scoring='roc_auc')\n",
    "print('sm :', np.mean(sm_score))\n",
    "\n",
    "enn_score = cross_val_score(pipe, X_train_enn_enc, y_train_enn, cv=10, scoring='roc_auc')\n",
    "print('enn:', np.mean(enn_score))\n",
    "    "
   ]
  },
  {
   "cell_type": "code",
   "execution_count": 23,
   "metadata": {
    "ExecuteTime": {
     "end_time": "2017-04-03T23:07:09.016537",
     "start_time": "2017-04-03T23:05:52.006187"
    },
    "collapsed": false
   },
   "outputs": [
    {
     "name": "stdout",
     "output_type": "stream",
     "text": [
      "rus: 0.771430987975\n",
      "sm : 0.848548775629\n",
      "enn: 0.853016719277\n"
     ]
    }
   ],
   "source": [
    "#Drop the features deemed to be unimportant: \"age\", \"job\", \"housing\", \"cons_price_idx\", \"nr_employed\"\n",
    "#Perform One Hot Encoding on the categorical features\n",
    "#Determine the best resampling technique to use with Logistic Regression\n",
    "\n",
    "\n",
    "dropped = [0, 1, 5, 15, 18]\n",
    "leftover_discrete = [0, 1, 2, 3, 4, 10]\n",
    "levels = np.array([4, 8, 3, 3, 2, 3])\n",
    "\n",
    "one = OneHotEncoder(categorical_features=leftover_discrete, n_values=levels)\n",
    "\n",
    "X_train_rus_enc = one.fit_transform(np.delete(X_train_rus, dropped, axis=1))\n",
    "X_train_sm_enc = one.fit_transform(np.delete(X_train_sm, dropped, axis=1))\n",
    "X_train_enn_enc = one.fit_transform(np.delete(X_train_enn, dropped, axis=1))\n",
    "\n",
    "pipe = make_pipeline(MaxAbsScaler(), LogisticRegressionCV())\n",
    "\n",
    "rus_score = cross_val_score(pipe, X_train_rus_enc, y_train_rus, cv=10, scoring='roc_auc')\n",
    "print('rus:', np.mean(rus_score))\n",
    "\n",
    "sm_score = cross_val_score(pipe, X_train_sm_enc, y_train_sm, cv=10, scoring='roc_auc')\n",
    "print('sm :', np.mean(sm_score))\n",
    "\n",
    "enn_score = cross_val_score(pipe, X_train_enn_enc, y_train_enn, cv=10, scoring='roc_auc')\n",
    "print('enn:', np.mean(enn_score))\n"
   ]
  },
  {
   "cell_type": "code",
   "execution_count": 24,
   "metadata": {
    "ExecuteTime": {
     "end_time": "2017-04-03T23:08:21.371090",
     "start_time": "2017-04-03T23:07:09.017538"
    },
    "collapsed": false
   },
   "outputs": [
    {
     "name": "stdout",
     "output_type": "stream",
     "text": [
      "rus: 0.771346847873\n",
      "sm : 0.845069368408\n",
      "enn: 0.849921795219\n"
     ]
    }
   ],
   "source": [
    "#Drop the features deemed to be unimportant: \"age\", \"job\", \"housing\", \"prev_days\", \"cons_price_idx\", \"nr_employed\"\n",
    "#Perform One Hot Encoding on the categorical features\n",
    "#Determine the best resampling technique to use with Logistic Regression\n",
    "\n",
    "\n",
    "dropped = [0, 1, 5, 11, 15, 18]\n",
    "leftover_discrete = [0, 1, 2, 3, 4, 9]\n",
    "levels = np.array([4, 8, 3, 3, 2, 3])\n",
    "\n",
    "one = OneHotEncoder(categorical_features=leftover_discrete, n_values=levels)\n",
    "\n",
    "X_train_rus_enc = one.fit_transform(np.delete(X_train_rus, dropped, axis=1))\n",
    "X_train_sm_enc = one.fit_transform(np.delete(X_train_sm, dropped, axis=1))\n",
    "X_train_enn_enc = one.fit_transform(np.delete(X_train_enn, dropped, axis=1))\n",
    "\n",
    "pipe = make_pipeline(MaxAbsScaler(), LogisticRegressionCV())\n",
    "\n",
    "rus_score = cross_val_score(pipe, X_train_rus_enc, y_train_rus, cv=10, scoring='roc_auc')\n",
    "print('rus:', np.mean(rus_score))\n",
    "\n",
    "sm_score = cross_val_score(pipe, X_train_sm_enc, y_train_sm, cv=10, scoring='roc_auc')\n",
    "print('sm :', np.mean(sm_score))\n",
    "\n",
    "enn_score = cross_val_score(pipe, X_train_enn_enc, y_train_enn, cv=10, scoring='roc_auc')\n",
    "print('enn:', np.mean(enn_score))\n"
   ]
  },
  {
   "cell_type": "code",
   "execution_count": 25,
   "metadata": {
    "ExecuteTime": {
     "end_time": "2017-04-03T23:08:54.854310",
     "start_time": "2017-04-03T23:08:21.372078"
    },
    "collapsed": false
   },
   "outputs": [
    {
     "name": "stdout",
     "output_type": "stream",
     "text": [
      "rus: 0.716056034483\n",
      "sm : 0.77050413845\n",
      "enn: 0.76792518185\n"
     ]
    }
   ],
   "source": [
    "#Score the Logistic Regression model that produced the best results on the training data\n",
    "#Drop the \"age\", \"job\", \"housing\", \"cons_price_idx\", and \"nr_employed\" features\n",
    "\n",
    "\n",
    "dropped = [0, 1, 5, 15, 18]\n",
    "leftover_discrete = [0, 1, 2, 3, 4, 10]\n",
    "levels = np.array([4, 8, 3, 3, 2, 3])\n",
    "\n",
    "one = OneHotEncoder(categorical_features=leftover_discrete, n_values=levels)\n",
    "\n",
    "X_train_rus_enc = one.fit_transform(np.delete(X_train_rus, dropped, axis=1))\n",
    "X_train_sm_enc = one.fit_transform(np.delete(X_train_sm, dropped, axis=1))\n",
    "X_train_enn_enc = one.fit_transform(np.delete(X_train_enn, dropped, axis=1))\n",
    "\n",
    "X_test_rus_enc = one.fit_transform(np.delete(X_test_rus, dropped, axis=1))\n",
    "X_test_sm_enc = one.fit_transform(np.delete(X_test_sm, dropped, axis=1))\n",
    "X_test_enn_enc = one.fit_transform(np.delete(X_test_enn, dropped, axis=1))\n",
    "\n",
    "pipe = make_pipeline(MaxAbsScaler(), LogisticRegressionCV(cv=10, scoring='roc_auc'))\n",
    "\n",
    "rus_lr = pipe.fit(X_train_rus_enc, y_train_rus)\n",
    "print('rus:', rus_lr.score(X_test_rus_enc, y_test_rus))\n",
    "\n",
    "sm_lr = pipe.fit(X_train_sm_enc, y_train_sm)\n",
    "print('sm :', sm_lr.score(X_test_sm_enc, y_test_sm))\n",
    "\n",
    "enn_lr = pipe.fit(X_train_enn_enc, y_train_enn)\n",
    "print('enn:', enn_lr.score(X_test_enn_enc, y_test_enn))\n"
   ]
  },
  {
   "cell_type": "code",
   "execution_count": 26,
   "metadata": {
    "ExecuteTime": {
     "end_time": "2017-04-03T23:09:41.594863",
     "start_time": "2017-04-03T23:08:54.855292"
    },
    "collapsed": false
   },
   "outputs": [
    {
     "name": "stdout",
     "output_type": "stream",
     "text": [
      "rus best score: 0.756829615454\n",
      "rus best parameters: {'alpha': 0.10000000000000001}\n",
      "sm  best score: 0.760826530828\n",
      "sm  best parameters: {'alpha': 0.10000000000000001}\n",
      "enn best score: 0.765326143096\n",
      "enn best parameters: {'alpha': 0.10000000000000001}\n"
     ]
    }
   ],
   "source": [
    "#Determine the best resampling technique to use with SGDClassifier and the chosen feature set\n",
    "\n",
    "\n",
    "dropped = [0, 1, 5, 15, 18]\n",
    "leftover_discrete = [0, 1, 2, 3, 4, 10]\n",
    "levels = np.array([4, 8, 3, 3, 2, 3])\n",
    "\n",
    "one = OneHotEncoder(categorical_features=leftover_discrete, n_values=levels)\n",
    "\n",
    "X_train_rus_enc = one.fit_transform(np.delete(X_train_rus, dropped, axis=1))\n",
    "X_train_sm_enc = one.fit_transform(np.delete(X_train_sm, dropped, axis=1))\n",
    "X_train_enn_enc = one.fit_transform(np.delete(X_train_enn, dropped, axis=1))\n",
    "\n",
    "grid = {'alpha': np.logspace(-1,7, 9)}\n",
    "\n",
    "methods = [('rus', X_train_rus, y_train_rus), ('sm ', X_train_sm, y_train_sm), ('enn', X_train_enn, y_train_enn)]\n",
    "scaler = MaxAbsScaler()\n",
    "\n",
    "for array in methods:\n",
    "    gridsearch = GridSearchCV(SGDClassifier(loss='modified_huber', n_iter=np.ceil(10**6/np.shape(array[1])[0])),\n",
    "                                     param_grid=grid, scoring='roc_auc', cv=15)\n",
    "    \n",
    "    sgd = gridsearch.fit(scaler.fit_transform(array[1]), array[2])\n",
    "    print(array[0], 'best score:', sgd.score(array[1], array[2]))\n",
    "    print(array[0], 'best parameters:', sgd.best_params_)\n",
    "    "
   ]
  },
  {
   "cell_type": "code",
   "execution_count": 27,
   "metadata": {
    "ExecuteTime": {
     "end_time": "2017-04-03T23:09:42.279091",
     "start_time": "2017-04-03T23:09:41.596365"
    },
    "collapsed": false
   },
   "outputs": [
    {
     "name": "stdout",
     "output_type": "stream",
     "text": [
      "rus: 0.716056285366\n",
      "sm : 0.754442039213\n",
      "enn: 0.755210003859\n"
     ]
    }
   ],
   "source": [
    "#Score the SGDClassifier model with the optimal parameter value and the chosen feature set\n",
    "\n",
    "\n",
    "dropped = [0, 1, 5, 15, 18]\n",
    "leftover_discrete = [0, 1, 2, 3, 4, 10]\n",
    "levels = np.array([4, 8, 3, 3, 2, 3])\n",
    "\n",
    "one = OneHotEncoder(categorical_features=leftover_discrete, n_values=levels)\n",
    "\n",
    "X_train_rus_enc = one.fit_transform(np.delete(X_train_rus, dropped, axis=1))\n",
    "X_train_sm_enc = one.fit_transform(np.delete(X_train_sm, dropped, axis=1))\n",
    "X_train_enn_enc = one.fit_transform(np.delete(X_train_enn, dropped, axis=1))\n",
    "\n",
    "X_test_rus_enc = one.fit_transform(np.delete(X_test_rus, dropped, axis=1))\n",
    "X_test_sm_enc = one.fit_transform(np.delete(X_test_sm, dropped, axis=1))\n",
    "X_test_enn_enc = one.fit_transform(np.delete(X_test_enn, dropped, axis=1))\n",
    "\n",
    "sgd_pipe = make_pipeline(MaxAbsScaler(),\n",
    "                         SGDClassifier(alpha=0.1,loss='modified_huber',n_iter=np.ceil(10**6/np.shape(X_train_enn_enc)[0])))\n",
    "\n",
    "rus_sgd = sgd_pipe.fit(X_train_rus_enc, y_train_rus)\n",
    "print('rus:', roc_auc_score(rus_sgd.predict(X_test_rus_enc), y_test_rus))\n",
    "\n",
    "sm_sgd = sgd_pipe.fit(X_train_sm_enc, y_train_sm)\n",
    "print('sm :', roc_auc_score(sm_sgd.predict(X_test_sm_enc), y_test_sm))\n",
    "\n",
    "enn_sgd = sgd_pipe.fit(X_train_enn_enc, y_train_enn)\n",
    "print('enn:', roc_auc_score(enn_sgd.predict(X_test_enn_enc), y_test_enn))\n"
   ]
  },
  {
   "cell_type": "markdown",
   "metadata": {},
   "source": [
    "# Step3 - ModelSet2 [35 points]\n",
    "\n",
    "In this step, we expect you to perform the following steps relevant to the models you choose for set2:\n",
    "\n",
    "* feature engineering\n",
    "* validation\n",
    "* feature selection\n",
    "* final model selection\n",
    "\n",
    "You may select up to 5 models in this step for the purpose of final ensemble. We encourage you to try decition tree, random forest and gradient boosted tree methods here and pick the one which you think works best."
   ]
  },
  {
   "cell_type": "code",
   "execution_count": 28,
   "metadata": {
    "ExecuteTime": {
     "end_time": "2017-04-03T23:11:04.129899",
     "start_time": "2017-04-03T23:09:42.280080"
    },
    "collapsed": false
   },
   "outputs": [
    {
     "name": "stdout",
     "output_type": "stream",
     "text": [
      "rus: 0.907507183908\n",
      "{'max_depth': 50.0, 'max_features': 7}\n",
      "sm : 0.962354653269\n",
      "{'max_depth': 50.0, 'max_features': 7}\n",
      "enn: 1.0\n",
      "{'max_depth': 50.0, 'max_features': 7}\n"
     ]
    }
   ],
   "source": [
    "#Perform a grid search to find the optimal Decision Tree parameter values for max_depth and max_features\n",
    "\n",
    "\n",
    "grid = {'max_features': range(3, 15, 1), 'max_depth': np.linspace(5, 50, 2)}\n",
    "\n",
    "search = GridSearchCV(DecisionTreeClassifier(), param_grid = grid, scoring='roc_auc', cv=10)\n",
    "\n",
    "rus = search.fit(X_train_rus, y_train_rus)\n",
    "sm = search.fit(X_train_sm, y_train_sm)\n",
    "enn = search.fit(X_train_enn, y_train_enn)\n",
    "\n",
    "print('rus:', rus.score(X_train_rus, y_train_rus))\n",
    "print(rus.best_params_)\n",
    "print('sm :', sm.score(X_train_sm, y_train_sm))\n",
    "print(sm.best_params_)\n",
    "print('enn:', enn.score(X_train_enn, y_train_enn))\n",
    "print(enn.best_params_)\n"
   ]
  },
  {
   "cell_type": "code",
   "execution_count": 29,
   "metadata": {
    "ExecuteTime": {
     "end_time": "2017-04-03T23:11:09.800049",
     "start_time": "2017-04-03T23:11:04.130882"
    },
    "collapsed": false
   },
   "outputs": [
    {
     "name": "stdout",
     "output_type": "stream",
     "text": [
      "rus: 0.646907635182\n",
      "sm : 0.894361465729\n",
      "enn: 0.897480344981\n"
     ]
    }
   ],
   "source": [
    "#Perform cross-validation using each balanced dataset and the optimal parameter values\n",
    "\n",
    "\n",
    "dt = DecisionTreeClassifier(max_features=11, max_depth=50)\n",
    "\n",
    "print('rus:', np.mean(cross_val_score(dt, X_train_rus, y_train_rus, cv=10, scoring='roc_auc')))\n",
    "print('sm :', np.mean(cross_val_score(dt, X_train_sm, y_train_sm, cv=10, scoring='roc_auc')))\n",
    "print('enn:', np.mean(cross_val_score(dt, X_train_enn, y_train_enn, cv=10, scoring='roc_auc')))\n"
   ]
  },
  {
   "cell_type": "code",
   "execution_count": 30,
   "metadata": {
    "ExecuteTime": {
     "end_time": "2017-04-03T23:11:10.411120",
     "start_time": "2017-04-03T23:11:09.801036"
    },
    "collapsed": false
   },
   "outputs": [
    {
     "name": "stdout",
     "output_type": "stream",
     "text": [
      "rus: 0.916016670151\n",
      "sm: 0.964235701966\n",
      "enn: 0.901675088316\n"
     ]
    }
   ],
   "source": [
    "#Score the test set using the chosen parameters values\n",
    "\n",
    "\n",
    "rus_dt = dt.fit(X_train_rus, y_train_rus)\n",
    "sm_dt = dt.fit(X_train_sm, y_train_sm)\n",
    "enn_dt = dt.fit(X_train_enn, y_train_enn)\n",
    "\n",
    "print('rus:', roc_auc_score(rus_dt.predict(X_test_rus), y_test_rus))\n",
    "print('sm:', roc_auc_score(sm_dt.predict(X_test_sm), y_test_sm))\n",
    "print('enn:', roc_auc_score(enn_dt.predict(X_test_enn), y_test_enn))\n"
   ]
  },
  {
   "cell_type": "code",
   "execution_count": 54,
   "metadata": {
    "ExecuteTime": {
     "end_time": "2017-04-03T23:55:06.462109",
     "start_time": "2017-04-03T23:41:31.910550"
    },
    "collapsed": false
   },
   "outputs": [
    {
     "name": "stdout",
     "output_type": "stream",
     "text": [
      "rus: 0.977190769401\n",
      "{'max_depth': 45}\n",
      "sm : 0.996651646065\n",
      "{'max_depth': 45}\n",
      "enn: 0.999999917868\n",
      "{'max_depth': 45}\n"
     ]
    }
   ],
   "source": [
    "#Perform a grid search to find the optimal Random Forest parameter value for max_depth\n",
    "\n",
    "\n",
    "grid = {'max_depth': np.array([5, 10, 15, 20, 25, 30, 35, 40, 45, 50, None])}\n",
    "search = GridSearchCV(RandomForestClassifier(n_estimators=50, max_features='sqrt', n_jobs=8),\n",
    "                      param_grid = grid, scoring='roc_auc', cv=10)\n",
    "\n",
    "\n",
    "rus_rt = search.fit(X_train_rus, y_train_rus)\n",
    "sm_rt = search.fit(X_train_sm, y_train_sm)\n",
    "enn_rt = search.fit(X_train_enn, y_train_enn)\n",
    "\n",
    "print('rus:', rus_rt.score(X_train_rus, y_train_rus))\n",
    "print(rus_rt.best_params_)\n",
    "print('sm :', sm_rt.score(X_train_sm, y_train_sm))\n",
    "print(sm_rt.best_params_)\n",
    "print('enn:', enn_rt.score(X_train_enn, y_train_enn))\n",
    "print(enn_rt.best_params_)\n"
   ]
  },
  {
   "cell_type": "code",
   "execution_count": 58,
   "metadata": {
    "ExecuteTime": {
     "end_time": "2017-04-04T00:31:44.703077",
     "start_time": "2017-04-04T00:31:42.542742"
    },
    "collapsed": false
   },
   "outputs": [
    {
     "name": "stdout",
     "output_type": "stream",
     "text": [
      "rus: 0.927990049056\n",
      "sm: 0.981833903977\n",
      "enn: 0.943452806457\n"
     ]
    }
   ],
   "source": [
    "#Score the test set using the chosen parameter\n",
    "\n",
    "\n",
    "rt = RandomForestClassifier(n_estimators=50, max_features='sqrt', max_depth=45, n_jobs=8)\n",
    "\n",
    "rus_rt = rt.fit(X_train_rus, y_train_rus)\n",
    "sm_rt = rt.fit(X_train_sm, y_train_sm)\n",
    "enn_rt = rt.fit(X_train_enn, y_train_enn)\n",
    "\n",
    "print('rus:', roc_auc_score(rus_rt.predict(X_test_rus), y_test_rus))\n",
    "print('sm:', roc_auc_score(sm_rt.predict(X_test_sm), y_test_sm))\n",
    "print('enn:', roc_auc_score(enn_rt.predict(X_test_enn), y_test_enn))\n"
   ]
  },
  {
   "cell_type": "code",
   "execution_count": 60,
   "metadata": {
    "ExecuteTime": {
     "end_time": "2017-04-04T00:49:08.322176",
     "start_time": "2017-04-04T00:35:40.619942"
    },
    "collapsed": false
   },
   "outputs": [
    {
     "name": "stdout",
     "output_type": "stream",
     "text": [
      "rus: 0.976415931761\n",
      "{'max_depth': 50}\n",
      "sm : 0.996551705149\n",
      "{'max_depth': 50}\n",
      "enn: 0.999999911468\n",
      "{'max_depth': 50}\n"
     ]
    }
   ],
   "source": [
    "#Perform a grid search to find the optimal Extra Trees parameter value for max_depth\n",
    "\n",
    "\n",
    "grid = {'max_depth': np.array([5, 10, 15, 20, 25, 30, 35, 40, 45, 50, None])}\n",
    "et_search = GridSearchCV(ExtraTreesClassifier(n_estimators=50, max_features='sqrt', n_jobs=8),\n",
    "                      param_grid = grid, scoring='roc_auc', cv=10)\n",
    "\n",
    "\n",
    "rus_et = search.fit(X_train_rus, y_train_rus)\n",
    "sm_et = search.fit(X_train_sm, y_train_sm)\n",
    "enn_et = search.fit(X_train_enn, y_train_enn)\n",
    "\n",
    "print('rus:', rus_et.score(X_train_rus, y_train_rus))\n",
    "print(rus_et.best_params_)\n",
    "print('sm :', sm_et.score(X_train_sm, y_train_sm))\n",
    "print(sm_et.best_params_)\n",
    "print('enn:', enn_et.score(X_train_enn, y_train_enn))\n",
    "print(enn_et.best_params_)\n"
   ]
  },
  {
   "cell_type": "code",
   "execution_count": 61,
   "metadata": {
    "ExecuteTime": {
     "end_time": "2017-04-04T00:49:53.418012",
     "start_time": "2017-04-04T00:49:52.072285"
    },
    "collapsed": false
   },
   "outputs": [
    {
     "name": "stdout",
     "output_type": "stream",
     "text": [
      "rus: 0.946005317179\n",
      "sm: 0.983551291705\n",
      "enn: 0.95608571333\n"
     ]
    }
   ],
   "source": [
    "#Score the test set using the chosen parameter\n",
    "\n",
    "\n",
    "et = ExtraTreesClassifier(n_estimators=50, max_features='sqrt', max_depth=50, n_jobs=8)\n",
    "\n",
    "rus_et = et.fit(X_train_rus, y_train_rus)\n",
    "sm_et = et.fit(X_train_sm, y_train_sm)\n",
    "enn_et = et.fit(X_train_enn, y_train_enn)\n",
    "\n",
    "print('rus:', roc_auc_score(rus_et.predict(X_test_rus), y_test_rus))\n",
    "print('sm:', roc_auc_score(sm_et.predict(X_test_sm), y_test_sm))\n",
    "print('enn:', roc_auc_score(enn_et.predict(X_test_enn), y_test_enn))"
   ]
  },
  {
   "cell_type": "markdown",
   "metadata": {},
   "source": [
    "# Step4 - Ensemble [20 points + 10 Bonus points]\n",
    "\n",
    "In this step, we expect you to use the models created before and create new predictions. You should definitely try poor man's stacking but we encourage you to think of different ensemble techniques as well. We will judge your creativity and improvement in model performance using ensemble models and you can potentially earn 10 bonus points here."
   ]
  },
  {
   "cell_type": "code",
   "execution_count": 1,
   "metadata": {
    "ExecuteTime": {
     "end_time": "2017-04-03T22:38:32.666381",
     "start_time": "2017-04-03T22:38:32.663378"
    },
    "collapsed": false
   },
   "outputs": [],
   "source": [
    "#write code below, you can make multiple cells\n",
    "assert 5 + 5 == 10"
   ]
  }
 ],
 "metadata": {
  "anaconda-cloud": {},
  "kernelspec": {
   "display_name": "Python [default]",
   "language": "python",
   "name": "python3"
  },
  "language_info": {
   "codemirror_mode": {
    "name": "ipython",
    "version": 3
   },
   "file_extension": ".py",
   "mimetype": "text/x-python",
   "name": "python",
   "nbconvert_exporter": "python",
   "pygments_lexer": "ipython3",
   "version": "3.5.2"
  }
 },
 "nbformat": 4,
 "nbformat_minor": 2
}
