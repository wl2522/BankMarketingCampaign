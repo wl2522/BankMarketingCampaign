{
 "cells": [
  {
   "cell_type": "markdown",
   "metadata": {},
   "source": [
    "# Submission Information:\n",
    "\n",
    "### Team Member 1:\n",
    "* UNI:  WL2522\n",
    "* Name:  Wilson Lui\n",
    "\n",
    "### Team Member 2 [optional]:\n",
    "* UNI:  \n",
    "* Name:"
   ]
  },
  {
   "cell_type": "markdown",
   "metadata": {},
   "source": [
    "# Step0 - Import Libraries, Load Data [0 points]\n",
    "\n",
    "This is the basic step where you can load the data and create train and test sets for internal validation as per your convinience."
   ]
  },
  {
   "cell_type": "code",
   "execution_count": 2,
   "metadata": {
    "ExecuteTime": {
     "end_time": "2017-04-03T20:48:59.859547",
     "start_time": "2017-04-03T20:48:54.814499"
    },
    "collapsed": false
   },
   "outputs": [],
   "source": [
    "%matplotlib inline\n",
    "\n",
    "import pandas as pd\n",
    "import numpy as np\n",
    "import matplotlib.pyplot as plt\n",
    "from collections import Counter\n",
    "\n",
    "from sklearn.model_selection import train_test_split, GridSearchCV, cross_val_score\n",
    "from sklearn.preprocessing import LabelEncoder, scale, OneHotEncoder, MaxAbsScaler\n",
    "from sklearn.pipeline import make_pipeline\n",
    "from sklearn.metrics import roc_auc_score\n",
    "from sklearn.linear_model import LogisticRegression, LogisticRegressionCV, SGDClassifier\n",
    "from sklearn.feature_selection import RFE, SelectKBest, mutual_info_classif, f_classif\n",
    "from sklearn.svm import LinearSVC \n",
    "from sklearn.tree import DecisionTreeClassifier\n",
    "from sklearn.ensemble import RandomForestClassifier\n",
    "\n",
    "from imblearn.under_sampling import RandomUnderSampler\n",
    "from imblearn.combine import SMOTEENN\n",
    "from imblearn.over_sampling import SMOTE\n",
    "\n",
    "data = pd.read_csv('data\\data.csv')\n"
   ]
  },
  {
   "cell_type": "code",
   "execution_count": 3,
   "metadata": {
    "ExecuteTime": {
     "end_time": "2017-04-03T20:49:01.759597",
     "start_time": "2017-04-03T20:49:01.714540"
    },
    "collapsed": false
   },
   "outputs": [],
   "source": [
    "#Separate the ID column from the holdout set\n",
    "\n",
    "\n",
    "holdout = pd.read_csv('data/holdout.csv')\n",
    "ID = holdout['ID']\n",
    "holdout = holdout.drop('ID', 1)\n",
    "\n",
    "\n",
    "#Remove the \"duration\" feature to avoid getting overoptimistic results\n",
    "\n",
    "\n",
    "data = data.drop('duration', 1)\n",
    "holdout = holdout.drop('duration', 1)\n"
   ]
  },
  {
   "cell_type": "code",
   "execution_count": 74,
   "metadata": {
    "ExecuteTime": {
     "end_time": "2017-04-03T12:42:41.007592",
     "start_time": "2017-04-03T12:42:40.688560"
    },
    "collapsed": false
   },
   "outputs": [],
   "source": [
    "#Convert the \"month\" and \"day_of_week\" features to integers\n",
    "#(in order to experiment with treating them as both categorical and continuous features)\n",
    "\n",
    "\n",
    "months = [('mar', 3), ('apr', 4), ('may', 5), ('jun', 6), ('jul', 7), ('aug', 8),\n",
    "          ('sep', 9), ('oct', 10), ('nov', 11), ('dec', 12)]\n",
    "weekdays = [('mon', 1), ('tue', 2), ('wed', 3), ('thu', 4), ('fri', 5)]\n",
    "\n",
    "for month in months:\n",
    "    data['month'].replace(to_replace=month[0], value=month[1], inplace=True)\n",
    "    holdout['month'].replace(to_replace=month[0], value=month[1], inplace=True)\n",
    "    \n",
    "for day in weekdays:\n",
    "    data['day_of_week'].replace(to_replace=day[0], value=day[1], inplace=True)\n",
    "    holdout['day_of_week'].replace(to_replace=day[0], value=day[1], inplace=True)\n",
    "    "
   ]
  },
  {
   "cell_type": "code",
   "execution_count": 75,
   "metadata": {
    "ExecuteTime": {
     "end_time": "2017-04-03T12:42:43.168808",
     "start_time": "2017-04-03T12:42:42.573749"
    },
    "collapsed": false
   },
   "outputs": [],
   "source": [
    "#Create a copy of the dataset for encoding purposes and leave the original for visualizations\n",
    "#Separate the categorical features from the numerical ones\n",
    "#Encode category and response variable strings to integers\n",
    "#Treat \"prev_days\" as a categorical variable due to the large majority of 999 values\n",
    "\n",
    "\n",
    "num = ['age', 'month', 'day_of_week', 'campaign', 'prev_days', 'prev_contacts','emp_var_rate',\n",
    "       'cons_price_idx', 'cons_conf_idx', 'euribor3m', 'nr_employed']\n",
    "\n",
    "cat = ['job', 'marital_status', 'education', 'credit_default', 'housing',\n",
    "       'loan', 'contact', 'prev_outcomes']\n",
    "\n",
    "\n",
    "enc_data = data.copy()\n",
    "enc_holdout = holdout.copy()\n",
    "\n",
    "le = LabelEncoder()\n",
    "\n",
    "\n",
    "for col in cat:\n",
    "    levels = np.concatenate((enc_data[col].unique(), enc_holdout[col].unique()))\n",
    "    le.fit(levels)\n",
    "    enc_data[col] = le.transform(enc_data[col])\n",
    "    enc_holdout[col] = le.transform(enc_holdout[col])\n"
   ]
  },
  {
   "cell_type": "code",
   "execution_count": 76,
   "metadata": {
    "ExecuteTime": {
     "end_time": "2017-04-03T12:42:46.856177",
     "start_time": "2017-04-03T12:42:46.736165"
    },
    "collapsed": true
   },
   "outputs": [],
   "source": [
    "#Encode the response variable\n",
    "#Separate the features from the response variable\n",
    "\n",
    "\n",
    "levels = enc_data['subscribed'].unique()\n",
    "le.fit(levels)\n",
    "enc_data['subscribed'] = le.transform(enc_data['subscribed'])\n",
    "\n",
    "X = enc_data.iloc[:,:-1]\n",
    "y = enc_data.iloc[:,-1]\n"
   ]
  },
  {
   "cell_type": "code",
   "execution_count": 77,
   "metadata": {
    "ExecuteTime": {
     "end_time": "2017-04-03T12:43:12.474739",
     "start_time": "2017-04-03T12:42:49.111402"
    },
    "collapsed": false
   },
   "outputs": [],
   "source": [
    "#Balance the dataset using Random Undersampling, SMOTE, and SMOTE + Edited Nearest Neighbors\n",
    "#Create a different train/test split for each balanced dataset\n",
    "\n",
    "\n",
    "rus = RandomUnderSampler(replacement=True)\n",
    "sm = SMOTE()\n",
    "enn = SMOTEENN()\n",
    "\n",
    "X_rus, y_rus = rus.fit_sample(X, y)\n",
    "X_sm, y_sm = sm.fit_sample(X, y)\n",
    "X_enn, y_enn = enn.fit_sample(X, y)\n",
    "\n",
    "X_train_rus, X_test_rus, y_train_rus, y_test_rus = train_test_split(X_rus, y_rus, stratify=y_rus)\n",
    "X_train_sm, X_test_sm, y_train_sm, y_test_sm = train_test_split(X_sm, y_sm, stratify=y_sm)\n",
    "X_train_enn, X_test_enn, y_train_enn, y_test_enn = train_test_split(X_enn, y_enn, stratify=y_enn)\n"
   ]
  },
  {
   "cell_type": "markdown",
   "metadata": {},
   "source": [
    "# Step1 - Exploration and Preparation [10 points]\n",
    "\n",
    "In this step, we expect you to look into the data and try to understand it before modeling. This understanding may lead to some basic data preparation steps which are common across the two model sets required."
   ]
  },
  {
   "cell_type": "code",
   "execution_count": 78,
   "metadata": {
    "ExecuteTime": {
     "end_time": "2017-04-03T12:43:13.282819",
     "start_time": "2017-04-03T12:43:12.476739"
    },
    "collapsed": true
   },
   "outputs": [
    {
     "data": {
      "text/html": [
       "<div>\n",
       "<table border=\"1\" class=\"dataframe\">\n",
       "  <thead>\n",
       "    <tr style=\"text-align: right;\">\n",
       "      <th></th>\n",
       "      <th>age</th>\n",
       "      <th>month</th>\n",
       "      <th>day_of_week</th>\n",
       "      <th>campaign</th>\n",
       "      <th>prev_days</th>\n",
       "      <th>prev_contacts</th>\n",
       "      <th>emp_var_rate</th>\n",
       "      <th>cons_price_idx</th>\n",
       "      <th>cons_conf_idx</th>\n",
       "      <th>euribor3m</th>\n",
       "      <th>nr_employed</th>\n",
       "    </tr>\n",
       "  </thead>\n",
       "  <tbody>\n",
       "    <tr>\n",
       "      <th>count</th>\n",
       "      <td>32950.000000</td>\n",
       "      <td>32950.000000</td>\n",
       "      <td>32950.000000</td>\n",
       "      <td>32950.000000</td>\n",
       "      <td>32950.000000</td>\n",
       "      <td>32950.000000</td>\n",
       "      <td>32950.000000</td>\n",
       "      <td>32950.000000</td>\n",
       "      <td>32950.000000</td>\n",
       "      <td>32950.000000</td>\n",
       "      <td>32950.000000</td>\n",
       "    </tr>\n",
       "    <tr>\n",
       "      <th>mean</th>\n",
       "      <td>40.019059</td>\n",
       "      <td>6.609317</td>\n",
       "      <td>2.982155</td>\n",
       "      <td>2.641639</td>\n",
       "      <td>961.537906</td>\n",
       "      <td>0.174385</td>\n",
       "      <td>0.080115</td>\n",
       "      <td>93.583705</td>\n",
       "      <td>-40.496740</td>\n",
       "      <td>3.618901</td>\n",
       "      <td>5166.932832</td>\n",
       "    </tr>\n",
       "    <tr>\n",
       "      <th>std</th>\n",
       "      <td>10.850807</td>\n",
       "      <td>2.042670</td>\n",
       "      <td>1.408273</td>\n",
       "      <td>2.803230</td>\n",
       "      <td>189.209917</td>\n",
       "      <td>0.498989</td>\n",
       "      <td>1.573180</td>\n",
       "      <td>1.162662</td>\n",
       "      <td>4.645301</td>\n",
       "      <td>1.737149</td>\n",
       "      <td>72.439480</td>\n",
       "    </tr>\n",
       "    <tr>\n",
       "      <th>min</th>\n",
       "      <td>17.000000</td>\n",
       "      <td>3.000000</td>\n",
       "      <td>1.000000</td>\n",
       "      <td>1.000000</td>\n",
       "      <td>0.000000</td>\n",
       "      <td>0.000000</td>\n",
       "      <td>-3.695294</td>\n",
       "      <td>88.311974</td>\n",
       "      <td>-52.220779</td>\n",
       "      <td>0.325461</td>\n",
       "      <td>4963.600000</td>\n",
       "    </tr>\n",
       "    <tr>\n",
       "      <th>25%</th>\n",
       "      <td>32.000000</td>\n",
       "      <td>5.000000</td>\n",
       "      <td>2.000000</td>\n",
       "      <td>1.000000</td>\n",
       "      <td>999.000000</td>\n",
       "      <td>0.000000</td>\n",
       "      <td>-1.724208</td>\n",
       "      <td>92.800661</td>\n",
       "      <td>-43.087110</td>\n",
       "      <td>1.377065</td>\n",
       "      <td>5101.000000</td>\n",
       "    </tr>\n",
       "    <tr>\n",
       "      <th>50%</th>\n",
       "      <td>38.000000</td>\n",
       "      <td>6.000000</td>\n",
       "      <td>3.000000</td>\n",
       "      <td>2.000000</td>\n",
       "      <td>999.000000</td>\n",
       "      <td>0.000000</td>\n",
       "      <td>1.085053</td>\n",
       "      <td>93.586959</td>\n",
       "      <td>-41.685507</td>\n",
       "      <td>4.800570</td>\n",
       "      <td>5194.000000</td>\n",
       "    </tr>\n",
       "    <tr>\n",
       "      <th>75%</th>\n",
       "      <td>47.000000</td>\n",
       "      <td>8.000000</td>\n",
       "      <td>4.000000</td>\n",
       "      <td>3.000000</td>\n",
       "      <td>999.000000</td>\n",
       "      <td>0.000000</td>\n",
       "      <td>1.366367</td>\n",
       "      <td>94.381404</td>\n",
       "      <td>-36.404580</td>\n",
       "      <td>4.943674</td>\n",
       "      <td>5226.000000</td>\n",
       "    </tr>\n",
       "    <tr>\n",
       "      <th>max</th>\n",
       "      <td>97.000000</td>\n",
       "      <td>12.000000</td>\n",
       "      <td>5.000000</td>\n",
       "      <td>56.000000</td>\n",
       "      <td>999.000000</td>\n",
       "      <td>7.000000</td>\n",
       "      <td>1.785673</td>\n",
       "      <td>98.263042</td>\n",
       "      <td>-25.323735</td>\n",
       "      <td>5.362403</td>\n",
       "      <td>5249.000000</td>\n",
       "    </tr>\n",
       "  </tbody>\n",
       "</table>\n",
       "</div>"
      ],
      "text/plain": [
       "                age         month   day_of_week      campaign     prev_days  \\\n",
       "count  32950.000000  32950.000000  32950.000000  32950.000000  32950.000000   \n",
       "mean      40.019059      6.609317      2.982155      2.641639    961.537906   \n",
       "std       10.850807      2.042670      1.408273      2.803230    189.209917   \n",
       "min       17.000000      3.000000      1.000000      1.000000      0.000000   \n",
       "25%       32.000000      5.000000      2.000000      1.000000    999.000000   \n",
       "50%       38.000000      6.000000      3.000000      2.000000    999.000000   \n",
       "75%       47.000000      8.000000      4.000000      3.000000    999.000000   \n",
       "max       97.000000     12.000000      5.000000     56.000000    999.000000   \n",
       "\n",
       "       prev_contacts  emp_var_rate  cons_price_idx  cons_conf_idx  \\\n",
       "count   32950.000000  32950.000000    32950.000000   32950.000000   \n",
       "mean        0.174385      0.080115       93.583705     -40.496740   \n",
       "std         0.498989      1.573180        1.162662       4.645301   \n",
       "min         0.000000     -3.695294       88.311974     -52.220779   \n",
       "25%         0.000000     -1.724208       92.800661     -43.087110   \n",
       "50%         0.000000      1.085053       93.586959     -41.685507   \n",
       "75%         0.000000      1.366367       94.381404     -36.404580   \n",
       "max         7.000000      1.785673       98.263042     -25.323735   \n",
       "\n",
       "          euribor3m   nr_employed  \n",
       "count  32950.000000  32950.000000  \n",
       "mean       3.618901   5166.932832  \n",
       "std        1.737149     72.439480  \n",
       "min        0.325461   4963.600000  \n",
       "25%        1.377065   5101.000000  \n",
       "50%        4.800570   5194.000000  \n",
       "75%        4.943674   5226.000000  \n",
       "max        5.362403   5249.000000  "
      ]
     },
     "execution_count": 78,
     "metadata": {},
     "output_type": "execute_result"
    }
   ],
   "source": [
    "#Get summary statistics on the data\n",
    "\n",
    "\n",
    "data.describe()"
   ]
  },
  {
   "cell_type": "code",
   "execution_count": 79,
   "metadata": {
    "ExecuteTime": {
     "end_time": "2017-04-03T12:43:23.304821",
     "start_time": "2017-04-03T12:43:21.583649"
    },
    "collapsed": true
   },
   "outputs": [
    {
     "name": "stdout",
     "output_type": "stream",
     "text": [
      "Counter({'admin.': 8342, 'blue-collar': 7408, 'technician': 5371, 'services': 3168, 'management': 2340, 'retired': 1390, 'entrepreneur': 1198, 'self-employed': 1140, 'housemaid': 827, 'unemployed': 797, 'student': 708, 'unknown': 261})\n"
     ]
    },
    {
     "data": {
      "text/plain": [
       "([<matplotlib.axis.XTick at 0xe16feb8>,\n",
       "  <matplotlib.axis.XTick at 0xe3458d0>,\n",
       "  <matplotlib.axis.XTick at 0xbb2e438>,\n",
       "  <matplotlib.axis.XTick at 0xe1b9400>,\n",
       "  <matplotlib.axis.XTick at 0xe112208>,\n",
       "  <matplotlib.axis.XTick at 0xe112048>,\n",
       "  <matplotlib.axis.XTick at 0xe1c3160>,\n",
       "  <matplotlib.axis.XTick at 0xe0bf240>,\n",
       "  <matplotlib.axis.XTick at 0xe0bf438>,\n",
       "  <matplotlib.axis.XTick at 0xdf03dd8>,\n",
       "  <matplotlib.axis.XTick at 0xc50c080>,\n",
       "  <matplotlib.axis.XTick at 0xe0a5588>],\n",
       " <a list of 12 Text xticklabel objects>)"
      ]
     },
     "execution_count": 79,
     "metadata": {},
     "output_type": "execute_result"
    },
    {
     "data": {
      "image/png": "iVBORw0KGgoAAAANSUhEUgAAAYAAAAE5CAYAAACZAvcCAAAABHNCSVQICAgIfAhkiAAAAAlwSFlz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\nRE8lAURE9FQSQERET/0/Q3ZI/JOj9bYAAAAASUVORK5CYII=\n",
      "text/plain": [
       "<matplotlib.figure.Figure at 0xc2b2438>"
      ]
     },
     "metadata": {},
     "output_type": "display_data"
    }
   ],
   "source": [
    "#Examine the distribution of job categories\n",
    "\n",
    "\n",
    "job_count = Counter(data['job'])\n",
    "print(job_count)\n",
    "plt.bar(range(len(job_count)), job_count.values(), align='center')\n",
    "plt.xticks(range(len(job_count)), list(job_count.keys()), rotation='vertical')\n"
   ]
  },
  {
   "cell_type": "code",
   "execution_count": 80,
   "metadata": {
    "ExecuteTime": {
     "end_time": "2017-04-03T12:43:27.324223",
     "start_time": "2017-04-03T12:43:26.848176"
    },
    "collapsed": true
   },
   "outputs": [
    {
     "name": "stdout",
     "output_type": "stream",
     "text": [
      "Counter({'married': 19955, 'single': 9256, 'divorced': 3676, 'unknown': 63})\n"
     ]
    },
    {
     "data": {
      "text/plain": [
       "([<matplotlib.axis.XTick at 0xe21e048>,\n",
       "  <matplotlib.axis.XTick at 0xc5c3518>,\n",
       "  <matplotlib.axis.XTick at 0xc208668>,\n",
       "  <matplotlib.axis.XTick at 0x1095acf8>],\n",
       " <a list of 4 Text xticklabel objects>)"
      ]
     },
     "execution_count": 80,
     "metadata": {},
     "output_type": "execute_result"
    },
    {
     "data": {
      "image/png": "iVBORw0KGgoAAAANSUhEUgAAAYcAAAEfCAYAAACqKwpQAAAABHNCSVQICAgIfAhkiAAAAAlwSFlz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\nrkJggg==\n",
      "text/plain": [
       "<matplotlib.figure.Figure at 0xc2b2240>"
      ]
     },
     "metadata": {},
     "output_type": "display_data"
    }
   ],
   "source": [
    "#Examine the distribution of marital statuses\n",
    "\n",
    "\n",
    "marital_count = Counter(data['marital_status'])\n",
    "print(marital_count)\n",
    "plt.bar(range(len(marital_count)), marital_count.values(), align='center')\n",
    "plt.xticks(range(len(marital_count)), list(marital_count.keys()), rotation='vertical')\n"
   ]
  },
  {
   "cell_type": "code",
   "execution_count": 81,
   "metadata": {
    "ExecuteTime": {
     "end_time": "2017-04-03T12:43:31.000591",
     "start_time": "2017-04-03T12:43:30.644555"
    },
    "collapsed": true
   },
   "outputs": [
    {
     "name": "stdout",
     "output_type": "stream",
     "text": [
      "Counter({'university.degree': 9760, 'high.school': 7580, 'basic.9y': 4889, 'professional.course': 4154, 'basic.4y': 3313, 'basic.6y': 1846, 'unknown': 1394, 'illiterate': 14})\n"
     ]
    },
    {
     "data": {
      "text/plain": [
       "([<matplotlib.axis.XTick at 0xe1465c0>,\n",
       "  <matplotlib.axis.XTick at 0xe135208>,\n",
       "  <matplotlib.axis.XTick at 0xe11ef28>,\n",
       "  <matplotlib.axis.XTick at 0xe178748>,\n",
       "  <matplotlib.axis.XTick at 0xe179160>,\n",
       "  <matplotlib.axis.XTick at 0xe179b38>,\n",
       "  <matplotlib.axis.XTick at 0xe170550>,\n",
       "  <matplotlib.axis.XTick at 0xe170f28>],\n",
       " <a list of 8 Text xticklabel objects>)"
      ]
     },
     "execution_count": 81,
     "metadata": {},
     "output_type": "execute_result"
    },
    {
     "data": {
      "image/png": "iVBORw0KGgoAAAANSUhEUgAAAYcAAAFTCAYAAADSscBHAAAABHNCSVQICAgIfAhkiAAAAAlwSFlz\nAAALEgAACxIB0t1+/AAAIABJREFUeJzt3XucXVV99/HPF4IgKPdANYAJiBewIhABxaKFlqsCtULR\nVlPgeagV66XesLUPFaUF6xWrVB65+qiIKAKiYuQiIgIm4SIXkRhAiAiRAFKwCPh9/tjrkMPsmclk\nTmbWHvN9v17nNeess8/ML/tk5nv2XmuvJdtERET0W612ARER0T0Jh4iIaEk4RERES8IhIiJaEg4R\nEdGScIiIiJaEQ0REtCQcIiKiJeEQEREt02oXMF4bb7yxZ86cWbuMiIgpY/78+b+2PX0s207ZcJg5\ncybz5s2rXUZExJQh6Y6xbrvc00qSTpF0r6Qb+to2lDRX0q3l6walXZJOkLRQ0vWSduh7zZyy/a2S\n5vS17yjpJ+U1J0jS2P+pERExEcbS53AasPeQtqOAi2xvDVxUHgPsA2xdbkcAJ0ITJsDRwM7ATsDR\nvUAp2/zvvtcN/VkRETHJlhsOti8Dlg5pPgA4vdw/HTiwr/0MN64E1pf0LGAvYK7tpbbvB+YCe5fn\n1rV9pZvpYc/o+14REVHJeEcrbWr77nL/V8Cm5f4M4M6+7e4qbaO13zVM+7AkHSFpnqR5S5YsGWfp\nERGxPAMPZS2f+CdlUQjbJ9mebXv29Olj6nCPiIhxGG843FNOCVG+3lvaFwOb9223WWkbrX2zYdoj\nIqKi8YbDeUBvxNEc4Ny+9jeVUUu7AA+W008XAntK2qB0RO8JXFie+42kXcoopTf1fa+IiKhkudc5\nSPoy8CpgY0l30Yw6Og44S9LhwB3AwWXzbwH7AguBR4BDAWwvlfQh4Mdlu2Ns9zq530IzIurpwLfL\nLSIiKtJUXUN69uzZzkVwEVHDzKMuqPazbz9uv3G/VtJ827PHsm3mVoqIiJaEQ0REtCQcIiKiJeEQ\nEREtCYeIiGhJOEREREvCISIiWhIOERHRknCIiIiWhENERLQkHCIioiXhEBERLQmHiIhoSThERERL\nwiEiIloSDhER0ZJwiIiIloRDRES0JBwiIqIl4RARES0Jh4iIaEk4RERES8IhIiJaEg4REdGScIiI\niJaEQ0REtCQcIiKiJeEQEREtCYeIiGhJOEREREvCISIiWhIOERHRknCIiIiWgcJB0jsl3SjpBklf\nlrSWpFmSrpK0UNJXJD2tbLtmebywPD+z7/u8v7TfImmvwf5JERExqHGHg6QZwNuA2bZfBKwOHAIc\nD3zC9nOB+4HDy0sOB+4v7Z8o2yFpm/K6bYG9gc9KWn28dUVExOAGPa00DXi6pGnA2sDdwO7A2eX5\n04EDy/0DymPK83tIUmk/0/ajtm8DFgI7DVhXREQMYNzhYHsx8FHgFzSh8CAwH3jA9uNls7uAGeX+\nDODO8trHy/Yb9bcP85qIiKhgkNNKG9B86p8FPBtYh+a00ISRdISkeZLmLVmyZCJ/VETEKm2Q00p/\nBtxme4ntx4CvA7sC65fTTACbAYvL/cXA5gDl+fWA+/rbh3nNU9g+yfZs27OnT58+QOkRETGaQcLh\nF8AuktYufQd7ADcBlwCvK9vMAc4t988rjynPX2zbpf2QMpppFrA1cPUAdUVExICmLX+T4dm+StLZ\nwALgceAa4CTgAuBMSR8ubSeXl5wMfEHSQmApzQglbN8o6SyaYHkcONL2E+OtKyIiBjfucACwfTRw\n9JDmRQwz2sj2/wAHjfB9jgWOHaSWiIhYeXKFdEREtCQcIiKiJeEQEREtA/U5xMo386gLqv3s24/b\nr9rPjohuyZFDRES0JBwiIqIl4RARES0Jh4iIaEk4RERES8IhIiJaEg4REdGScIiIiJaEQ0REtCQc\nIiKiJeEQEREtCYeIiGhJOEREREvCISIiWhIOERHRknCIiIiWhENERLQkHCIioiXhEBERLQmHiIho\nSThERERLwiEiIloSDhER0ZJwiIiIloRDRES0JBwiIqIl4RARES0Jh4iIaEk4RERES8IhIiJaBgoH\nSetLOlvSTyXdLOllkjaUNFfSreXrBmVbSTpB0kJJ10vaoe/7zCnb3yppzqD/qIiIGMygRw6fAr5j\n+wXAdsDNwFHARba3Bi4qjwH2AbYutyOAEwEkbQgcDewM7AQc3QuUiIioY9zhIGk9YDfgZADbv7P9\nAHAAcHrZ7HTgwHL/AOAMN64E1pf0LGAvYK7tpbbvB+YCe4+3roiIGNwgRw6zgCXAqZKukfR5SesA\nm9q+u2zzK2DTcn8GcGff6+8qbSO1t0g6QtI8SfOWLFkyQOkRETGaQcJhGrADcKLt7YGHWXYKCQDb\nBjzAz3gK2yfZnm179vTp01fWt42IiCEGCYe7gLtsX1Uen00TFveU00WUr/eW5xcDm/e9frPSNlJ7\nRERUMu5wsP0r4E5Jzy9NewA3AecBvRFHc4Bzy/3zgDeVUUu7AA+W008XAntK2qB0RO9Z2iIiopJp\nA77+H4AvSnoasAg4lCZwzpJ0OHAHcHDZ9lvAvsBC4JGyLbaXSvoQ8OOy3TG2lw5YV0REDGCgcLB9\nLTB7mKf2GGZbA0eO8H1OAU4ZpJaIiFh5coV0RES0JBwiIqIl4RARES0Jh4iIaEk4RERES8IhIiJa\nEg4REdGScIiIiJaEQ0REtCQcIiKiJeEQEREtCYeIiGhJOEREREvCISIiWhIOERHRknCIiIiWhENE\nRLQkHCIiomXQNaQjYgqbedQF1X727cftV+1nx/LlyCEiIloSDhER0ZJwiIiIloRDRES0JBwiIqIl\n4RARES0Jh4iIaEk4RERES8IhIiJaEg4REdGScIiIiJaEQ0REtCQcIiKiJeEQEREtA0/ZLWl1YB6w\n2ParJc0CzgQ2AuYDb7T9O0lrAmcAOwL3AX9l+/byPd4PHA48AbzN9oWD1hUrX6Z3jlh1rIwjh7cD\nN/c9Ph74hO3nAvfT/NGnfL2/tH+ibIekbYBDgG2BvYHPlsCJiIhKBgoHSZsB+wGfL48F7A6cXTY5\nHTiw3D+gPKY8v0fZ/gDgTNuP2r4NWAjsNEhdERExmEGPHD4JvBf4fXm8EfCA7cfL47uAGeX+DOBO\ngPL8g2X7J9uHec1TSDpC0jxJ85YsWTJg6RERMZJxh4OkVwP32p6/EusZle2TbM+2PXv69OmT9WMj\nIlY5g3RI7wrsL2lfYC1gXeBTwPqSppWjg82AxWX7xcDmwF2SpgHr0XRM99p7+l8TEREVjPvIwfb7\nbW9meyZNh/LFtv8auAR4XdlsDnBuuX9eeUx5/mLbLu2HSFqzjHTaGrh6vHVFRMTgBh7KOoz3AWdK\n+jBwDXByaT8Z+IKkhcBSmkDB9o2SzgJuAh4HjrT9xATUFRERY7RSwsH2pcCl5f4ihhltZPt/gING\neP2xwLEro5aIiBhcrpCOiIiWhENERLQkHCIioiXhEBERLQmHiIhoSThERERLwiEiIloSDhER0ZJw\niIiIlomYPqPzsqJZRMTocuQQEREtCYeIiGhJOEREREvCISIiWhIOERHRknCIiIiWhENERLQkHCIi\noiXhEBERLQmHiIhoSThERERLwiEiIloSDhER0ZJwiIiIloRDRES0JBwiIqIl4RARES0Jh4iIaEk4\nRERES8IhIiJaEg4REdGScIiIiJaEQ0REtCQcIiKiZdzhIGlzSZdIuknSjZLeXto3lDRX0q3l6wal\nXZJOkLRQ0vWSduj7XnPK9rdKmjP4PysiIgYxyJHD48C7bG8D7AIcKWkb4CjgIttbAxeVxwD7AFuX\n2xHAidCECXA0sDOwE3B0L1AiIqKOcYeD7bttLyj3HwJuBmYABwCnl81OBw4s9w8AznDjSmB9Sc8C\n9gLm2l5q+35gLrD3eOuKiIjBrZQ+B0kzge2Bq4BNbd9dnvoVsGm5PwO4s+9ld5W2kdqH+zlHSJon\nad6SJUtWRukRETGMgcNB0jOArwHvsP2b/udsG/CgP6Pv+51ke7bt2dOnT19Z3zYiIoYYKBwkrUET\nDF+0/fXSfE85XUT5em9pXwxs3vfyzUrbSO0REVHJtPG+UJKAk4GbbX+876nzgDnAceXruX3tb5V0\nJk3n84O275Z0IfBvfZ3QewLvH29dsWqaedQF1X727cftV+1nR0yUcYcDsCvwRuAnkq4tbf9EEwpn\nSTocuAM4uDz3LWBfYCHwCHAogO2lkj4E/Lhsd4ztpQPUFRERAxp3ONi+HNAIT+8xzPYGjhzhe50C\nnDLeWiIiYuXKFdIREdGScIiIiJaEQ0REtCQcIiKiJeEQEREtCYeIiGhJOERERMsgF8FFREyYXPVe\nV44cIiKiJeEQEREtCYeIiGhJOEREREvCISIiWhIOERHRknCIiIiWhENERLQkHCIioiXhEBERLQmH\niIhoSThERERLwiEiIloSDhER0ZJwiIiIloRDRES0JBwiIqIl4RARES0Jh4iIaEk4RERES8IhIiJa\nEg4REdGScIiIiJaEQ0REtCQcIiKipTPhIGlvSbdIWijpqNr1RESsyjoRDpJWBz4D7ANsA7xe0jZ1\nq4qIWHV1IhyAnYCFthfZ/h1wJnBA5ZoiIlZZsl27BiS9Dtjb9v8qj98I7Gz7rUO2OwI4ojx8PnDL\npBba2Bj4dYWfOxapbXxS2/h1ub7U1vYc29PHsuG0ia5kZbJ9EnBSzRokzbM9u2YNI0lt45Paxq/L\n9aW2wXTltNJiYPO+x5uVtoiIqKAr4fBjYGtJsyQ9DTgEOK9yTRERq6xOnFay/biktwIXAqsDp9i+\nsXJZI6l6Wms5Utv4pLbx63J9qW0AneiQjoiIbunKaaWIiOiQhENERLQkHCIioiXhEBERLZ0YrdR1\nkla3/UTtOvpJeu1oz9v++mTVMhVJ2sj2fbXrGImkpwNb2K4xC8CIur7fukzSIcBWto+VtDmwie35\ntesaSUYrjYGkRcDXgFNt31S7HgBJp47ytG0fNmnFjEDS84ATgU1tv0jSi4H9bX+4cmlIuhW4FjgV\n+LY79Isg6TXAR4Gn2Z4l6SXAMbb3r1xa1/fbmsBfAjPp++Br+5haNfVI+k9gDWA32y+UtCFwoe2X\nVi5tRAmHMZD0TJoL8w6lORV3CnCm7d9ULazjJH0feA/wOdvbl7YbbL+obmUgScCfAYcBLwXOAk6z\n/bOqhQGS5gO7A5f27bef2P7jupV1fr99B3gQmA88eaRv+2PViiokLbC9g6Rr+t7T62xvV7u2EdnO\nbQVuwCtppvZ4GDgdeG7letYDPg7MK7ePAevV3k+lth+Xr9f0tV1bu65h6vzT8p4+AHwfeFnleq4c\nZr9dX3s/TYH9dkPtfTJKbVfRfLBcUB5v1P/+dvGWDukxkLS6pP0lnQN8kuYP8JbA+cC3qhbXHMU8\nBBxcbr+hOeTvgl9L2gowPDn77t11S2pI2kjS2yXNA94N/APNTJnvAr5UtTi4UdIbgNUlbS3p08AV\nlWsCOr/frpBU/ehqBJ+hOTU9XdIHgcuB4+uWNLqcVhqD0udwCXCy7SuGPHeC7bfVqQwkXWv7Jctr\nq0HSljTTBLwcuB+4Dfgb27fXrAtA0s+AL9D0I9015Ln32a72iytpbeCfgT1L04XAh2w/Wqumno7v\nt5uA59L8P3sUEE3/24tr1dRP0rY0p+QEfM/2DZVLGlXCYQwkPcP2f9euYziSfgS8x/bl5fGuwEdt\nv6xuZctIWgdYzfZDtWvpkSR39D+/pINsf3V5bTV0fL89Z7h223dMdi3DkbQL8DzbZ0jaCFjH9i9q\n1zWSnFYag/5gKJ+cuuTvgc9Iul3SHcB/An9XuSYAyumHdYFHgE9IWiBpz+W9boJrequkjW1b0laS\nLpP0gKSrOnRK4v1jbJs0klaTdBhwvqTrynt5pqRX1axriP8FPA/4te07erfaRQFI+gBwNPCB0rQW\n9U/DjSpHDqOQ9BDN+XL1Na9N88fOttetUtgwyh9h3KERVL3RGJL2Ao4E/oXmdMQOFWu60fa25f4F\nwOdtn1P+yB1re9eKte0D7EvTd/SVvqfWBbaxvVOVwnhy6PQdwPeA19H0bf0AeB9wru1P16qtR9Kh\nwJ8AL6Pph/sBcJntc6sWRnOqF9iepkO6N1rp+q6c8hpOLoIb3anA+jSnbe4BkHSb7Vl1y1pG0no0\nn0h2K4+/TzMm/sGqhTV6obovTShcV4ZC1tT/f34T2+cA2L60DFmu6Zc0I872pxmO2fMQ8M4qFS2z\no+1Dy/3LJV1p+/9Iuozmuofq4WD7VOBUSX9EE7DvpllWuPb7CvBoOVrtDc5Yu3ZBy5NwGIXtt0na\nEfiypG/QnLLp2qHWKcANNL8MAG+kCbVRr6CeJPMlfReYBby//PH9feWazpZ0GnAMcI6kdwDn0FxX\nUPX8r+3rgOskfcn2YzVrGcZjkray/XNJOwC/A7D9aO8PXm2SPg9sA9xDc9TwOmBB1aKW+bqkzwDr\nlSOcw2l+dzsrp5XGQNJqwFuBg2guf3925ZKe1NXRSuUIYTNgOrDI9gOlE26G7esr1/a3NH01WwFr\nAncC3wCO78IRl6StgX+n+UO3Vq/d9pYVa9odOI1mFNA04BDbV0maTnNk/d5atfWUoebPBm6iue7i\nMtuL6la1TDltuCfNEfWFtr9duaRRJRxWgKRnAdvbrn1tw5O6PFpJ0nzbO9auY6qRdDnNqcJPAK+h\nuTJfto+uXJeAjWz/umYdyyPphcBeNKfiVre9WeV6Vge+ZXuvmnWsqJxWWgG276ZcxCXpj2z/qnJJ\nAG8Gzih9DwKWAn9btaJlrpT0Uts/rl3IWHToPX267YvKsNE7gH+V9AOawKimDGFtBUNX9pukV9N0\nSO9G01d4Mc3ppapsPyHpd5LW7dKAkeVJOIzfycB+tYso56m36+JoJZrpFf6uDLF9mI5dlDSMTryn\nwKPlVOatatZWXwxsUrmm0XRlv+1NEwafsv3L2sUM8d80/UnfpfldAMD2P9YraXQ5rTTFqdszUXb6\noqSukvRS4GaaT78fohnK+h+2r6xa2BQgaVOaCQEBrrZ9b816eiQdPly77ZMnu5axSjiMQbmy8cbe\nFb7lU/oLbV9Vt7LOz0S5xXDtXbgqtKvvaTk/fZzt99SsYyRd3W+lloNopjq/lOYo9U9o+uPOrlnX\nVJVwGANJ1wA79KYNKIf882pezNWjjkyBPRxJP2HZRYRr0QxpvaV3EVpNHX9PLwb26OI0FR3fb9cB\nf947Wigjqb7nDkyLXfbb0PfzQZrrWv7d9tLJr2p06XMYm6fMJ2P795K6su+ukPTHtn9Su5ChPGT9\ngTI+vhNTe9Dt9/Qa4FxJX+Wp56e7sLpfl/fbakNOI91Hd6YImkvzIak3ZcYhNNf8PEQzRLj6Qk5D\ndeVN7bpFkt5Gs6oZwFuAquOn+z6VTwMOVTNzbOdmouxne4Gk2bXrKDr3nvbZkOYP2+59bQa6EA5d\n3m/fkXQh8OXy+K+oP6V+z8ttv6Lv8TWSLrf9ivK73Dk5rTQGkjYBTqD5ZTVwEfCOmp1dI3X29nSh\n01dS/0iM1YAdaMbJVx/v3cX3dCro+n6T9JdAb36sH/SmR6mtnPI6zGXN6HIUfZrtF6tvdbguSThM\ncR3vIOwfl/84cDvwNdv/U6eiqUEdXns7xqf8np5Cs460aKYfORy4nua9/fIoL68i4TAKSe+1/RE1\nK3G1dpQrLvLT0+UOwh5Jz4CnTn1esZap8J52bu3tKbLfXkuzutomNH+Ae6dYuzR78kYAtu+rXcvy\npM9hdDeXr/OqVjG6znYQSnoRzaphG5bHvwbmuO4KWFPhPV3b9tV66gS2j9cqppgK++0jwGts37zc\nLSdZGTn1YZq5xV4taRtgJ9un1a1sZDlyWEHlk/kzunIlsqSv04zr7u8g/FPbB1YrqpB0BfDPti8p\nj18F/Jvtl1ctbIgOvqffppno8au2d1Cz9vbhtvepXNpTdHC//dAV1+MYjZq1Q74IvM/NGidr0Kzt\n0JUFplq6Msyr0yR9SdK6apa7vAm4RVJXLlJ6M80azYuBu4Cdaeaw74J1esEAzZoJwDr1ylmm4+/p\nkcDngBdIWgy8g+Z9rq7j+22epK9Ier2k1/ZutYsqNrH9JcqU9W6mZK89ff2oEg5js035dHQgzdC4\nLWjWTajO9r22D7G9ie1Nbb+hKyNHaIY9/oukmeX2Aboz7LGz7ynNefI/o5nu/AVlCGRXfle7vN96\nS9LuSTOb7WuAV1etaJmHJW1I6a8pU6R04ohrJJ04Nz0FrFEOAw8E/tP2Y+rOAicfoTmX+VvgO8B2\nNEML/1/VwhqHAR+kGZ9vmknRDqta0TKdfU+Br9EMMni4r+1soAvTn3d5v71r6JXGkrqyauO7gfOB\nLcuAgxk0ixF1VsJhbD5HMwzzOuCyco1BV1J/T9vvlfQXNKeVDgIuAaqHg+37geqjWEbQufdU0guA\nbWlWC+s/HbIufYv+VNa5/dbnfEn79PpA1Kzr8FWg+vQytudJ+lPghTSjqG6y/bvKZY0qHdLjJGma\n7dojSJ4c4qhmicSzbX9H0nUdmU9mLnCQ7QfK4w2AM7twEdxwar+nkg6g+US+P3Be31MP0ey3K6oU\nthy191tfHfsB76WZPvz5wBnAX9u+tmJNo06LYfu80Z6vKUcOY1T+423LUz/BVZ8WG/impJ/SnFb6\n+zJkrisXmW3cCwZojiTKFbad0LX31Pa5NHMqvcz2j2rVsTxd2289ti8op7y+CzwT+AvbP6tc1kHl\n68Y0A0cuoTlyeCXNUqYJh6lM0n8Ba9MsXvN5mnOFV1ctqrB9VOl3eNDNilOPAAfUrqv4vaQtXKbo\nLqcgOnGo2sX3tHehGfAGSa8f+nxHLjTr4n4bemHeesDPgbdKqrrfbL8RQNJ5NJ35i8vjGcCnatU1\nFgmHsXl5mQPletsflPQxujEJGgD9nXC2H5b0zJr19Pln4PLSAdebX78rw2y7+J5OhQvNurjfhu6v\n+VWqGN2WvWAofgm8oFYxY5FwGJvflq+PSHo2zYyZXRkFMZxOLNtY+j92AHYpTe9wdxan79x7avv8\n8vX0mnUsRxf3W5f3V89l5UK4/hljL6tYz3IlHMbmm5LWp7k8v/ep5PMV6xmV7erB0FPC4Ju16xhG\n595TSeczymk3212Y879z+61H0q7AvwLPofnb1ptbacuadRVH0pyC2608PoNmeHJnZbTSGEh6OvD3\nNKdFeuP1T+zK7KJqlpbclKeuIV19Kc7hSFrQhUkBu/ieSnrlaM/b/v5k1TKSLu63njIw4520l8zt\n/CR3XZRwGANJZ9EMJ+xdO/AGYD3bB9erqiHpH4CjgXtYdjm+3cHFfrqky+9pl3V5v0m6yvbOtesY\nK0mftf2W2nWMJOEwBsNdN9ChawkWAjvn09GK6eJ7qmWr+w2rC4Hfxf3WV8dxwOo0HeSP9tptL6hW\n1Cgk7WS7E6Meh5M+h7G5RtIutq8EkLQz8MPKNfXcSbNQeWdIeojh/8h1aX79Lr6nXZkHaDRd3G89\nvaOG3jQjovl/uPvwm08eDbPOe5eDARIOo+r7JLcG8CZJvyiPn8OyYYe1austwbkIuLSMhOj/tPTx\nKoU1P7srQ2lbuvyeugNLu46ky/utz6XDtHXl1MhnJa0JnAZ80XanPtANJ+Ewui5/kuv9Af5FuT2t\n3DqnXBX95NW0lTvLO/ueatmC80OPvLpwxNXZ/danf6XBtWhq7kRw2f4TSVvTTDw5X9LVwKm251Yu\nbUTpc4gJU+aV+RjwbOBeyqdM29tWLSxWCeWT+rm2965dS08ZWXggcALNhIUC/sl27QsJW3LkMMWN\nMDb+QZqrRj9XeYjhh2gugPue7e3LrJStaSEiJsjawFa1iwCQ9GLgUJqLU+fSLGe6oFxI+CPqX2Xe\nknCY+hbRLArTf+XlPcDzgP9L3YVYHrN9n6TVJK1m+xJJx1esJ/6ADRnttTrN70X1CQGLT9NcLPhP\ntntXmWP7l2oWweqchMPUt73t3foeny/pMtu7SbqxWlWNByQ9g2aagC9KuheoPrVz/MHq7xd5HLin\nC1OJF+fY/kJ/g6S32/7U0Pau6MrSgzF+0yVt0XtQ7m9cHtZeTOQAmrl43kmzSt3PaZZujFjpbN/R\nd1vcoWAAeNMwbX872UWsiBw5TH3vopn59Oc0nVuzgLeoWQC+6oRkQ5a5nAqTo0WsVGXq9TcAs8q0\n3T3PBJYO/6puyGilPwBlVEZv+t9bujDPDYCapS6PBzahCa4uDMmMmDRlDZNZwL8DR/U99RBwfceO\nbp4i4TBFSdrd9sV66lrDT+rC0LgytcdrbHdirHlEjF1OK01drwQuZtk5/F7K96YMqB4ONB2CCYZY\nZXX8wsZR5chhipO0FvCXwEyWhb1tVx/CJ+lTwB8B3+CpU3t0IbgiYhQ5cpj6vgE8ACwAen0NXUn8\ndYFHgD372rpyVBMxaSRtBdxl+1FJrwJeDJxh+4G6lY0sRw5TnKQbbL+odh0RMTJJ1wKzaY7wLwTO\nA55ve9+adY0m1zlMfVdI+uPaRQxH0maSzpF0b7l9TdJmteuKqOD3ZWTSXwCftP1O4FmVaxpVTitN\nUX1TBUwDDpW0iOa8fq+jq/rCMMCpwJeAg8rjvyltf16toog6HivXPMxh2SCSNSrWs1w5rTRFlfHT\nI+rC2gCSrrX9kuW1Rfyhk7QN8GbgR7a/LGkWcLDtzs41lnCICSPpIpojhd6kgK8HDrW9R72qIiZX\nmab7dNt/U7uWFZE+h5hIhwEHA78C7gZeRzNtccQqw/YTNHOgdXIxrpHkyCEiYoJJ+hywA80opSfn\nHKu5nO/ypEM6VjpJ77X9EUmfZphrLmy/rUJZETX9stxWY9kSv52WcIiJ0JsyY17VKiI6wvYHASSt\nbfuR2vWMRU4rxaSQtBrwDNu/qV1LxGST9DLgZJrfgS0kbQf8ne23VC5tROmQjgkj6UuS1i1rS9wE\n3CLpPbXriqjgk8BewH0Atq8Ddhv1FZUlHGIibVOOFA4EvgVsQd01rSOqsX3nkKYnqhQyRgmHmEhr\nSFqDJhy0SW/HAAAD0UlEQVTOtf0Y3ZkUMGIy3Snp5YAlrSHp3Szrm+ukhENMpM8BtwPrAJeVq7rT\n5xCrojcDRwIzgMXAS8rjzkqHdEwqSdO6vDRixESQNN32ktp1rIgcOcSEkfT20iEtSSdLWgDsXruu\niAp+KOm7kg6XtH7tYsYi4RAT6bDSIb0nMJ1m6ozj6pYUMflsPw/4ALAtsEDSNyV1eq6lhENMJJWv\n+wKnluF7GmX7iD9Ytq+2/Y/ATsBS4PTKJY0q4RATab6k79KEw4WSngn8vnJNEZOunF6dI+nbwBU0\nE1HuVLmsUaVDOiZMuSr6JcAi2w9I2giYYfv6yqVFTCpJt9Gs936W7R/VrmcsMrdSTCQD2wCvBo6h\nGdK6VtWKIurY0lPsk3iOHGLCSDqR5jTS7rZfKGkD4Lu2X1q5tIhJIemTtt8h6XyGn6F4/wpljUmO\nHGIi7Wx7B0nXANi+f6oteBIxoC+Urx+tWsU4JBxiIj1Wlkg0NBcCkQ7pWIXYnl++fr92LSsqo5Vi\nIp0AnANsIulY4HLg3+qWFDH5JO0qaa6kn0laJOk2SYtq1zWa9DnESidplu3byv0XAHvQXN9wke1O\nTzYWMREk/RR4JzCfvtlYbd9XrajlSDjESidpvu0dJV1ke4/a9UTUJukq2zvXrmNFpM8hJsJqko4G\nnifpH4c+2eVF1SMmyCWS/gP4OvBor9H2gnoljS7hEBPhEJo1HKYxRRZTj5hgvaOGHctX0QzU6OxE\nlAmHWOls3wIcL+l629+uXU9EB1w6TFunz+lntFJMpCskfVzSvHL7mKT1ahcVUcF/990eB/YGZtYs\naHnSIR0TRtLXgBtYNvvkG4HtbL+2XlUR9Ulak2bp3L1r1zKShENMGEnX2n7J8toiVjVlKpmrbW9d\nu5aRpM8hJtJvJb3C9uXQXAgE/LZyTRGTTtJPWNbHsDrN4lfH1Kto+XLkEBNG0nbAGUCvn+F+YE6m\n7I5VjaTn9D18HLin62up58ghJkRZy+H5treTtC5AWTI0YpVj+47aNayoHDnEhJF0me3datcRESsu\n4RATRtK/0PQxfAV4uNdue2m1oiJiTBIOMWHK0ojDLXCyZYVyImIFJBxiwkh6OvAW4BU0IfED4L9s\nZ8RSRMclHGLCSDoL+A3wxdL0BmA92wfXqyoixiLhEBNG0nW2t1teW0R0T+ZWiol0jaRdeg8k7Qz8\nsGI9ETFGOXKICSPpZuD5wC9K0xbAT2lWwrLtF9eqLSJGl3CICTPkqtCWqXhhUMSqIuEQEREt6XOI\niIiWhENERLQkHCIioiXhEBERLf8fbHRZB82P+KEAAAAASUVORK5CYII=\n",
      "text/plain": [
       "<matplotlib.figure.Figure at 0xe1a8ef0>"
      ]
     },
     "metadata": {},
     "output_type": "display_data"
    }
   ],
   "source": [
    "#Examine the distribution of education levels\n",
    "\n",
    "\n",
    "education_count = Counter(data['education'])\n",
    "print(education_count)\n",
    "plt.bar(range(len(education_count)), education_count.values(), align='center')\n",
    "plt.xticks(range(len(education_count)), list(education_count.keys()), rotation='vertical')\n"
   ]
  },
  {
   "cell_type": "code",
   "execution_count": 82,
   "metadata": {
    "ExecuteTime": {
     "end_time": "2017-04-03T12:43:38.311322",
     "start_time": "2017-04-03T12:43:37.791270"
    },
    "collapsed": true
   },
   "outputs": [
    {
     "name": "stdout",
     "output_type": "stream",
     "text": [
      "Counter({5: 11016, 7: 5716, 8: 4954, 6: 4272, 11: 3299, 4: 2097, 10: 540, 9: 465, 3: 437, 12: 154})\n"
     ]
    },
    {
     "data": {
      "text/plain": [
       "([<matplotlib.axis.XTick at 0xe1902b0>,\n",
       "  <matplotlib.axis.XTick at 0xe171fd0>,\n",
       "  <matplotlib.axis.XTick at 0xe190be0>,\n",
       "  <matplotlib.axis.XTick at 0xe3920f0>,\n",
       "  <matplotlib.axis.XTick at 0xe392ac8>,\n",
       "  <matplotlib.axis.XTick at 0xc13d4e0>,\n",
       "  <matplotlib.axis.XTick at 0xc13deb8>,\n",
       "  <matplotlib.axis.XTick at 0xc1418d0>,\n",
       "  <matplotlib.axis.XTick at 0xc1462e8>,\n",
       "  <matplotlib.axis.XTick at 0xc146cc0>],\n",
       " <a list of 10 Text xticklabel objects>)"
      ]
     },
     "execution_count": 82,
     "metadata": {},
     "output_type": "execute_result"
    },
    {
     "data": {
      "image/png": "iVBORw0KGgoAAAANSUhEUgAAAYcAAAD/CAYAAAAaGBpmAAAABHNCSVQICAgIfAhkiAAAAAlwSFlz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\nRU5ErkJggg==\n",
      "text/plain": [
       "<matplotlib.figure.Figure at 0xe2a8c88>"
      ]
     },
     "metadata": {},
     "output_type": "display_data"
    }
   ],
   "source": [
    "#Examine the distribution of call months\n",
    "\n",
    "\n",
    "month_count = Counter(enc_data['month'])\n",
    "print(month_count)\n",
    "plt.bar(range(len(month_count)), month_count.values(), align='center')\n",
    "plt.xticks(range(len(month_count)), list(month_count.keys()), rotation='vertical')\n"
   ]
  },
  {
   "cell_type": "code",
   "execution_count": 83,
   "metadata": {
    "ExecuteTime": {
     "end_time": "2017-04-03T12:43:40.551546",
     "start_time": "2017-04-03T12:43:40.220513"
    },
    "collapsed": true
   },
   "outputs": [
    {
     "name": "stdout",
     "output_type": "stream",
     "text": [
      "Counter({4: 6945, 1: 6749, 3: 6531, 2: 6495, 5: 6230})\n"
     ]
    },
    {
     "data": {
      "text/plain": [
       "([<matplotlib.axis.XTick at 0xc16f0f0>,\n",
       "  <matplotlib.axis.XTick at 0xe179be0>,\n",
       "  <matplotlib.axis.XTick at 0xc1348d0>,\n",
       "  <matplotlib.axis.XTick at 0xc2ddf28>,\n",
       "  <matplotlib.axis.XTick at 0xc2e1940>],\n",
       " <a list of 5 Text xticklabel objects>)"
      ]
     },
     "execution_count": 83,
     "metadata": {},
     "output_type": "execute_result"
    },
    {
     "data": {
      "image/png": "iVBORw0KGgoAAAANSUhEUgAAAYAAAAD4CAYAAADlwTGnAAAABHNCSVQICAgIfAhkiAAAAAlwSFlz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\nTkSuQmCC\n",
      "text/plain": [
       "<matplotlib.figure.Figure at 0xc154c18>"
      ]
     },
     "metadata": {},
     "output_type": "display_data"
    }
   ],
   "source": [
    "#Examine the distribution of days of the week\n",
    "\n",
    "\n",
    "week_count = Counter(enc_data['day_of_week'])\n",
    "print(week_count)\n",
    "plt.bar(range(len(week_count)), week_count.values(), align='center')\n",
    "plt.xticks(range(len(week_count)), list(week_count.keys()), rotation='vertical')\n"
   ]
  },
  {
   "cell_type": "code",
   "execution_count": 84,
   "metadata": {
    "ExecuteTime": {
     "end_time": "2017-04-03T12:43:47.569248",
     "start_time": "2017-04-03T12:43:43.875878"
    },
    "collapsed": true
   },
   "outputs": [
    {
     "name": "stdout",
     "output_type": "stream",
     "text": [
      "Counter({999: 31707, 3: 373, 6: 332, 4: 105, 9: 55, 7: 48, 2: 46, 12: 45, 5: 42, 10: 40, 13: 26, 11: 23, 1: 19, 15: 18, 14: 17, 8: 13, 0: 11, 16: 10, 17: 5, 18: 4, 19: 3, 22: 3, 21: 2, 20: 1, 26: 1, 27: 1})\n"
     ]
    },
    {
     "data": {
      "text/plain": [
       "([<matplotlib.axis.XTick at 0xc2dd748>,\n",
       "  <matplotlib.axis.XTick at 0xc2e61d0>,\n",
       "  <matplotlib.axis.XTick at 0xb6eb8d0>,\n",
       "  <matplotlib.axis.XTick at 0xe3354a8>,\n",
       "  <matplotlib.axis.XTick at 0xe3350f0>,\n",
       "  <matplotlib.axis.XTick at 0xe2c7940>,\n",
       "  <matplotlib.axis.XTick at 0xe2e39b0>,\n",
       "  <matplotlib.axis.XTick at 0xe33d080>,\n",
       "  <matplotlib.axis.XTick at 0xe33d2b0>,\n",
       "  <matplotlib.axis.XTick at 0xe31fa90>,\n",
       "  <matplotlib.axis.XTick at 0xe275ba8>,\n",
       "  <matplotlib.axis.XTick at 0xe2756d8>,\n",
       "  <matplotlib.axis.XTick at 0xe1f4470>,\n",
       "  <matplotlib.axis.XTick at 0xc178518>,\n",
       "  <matplotlib.axis.XTick at 0xe2ce978>,\n",
       "  <matplotlib.axis.XTick at 0xe316ac8>,\n",
       "  <matplotlib.axis.XTick at 0xe34f3c8>,\n",
       "  <matplotlib.axis.XTick at 0xe34fb00>,\n",
       "  <matplotlib.axis.XTick at 0xe312c18>,\n",
       "  <matplotlib.axis.XTick at 0xe3410b8>,\n",
       "  <matplotlib.axis.XTick at 0xe341c18>,\n",
       "  <matplotlib.axis.XTick at 0xe34bb70>,\n",
       "  <matplotlib.axis.XTick at 0xe2da1d0>,\n",
       "  <matplotlib.axis.XTick at 0x1095cd30>,\n",
       "  <matplotlib.axis.XTick at 0xe2dfeb8>,\n",
       "  <matplotlib.axis.XTick at 0xe2df5c0>],\n",
       " <a list of 26 Text xticklabel objects>)"
      ]
     },
     "execution_count": 84,
     "metadata": {},
     "output_type": "execute_result"
    },
    {
     "data": {
      "image/png": "iVBORw0KGgoAAAANSUhEUgAAAYcAAAD8CAYAAACcjGjIAAAABHNCSVQICAgIfAhkiAAAAAlwSFlz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\nrkJggg==\n",
      "text/plain": [
       "<matplotlib.figure.Figure at 0xe1deef0>"
      ]
     },
     "metadata": {},
     "output_type": "display_data"
    }
   ],
   "source": [
    "#Examine the distribution of previous days since last contact\n",
    "\n",
    "\n",
    "days_count = Counter(data['prev_days'])\n",
    "print(days_count)\n",
    "plt.bar(range(len(days_count)), days_count.values(), align='center')\n",
    "plt.xticks(range(len(days_count)), list(days_count.keys()))\n"
   ]
  },
  {
   "cell_type": "code",
   "execution_count": 85,
   "metadata": {
    "ExecuteTime": {
     "end_time": "2017-04-03T12:43:53.370828",
     "start_time": "2017-04-03T12:43:52.485739"
    },
    "collapsed": true
   },
   "outputs": [
    {
     "name": "stdout",
     "output_type": "stream",
     "text": [
      "Counter({'no': 26059, 'unknown': 6888, 'yes': 3})\n",
      "Counter({'yes': 17176, 'no': 14974, 'unknown': 800})\n",
      "Counter({'no': 27179, 'yes': 4971, 'unknown': 800})\n",
      "Counter({'cellular': 20902, 'telephone': 12048})\n"
     ]
    },
    {
     "data": {
      "text/plain": [
       "<matplotlib.text.Text at 0x7987898>"
      ]
     },
     "execution_count": 85,
     "metadata": {},
     "output_type": "execute_result"
    },
    {
     "data": {
      "image/png": "iVBORw0KGgoAAAANSUhEUgAAAaEAAAEwCAYAAAAeks4kAAAABHNCSVQICAgIfAhkiAAAAAlwSFlz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\nZRyEzMysMg5CZmZWGQchMzOrzP8HorSQ3Zj9ZzkAAAAASUVORK5CYII=\n",
      "text/plain": [
       "<matplotlib.figure.Figure at 0xe341b00>"
      ]
     },
     "metadata": {},
     "output_type": "display_data"
    }
   ],
   "source": [
    "#Examine distribution of binary variables\n",
    "\n",
    "\n",
    "default_count = Counter(data['credit_default'])\n",
    "housing_count = Counter(data['housing'])\n",
    "loan_count = Counter(data['loan'])\n",
    "contact_count = Counter(data['contact'])\n",
    "print(default_count)\n",
    "print(housing_count)\n",
    "print(loan_count)\n",
    "print(contact_count)\n",
    "\n",
    "ax1 = plt.subplot('331')\n",
    "plt.bar(range(len(default_count)), default_count.values(), align='center')\n",
    "plt.xticks(range(len(default_count)), list(default_count.keys()), rotation='vertical')\n",
    "ax1.set_title('Has Credit Defaults?')\n",
    "\n",
    "ax2 = plt.subplot('333')\n",
    "plt.bar(range(len(housing_count)), housing_count.values(), align='center')\n",
    "plt.xticks(range(len(housing_count)), list(housing_count.keys()), rotation='vertical')\n",
    "ax2.set_title('Has Housing Loans?')\n",
    "\n",
    "ax3 = plt.subplot('337')\n",
    "plt.bar(range(len(loan_count)), loan_count.values(), align='center')\n",
    "plt.xticks(range(len(loan_count)), list(loan_count.keys()), rotation='vertical')\n",
    "ax3.set_title('Has Personal Loans?')\n",
    "\n",
    "ax4 = plt.subplot('339')\n",
    "plt.bar(range(len(contact_count)), contact_count.values(), align='center')\n",
    "plt.xticks(range(len(contact_count)), list(contact_count), rotation='vertical')\n",
    "ax4.set_title('Method of Communication')\n"
   ]
  },
  {
   "cell_type": "code",
   "execution_count": 86,
   "metadata": {
    "ExecuteTime": {
     "end_time": "2017-04-03T12:44:04.893980",
     "start_time": "2017-04-03T12:44:04.070898"
    },
    "collapsed": true
   },
   "outputs": [
    {
     "name": "stdout",
     "output_type": "stream",
     "text": [
      "Correlation Matrix\n",
      "(nr_employed, euribor3m, emp_var_rate)\n"
     ]
    },
    {
     "data": {
      "text/plain": [
       "array([[ 1.        ,  0.9418152 ,  0.90294658],\n",
       "       [ 0.9418152 ,  1.        ,  0.96852127],\n",
       "       [ 0.90294658,  0.96852127,  1.        ]])"
      ]
     },
     "execution_count": 86,
     "metadata": {},
     "output_type": "execute_result"
    },
    {
     "data": {
      "image/png": "iVBORw0KGgoAAAANSUhEUgAAAT4AAAE+CAYAAAAUOHwwAAAABHNCSVQICAgIfAhkiAAAAAlwSFlz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\nZeArFApLjjLwFQqFJcf/Az+DfX/OuOrBAAAAAElFTkSuQmCC\n",
      "text/plain": [
       "<matplotlib.figure.Figure at 0xe1b9240>"
      ]
     },
     "metadata": {},
     "output_type": "display_data"
    }
   ],
   "source": [
    "#Create covariance matrix heatmap to check for correlated features\n",
    "\n",
    "\n",
    "cov = np.cov(scale(X), rowvar = False)\n",
    "plt.imshow(cov, cmap='viridis', interpolation='nearest')\n",
    "plt.xticks(range(len(list(X))), list(X), rotation = 'vertical')\n",
    "plt.yticks(range(len(list(X))), list(X))\n",
    "\n",
    "\n",
    "#Take a closer look at the three continuous variables with high covariance\n",
    "\n",
    "\n",
    "print('Correlation Matrix')\n",
    "print('(nr_employed, euribor3m, emp_var_rate)')\n",
    "\n",
    "np.corrcoef(np.stack((data['nr_employed'], data['euribor3m']), axis=0), data['emp_var_rate'])\n"
   ]
  },
  {
   "cell_type": "markdown",
   "metadata": {},
   "source": [
    "# Step2 - ModelSet1 [35 points]\n",
    "\n",
    "In this step, we expect you to perform the following steps relevant to the models you choose for set1:\n",
    "\n",
    "* feature engineering\n",
    "* validation\n",
    "* feature selection\n",
    "* final model selection\n",
    "\n",
    "You may select up to 5 models in this step for the purpose of final ensemble. Any classification algorithm covered in class apart from tree-based models can be tested here."
   ]
  },
  {
   "cell_type": "code",
   "execution_count": 87,
   "metadata": {
    "ExecuteTime": {
     "end_time": "2017-04-03T12:51:23.432829",
     "start_time": "2017-04-03T12:44:11.681659"
    },
    "collapsed": false
   },
   "outputs": [
    {
     "name": "stdout",
     "output_type": "stream",
     "text": [
      "sm : [ 8  7  1  5  1  4  1  1  6  3  1 10  1  1  2  1  1  1  9]\n",
      "rus: [ 2  6  1  1  1  4  9  1  5  3  1 10  1  1  1  7  1  1  8]\n",
      "enn: [ 9  4  1  3  1  6  1  1  1  2  1 10  1  1  1  5  7  1  8]\n"
     ]
    }
   ],
   "source": [
    "#Determine feature importance with RFE using SVMs\n",
    "\n",
    "\n",
    "svc = LinearSVC()\n",
    "svc_rfe = RFE(svc, n_features_to_select = 10)\n",
    "\n",
    "sm = svc_rfe.fit(X_train_sm, y_train_sm)\n",
    "print('sm :', sm.ranking_)\n",
    "\n",
    "rus = svc_rfe.fit(X_train_rus, y_train_rus)\n",
    "print('rus:', rus.ranking_)\n",
    "\n",
    "enn = svc_rfe.fit(X_train_enn, y_train_enn)\n",
    "print('enn:', enn.ranking_)\n"
   ]
  },
  {
   "cell_type": "code",
   "execution_count": 88,
   "metadata": {
    "ExecuteTime": {
     "end_time": "2017-04-03T12:51:37.821268",
     "start_time": "2017-04-03T12:51:23.435830"
    },
    "collapsed": false
   },
   "outputs": [
    {
     "name": "stdout",
     "output_type": "stream",
     "text": [
      "sm : [ 8  7  1  3  1  5  1  1  4  2  1 10  1  1  6  1  1  1  9]\n",
      "rus: [ 8  7  1  3  1  5  1  1  4  2  1 10  1  1  6  1  1  1  9]\n",
      "enn: [ 8  7  1  3  1  5  1  1  4  2  1 10  1  1  6  1  1  1  9]\n"
     ]
    }
   ],
   "source": [
    "#Determine feature importance with RFE using Logistic Regression\n",
    "\n",
    "\n",
    "lr = LogisticRegression(n_jobs=8)\n",
    "lr_rfe = RFE(lr, n_features_to_select = 10)\n",
    "\n",
    "sm_lr = lr_rfe.fit(X_train_sm, y_train_sm)\n",
    "rus_lr = lr_rfe.fit(X_train_rus, y_train_rus)\n",
    "enn_lr = lr_rfe.fit(X_train_enn, y_train_enn)\n",
    "\n",
    "print('sm :', sm_lr.ranking_)\n",
    "print('rus:', rus_lr.ranking_)\n",
    "print('enn:', enn_lr.ranking_)\n"
   ]
  },
  {
   "cell_type": "code",
   "execution_count": 89,
   "metadata": {
    "ExecuteTime": {
     "end_time": "2017-04-03T12:52:02.331719",
     "start_time": "2017-04-03T12:51:37.824268"
    },
    "collapsed": false
   },
   "outputs": [
    {
     "name": "stdout",
     "output_type": "stream",
     "text": [
      "f : [False False False False  True False False  True False False  True  True\n",
      "  True  True  True  True False  True  True]\n",
      "mi: [ True  True  True  True False  True False False  True  True  True False\n",
      " False False False False False  True  True]\n"
     ]
    }
   ],
   "source": [
    "#Determine feature importance with F-scores, mutual information, and SelectKBest\n",
    "\n",
    "\n",
    "f = SelectKBest(f_classif, k=10)\n",
    "mi = SelectKBest(mutual_info_classif, k=10)\n",
    "                \n",
    "f.fit(X_train_sm, y_train_sm)\n",
    "mi.fit(X_train_sm, y_train_sm)\n",
    "\n",
    "print('f :', f.get_support())\n",
    "print('mi:', mi.get_support())\n"
   ]
  },
  {
   "cell_type": "code",
   "execution_count": 90,
   "metadata": {
    "ExecuteTime": {
     "end_time": "2017-04-03T12:53:34.641949",
     "start_time": "2017-04-03T12:52:02.335719"
    },
    "collapsed": false
   },
   "outputs": [
    {
     "name": "stdout",
     "output_type": "stream",
     "text": [
      "sm : [ 0.     0.02   0.77   0.97   1.     0.     0.575  1.     0.4    0.585  1.\n",
      "  0.885  0.12   1.     0.605  0.1    1.     0.16   1.   ]\n",
      "rus: [ 0.     0.02   0.77   0.97   1.     0.     0.575  1.     0.4    0.585  1.\n",
      "  0.885  0.12   1.     0.605  0.1    1.     0.16   1.   ]\n",
      "enn: [ 0.     0.02   0.77   0.97   1.     0.     0.575  1.     0.4    0.585  1.\n",
      "  0.885  0.12   1.     0.605  0.1    1.     0.16   1.   ]\n"
     ]
    }
   ],
   "source": [
    "#Determine feature importance with stability selection using Logistic Regression\n",
    "\n",
    "\n",
    "from sklearn.linear_model import RandomizedLogisticRegression\n",
    "\n",
    "rlr = RandomizedLogisticRegression()\n",
    "\n",
    "rus_rlr = rlr.fit(X_train_rus, y_train_rus)\n",
    "sm_rlr = rlr.fit(X_train_sm, y_train_sm)\n",
    "enn_rlr = rlr.fit(X_train_enn, y_train_enn)\n",
    "\n",
    "print('sm :', sm_rlr.scores_)\n",
    "print('rus:', rus_rlr.scores_)\n",
    "print('enn:', enn_rlr.scores_)\n"
   ]
  },
  {
   "cell_type": "code",
   "execution_count": 91,
   "metadata": {
    "ExecuteTime": {
     "end_time": "2017-04-03T12:58:43.732855",
     "start_time": "2017-04-03T12:55:04.958980"
    },
    "collapsed": false
   },
   "outputs": [
    {
     "name": "stdout",
     "output_type": "stream",
     "text": [
      "rus: 0.777695068941\n",
      "sm : 0.859381314779\n",
      "enn: 0.859312112979\n"
     ]
    }
   ],
   "source": [
    "#Drop the features deemed to be unimportant: \"age\", \"housing\", \"nr_employed\"\n",
    "#Perform One Hot Encoding on the categorical features\n",
    "#Determine the best resampling technique to use with Logistic Regression\n",
    "\n",
    "\n",
    "dropped = [0, 5, 18]\n",
    "leftover_discrete = np.array([0, 1, 2, 3, 4, 5, 11])\n",
    "levels = np.array([12, 4, 8, 3, 3, 2, 3])\n",
    "\n",
    "one = OneHotEncoder(categorical_features=leftover_discrete, n_values=levels)\n",
    "\n",
    "X_train_rus_enc = one.fit_transform(np.delete(X_train_rus, dropped, axis=1))\n",
    "X_train_sm_enc = one.fit_transform(np.delete(X_train_sm, dropped, axis=1))\n",
    "X_train_enn_enc = one.fit_transform(np.delete(X_train_enn, dropped, axis=1))\n",
    "\n",
    "pipe = make_pipeline(MaxAbsScaler(), LogisticRegressionCV())\n",
    "\n",
    "rus_score = cross_val_score(pipe, X_train_rus_enc, y_train_rus, cv=10, scoring='roc_auc')\n",
    "print('rus:', np.mean(rus_score))\n",
    "\n",
    "sm_score = cross_val_score(pipe, X_train_sm_enc, y_train_sm, cv=10, scoring='roc_auc')\n",
    "print('sm :', np.mean(sm_score))\n",
    "\n",
    "enn_score = cross_val_score(pipe, X_train_enn_enc, y_train_enn, cv=10, scoring='roc_auc')\n",
    "print('enn:', np.mean(enn_score))\n",
    "    "
   ]
  },
  {
   "cell_type": "code",
   "execution_count": 92,
   "metadata": {
    "ExecuteTime": {
     "end_time": "2017-04-03T13:02:46.270106",
     "start_time": "2017-04-03T12:58:43.737856"
    },
    "collapsed": false
   },
   "outputs": [
    {
     "name": "stdout",
     "output_type": "stream",
     "text": [
      "rus: 0.7756399835\n",
      "sm : 0.85125398961\n",
      "enn: 0.85005598447\n"
     ]
    }
   ],
   "source": [
    "#Drop the features deemed to be unimportant: \"age\", \"job\", \"housing\", \"nr_employed\"\n",
    "#Perform One Hot Encoding on the categorical features\n",
    "#Determine the best resampling technique to use with Logistic Regression\n",
    "\n",
    "\n",
    "dropped = [0, 1, 5, 18]\n",
    "leftover_discrete = [0, 1, 2, 3, 4, 10]\n",
    "levels = np.array([4, 8, 3, 3, 2, 3])\n",
    "\n",
    "one = OneHotEncoder(categorical_features=leftover_discrete, n_values=levels)\n",
    "\n",
    "X_train_rus_enc = one.fit_transform(np.delete(X_train_rus, dropped, axis=1))\n",
    "X_train_sm_enc = one.fit_transform(np.delete(X_train_sm, dropped, axis=1))\n",
    "X_train_enn_enc = one.fit_transform(np.delete(X_train_enn, dropped, axis=1))\n",
    "\n",
    "pipe = make_pipeline(MaxAbsScaler(), LogisticRegressionCV())\n",
    "\n",
    "rus_score = cross_val_score(pipe, X_train_rus_enc, y_train_rus, cv=10, scoring='roc_auc')\n",
    "print('rus:', np.mean(rus_score))\n",
    "\n",
    "sm_score = cross_val_score(pipe, X_train_sm_enc, y_train_sm, cv=10, scoring='roc_auc')\n",
    "print('sm :', np.mean(sm_score))\n",
    "\n",
    "enn_score = cross_val_score(pipe, X_train_enn_enc, y_train_enn, cv=10, scoring='roc_auc')\n",
    "print('enn:', np.mean(enn_score))\n",
    "    "
   ]
  },
  {
   "cell_type": "code",
   "execution_count": 93,
   "metadata": {
    "ExecuteTime": {
     "end_time": "2017-04-03T13:05:46.671145",
     "start_time": "2017-04-03T13:02:46.275107"
    },
    "collapsed": false
   },
   "outputs": [
    {
     "name": "stdout",
     "output_type": "stream",
     "text": [
      "rus: 0.775255281542\n",
      "sm : 0.850182697411\n",
      "enn: 0.849254695007\n"
     ]
    }
   ],
   "source": [
    "#Drop the features deemed to be unimportant: \"age\", \"job\", \"housing\", \"cons_price_idx\", \"nr_employed\"\n",
    "#Perform One Hot Encoding on the categorical features\n",
    "#Determine the best resampling technique to use with Logistic Regression\n",
    "\n",
    "\n",
    "dropped = [0, 1, 5, 15, 18]\n",
    "leftover_discrete = [0, 1, 2, 3, 4, 10]\n",
    "levels = np.array([4, 8, 3, 3, 2, 3])\n",
    "\n",
    "one = OneHotEncoder(categorical_features=leftover_discrete, n_values=levels)\n",
    "\n",
    "X_train_rus_enc = one.fit_transform(np.delete(X_train_rus, dropped, axis=1))\n",
    "X_train_sm_enc = one.fit_transform(np.delete(X_train_sm, dropped, axis=1))\n",
    "X_train_enn_enc = one.fit_transform(np.delete(X_train_enn, dropped, axis=1))\n",
    "\n",
    "pipe = make_pipeline(MaxAbsScaler(), LogisticRegressionCV())\n",
    "\n",
    "rus_score = cross_val_score(pipe, X_train_rus_enc, y_train_rus, cv=10, scoring='roc_auc')\n",
    "print('rus:', np.mean(rus_score))\n",
    "\n",
    "sm_score = cross_val_score(pipe, X_train_sm_enc, y_train_sm, cv=10, scoring='roc_auc')\n",
    "print('sm :', np.mean(sm_score))\n",
    "\n",
    "enn_score = cross_val_score(pipe, X_train_enn_enc, y_train_enn, cv=10, scoring='roc_auc')\n",
    "print('enn:', np.mean(enn_score))"
   ]
  },
  {
   "cell_type": "code",
   "execution_count": 94,
   "metadata": {
    "ExecuteTime": {
     "end_time": "2017-04-03T13:08:42.076683",
     "start_time": "2017-04-03T13:05:46.674145"
    },
    "collapsed": false
   },
   "outputs": [
    {
     "name": "stdout",
     "output_type": "stream",
     "text": [
      "rus: 0.775471640794\n",
      "sm : 0.846643036565\n",
      "enn: 0.845334017719\n"
     ]
    }
   ],
   "source": [
    "#Drop the features deemed to be unimportant: \"age\", \"job\", \"housing\", \"prev_days\", \"cons_price_idx\", \"nr_employed\"\n",
    "#Perform One Hot Encoding on the categorical features\n",
    "#Determine the best resampling technique to use with Logistic Regression\n",
    "\n",
    "\n",
    "dropped = [0, 1, 5, 11, 15, 18]\n",
    "leftover_discrete = [0, 1, 2, 3, 4, 9]\n",
    "levels = np.array([4, 8, 3, 3, 2, 3])\n",
    "\n",
    "one = OneHotEncoder(categorical_features=leftover_discrete, n_values=levels)\n",
    "\n",
    "X_train_rus_enc = one.fit_transform(np.delete(X_train_rus, dropped, axis=1))\n",
    "X_train_sm_enc = one.fit_transform(np.delete(X_train_sm, dropped, axis=1))\n",
    "X_train_enn_enc = one.fit_transform(np.delete(X_train_enn, dropped, axis=1))\n",
    "\n",
    "pipe = make_pipeline(MaxAbsScaler(), LogisticRegressionCV())\n",
    "\n",
    "rus_score = cross_val_score(pipe, X_train_rus_enc, y_train_rus, cv=10, scoring='roc_auc')\n",
    "print('rus:', np.mean(rus_score))\n",
    "\n",
    "sm_score = cross_val_score(pipe, X_train_sm_enc, y_train_sm, cv=10, scoring='roc_auc')\n",
    "print('sm :', np.mean(sm_score))\n",
    "\n",
    "enn_score = cross_val_score(pipe, X_train_enn_enc, y_train_enn, cv=10, scoring='roc_auc')\n",
    "print('enn:', np.mean(enn_score))"
   ]
  },
  {
   "cell_type": "code",
   "execution_count": 107,
   "metadata": {
    "ExecuteTime": {
     "end_time": "2017-04-03T13:16:32.163687",
     "start_time": "2017-04-03T13:15:19.613433"
    },
    "collapsed": false
   },
   "outputs": [
    {
     "name": "stdout",
     "output_type": "stream",
     "text": [
      "rus: 0.719288793103\n",
      "sm : 0.771667008687\n",
      "enn: 0.771292064811\n"
     ]
    }
   ],
   "source": [
    "#Score the Logistic Regression model that produced the best results on the training data\n",
    "#Drop the \"age\", \"job\", \"housing\", \"cons_price_idx\", and \"nr_employed\" features\n",
    "\n",
    "\n",
    "dropped = [0, 1, 5, 15, 18]\n",
    "leftover_discrete = [0, 1, 2, 3, 4, 10]\n",
    "levels = np.array([4, 8, 3, 3, 2, 3])\n",
    "\n",
    "one = OneHotEncoder(categorical_features=leftover_discrete, n_values=levels)\n",
    "\n",
    "X_train_rus_enc = one.fit_transform(np.delete(X_train_rus, dropped, axis=1))\n",
    "X_train_sm_enc = one.fit_transform(np.delete(X_train_sm, dropped, axis=1))\n",
    "X_train_enn_enc = one.fit_transform(np.delete(X_train_enn, dropped, axis=1))\n",
    "\n",
    "X_test_rus_enc = one.fit_transform(np.delete(X_test_rus, dropped, axis=1))\n",
    "X_test_sm_enc = one.fit_transform(np.delete(X_test_sm, dropped, axis=1))\n",
    "X_test_enn_enc = one.fit_transform(np.delete(X_test_enn, dropped, axis=1))\n",
    "\n",
    "pipe = make_pipeline(MaxAbsScaler(), LogisticRegressionCV(cv=10, scoring='roc_auc'))\n",
    "\n",
    "rus_lr = pipe.fit(X_train_rus_enc, y_train_rus)\n",
    "print('rus:', rus_lr.score(X_test_rus_enc, y_test_rus))\n",
    "\n",
    "sm_lr = pipe.fit(X_train_sm_enc, y_train_sm)\n",
    "print('sm :', sm_lr.score(X_test_sm_enc, y_test_sm))\n",
    "\n",
    "enn_lr = pipe.fit(X_train_enn_enc, y_train_enn)\n",
    "print('enn:', enn_lr.score(X_test_enn_enc, y_test_enn))\n"
   ]
  },
  {
   "cell_type": "code",
   "execution_count": 108,
   "metadata": {
    "ExecuteTime": {
     "end_time": "2017-04-03T13:20:35.865055",
     "start_time": "2017-04-03T13:18:57.987268"
    },
    "collapsed": false
   },
   "outputs": [
    {
     "name": "stdout",
     "output_type": "stream",
     "text": [
      "rus best score: 0.760088436385\n",
      "rus best parameters: {'alpha': 0.10000000000000001}\n",
      "sm  best score: 0.764955228716\n",
      "sm  best parameters: {'alpha': 0.10000000000000001}\n",
      "enn best score: 0.763685680108\n",
      "enn best parameters: {'alpha': 0.10000000000000001}\n"
     ]
    }
   ],
   "source": [
    "#Determine the best resampling technique to use with SGDClassifier and the chosen feature set\n",
    "\n",
    "\n",
    "dropped = [0, 1, 5, 15, 18]\n",
    "leftover_discrete = [0, 1, 2, 3, 4, 10]\n",
    "levels = np.array([4, 8, 3, 3, 2, 3])\n",
    "\n",
    "one = OneHotEncoder(categorical_features=leftover_discrete, n_values=levels)\n",
    "\n",
    "X_train_rus_enc = one.fit_transform(np.delete(X_train_rus, dropped, axis=1))\n",
    "X_train_sm_enc = one.fit_transform(np.delete(X_train_sm, dropped, axis=1))\n",
    "X_train_enn_enc = one.fit_transform(np.delete(X_train_enn, dropped, axis=1))\n",
    "\n",
    "grid = {'alpha': np.logspace(-1,7, 9)}\n",
    "\n",
    "methods = [('rus', X_train_rus, y_train_rus), ('sm ', X_train_sm, y_train_sm), ('enn', X_train_enn, y_train_enn)]\n",
    "scaler = MaxAbsScaler()\n",
    "\n",
    "for array in methods:\n",
    "    gridsearch = GridSearchCV(SGDClassifier(loss='modified_huber', n_iter=np.ceil(10**6/np.shape(array[1])[0])),\n",
    "                                     param_grid=grid, scoring='roc_auc', cv=15)\n",
    "    \n",
    "    sgd = gridsearch.fit(scaler.fit_transform(array[1]), array[2])\n",
    "    print(array[0], 'best score:', sgd.score(array[1], array[2]))\n",
    "    print(array[0], 'best parameters:', sgd.best_params_)\n",
    "    "
   ]
  },
  {
   "cell_type": "code",
   "execution_count": 114,
   "metadata": {
    "ExecuteTime": {
     "end_time": "2017-04-03T13:40:19.839441",
     "start_time": "2017-04-03T13:40:18.683325"
    },
    "collapsed": false
   },
   "outputs": [
    {
     "name": "stdout",
     "output_type": "stream",
     "text": [
      "rus: 0.714361104808\n",
      "sm : 0.753398525866\n",
      "enn: 0.760249022231\n"
     ]
    }
   ],
   "source": [
    "#Score the SGDClassifier model with the best parameter value and the chosen feature set\n",
    "\n",
    "\n",
    "dropped = [0, 1, 5, 15, 18]\n",
    "leftover_discrete = [0, 1, 2, 3, 4, 10]\n",
    "levels = np.array([4, 8, 3, 3, 2, 3])\n",
    "\n",
    "one = OneHotEncoder(categorical_features=leftover_discrete, n_values=levels)\n",
    "\n",
    "X_train_rus_enc = one.fit_transform(np.delete(X_train_rus, dropped, axis=1))\n",
    "X_train_sm_enc = one.fit_transform(np.delete(X_train_sm, dropped, axis=1))\n",
    "X_train_enn_enc = one.fit_transform(np.delete(X_train_enn, dropped, axis=1))\n",
    "\n",
    "X_test_rus_enc = one.fit_transform(np.delete(X_test_rus, dropped, axis=1))\n",
    "X_test_sm_enc = one.fit_transform(np.delete(X_test_sm, dropped, axis=1))\n",
    "X_test_enn_enc = one.fit_transform(np.delete(X_test_enn, dropped, axis=1))\n",
    "\n",
    "sgd_pipe = make_pipeline(MaxAbsScaler(),\n",
    "                         SGDClassifier(alpha=0.1,loss='modified_huber',n_iter=np.ceil(10**6/np.shape(X_train_enn_enc)[0])))\n",
    "\n",
    "rus_sgd = sgd_pipe.fit(X_train_rus_enc, y_train_rus)\n",
    "print('rus:', roc_auc_score(rus_sgd.predict(X_test_rus_enc), y_test_rus))\n",
    "\n",
    "sm_sgd = sgd_pipe.fit(X_train_sm_enc, y_train_sm)\n",
    "print('sm :', roc_auc_score(sm_sgd.predict(X_test_sm_enc), y_test_sm))\n",
    "\n",
    "enn_sgd = sgd_pipe.fit(X_train_enn_enc, y_train_enn)\n",
    "print('enn:', roc_auc_score(enn_sgd.predict(X_test_enn_enc), y_test_enn))\n"
   ]
  },
  {
   "cell_type": "markdown",
   "metadata": {},
   "source": [
    "# Step3 - ModelSet2 [35 points]\n",
    "\n",
    "In this step, we expect you to perform the following steps relevant to the models you choose for set2:\n",
    "\n",
    "* feature engineering\n",
    "* validation\n",
    "* feature selection\n",
    "* final model selection\n",
    "\n",
    "You may select up to 5 models in this step for the purpose of final ensemble. We encourage you to try decition tree, random forest and gradient boosted tree methods here and pick the one which you think works best."
   ]
  },
  {
   "cell_type": "code",
   "execution_count": 117,
   "metadata": {
    "ExecuteTime": {
     "end_time": "2017-04-03T14:04:20.998542",
     "start_time": "2017-04-03T14:01:55.848029"
    },
    "collapsed": false
   },
   "outputs": [
    {
     "name": "stdout",
     "output_type": "stream",
     "text": [
      "rus: 0.907147988506\n",
      "{'max_depth': 50.0, 'max_features': 11}\n",
      "sm : 0.966254140568\n",
      "{'max_depth': 50.0, 'max_features': 11}\n",
      "enn: 1.0\n",
      "{'max_depth': 50.0, 'max_features': 11}\n"
     ]
    }
   ],
   "source": [
    "#Perform a grid search to find the optimal Decision Tree parameter values for max_depth and max_features\n",
    "\n",
    "\n",
    "grid = {'max_features': range(3, 15, 1), 'max_depth': np.linspace(5, 50, 2)}\n",
    "\n",
    "search = GridSearchCV(DecisionTreeClassifier(), param_grid = grid, scoring='roc_auc', cv=10)\n",
    "\n",
    "rus = search.fit(X_train_rus, y_train_rus)\n",
    "sm = search.fit(X_train_sm, y_train_sm)\n",
    "enn = search.fit(X_train_enn, y_train_enn)\n",
    "\n",
    "print('rus:', rus.score(X_train_rus, y_train_rus))\n",
    "print(rus.best_params_)\n",
    "print('sm :', sm.score(X_train_sm, y_train_sm))\n",
    "print(sm.best_params_)\n",
    "print('enn:', enn.score(X_train_enn, y_train_enn))\n",
    "print(enn.best_params_)\n"
   ]
  },
  {
   "cell_type": "code",
   "execution_count": 120,
   "metadata": {
    "ExecuteTime": {
     "end_time": "2017-04-03T14:15:28.223258",
     "start_time": "2017-04-03T14:15:20.609497"
    },
    "collapsed": false
   },
   "outputs": [
    {
     "name": "stdout",
     "output_type": "stream",
     "text": [
      "rus: 0.656778448209\n",
      "sm : 0.896139362637\n",
      "enn: 0.894272800843\n"
     ]
    }
   ],
   "source": [
    "#Perform cross-validation using each balanced dataset and the optimal parameters\n",
    "\n",
    "\n",
    "dt = DecisionTreeClassifier(max_features=11, max_depth=50)\n",
    "\n",
    "print('rus:', np.mean(cross_val_score(dt, X_train_rus, y_train_rus, cv=10, scoring='roc_auc')))\n",
    "print('sm :', np.mean(cross_val_score(dt, X_train_sm, y_train_sm, cv=10, scoring='roc_auc')))\n",
    "print('enn:', np.mean(cross_val_score(dt, X_train_enn, y_train_enn, cv=10, scoring='roc_auc')))\n"
   ]
  },
  {
   "cell_type": "code",
   "execution_count": 123,
   "metadata": {
    "ExecuteTime": {
     "end_time": "2017-04-03T14:19:27.920225",
     "start_time": "2017-04-03T14:19:27.019135"
    },
    "collapsed": false
   },
   "outputs": [
    {
     "name": "stdout",
     "output_type": "stream",
     "text": [
      "rus: 0.917847359048\n",
      "sm: 0.961822822738\n",
      "enn: 0.896493592527\n"
     ]
    }
   ],
   "source": [
    "#Score the test set using the chosen parameters\n",
    "\n",
    "\n",
    "rus_dt = dt.fit(X_train_rus, y_train_rus)\n",
    "sm_dt = dt.fit(X_train_sm, y_train_sm)\n",
    "enn_dt = dt.fit(X_train_enn, y_train_enn)\n",
    "\n",
    "print('rus:', roc_auc_score(rus_dt.predict(X_test_rus), y_test_rus))\n",
    "print('sm:', roc_auc_score(sm_dt.predict(X_test_sm), y_test_sm))\n",
    "print('enn:', roc_auc_score(enn_dt.predict(X_test_enn), y_test_enn))"
   ]
  },
  {
   "cell_type": "code",
   "execution_count": 129,
   "metadata": {
    "ExecuteTime": {
     "end_time": "2017-04-03T14:58:42.900700",
     "start_time": "2017-04-03T14:50:48.897304"
    },
    "collapsed": false
   },
   "outputs": [
    {
     "name": "stdout",
     "output_type": "stream",
     "text": [
      "rus: 0.98208319399\n",
      "{'max_depth': 50.0}\n",
      "sm : 0.997326824078\n",
      "{'max_depth': 50.0}\n",
      "enn: 1.0\n",
      "{'max_depth': 50.0}\n"
     ]
    }
   ],
   "source": [
    "\n",
    "\n",
    "grid = {'max_depth': np.linspace(5, 50, 2)}\n",
    "search = GridSearchCV(RandomForestClassifier(n_estimators=100, max_features='sqrt'), param_grid = grid, scoring='roc_auc', cv=10)\n",
    "#rt = RandomForestClassifier(n_estimators=200, max_features='sqrt', max_depth=10)\n",
    "\n",
    "rus_rt = search.fit(X_train_rus, y_train_rus)\n",
    "sm_rt = search.fit(X_train_sm, y_train_sm)\n",
    "enn_rt = search.fit(X_train_enn, y_train_enn)\n",
    "\n",
    "print('rus:', rus_rt.score(X_train_rus, y_train_rus))\n",
    "print(rus_rt.best_params_)\n",
    "print('sm :', sm_rt.score(X_train_sm, y_train_sm))\n",
    "print(sm_rt.best_params_)\n",
    "print('enn:', enn_rt.score(X_train_enn, y_train_enn))\n",
    "print(enn_rt.best_params_)\n"
   ]
  },
  {
   "cell_type": "code",
   "execution_count": 130,
   "metadata": {
    "ExecuteTime": {
     "end_time": "2017-04-03T15:03:01.620569",
     "start_time": "2017-04-03T15:03:00.848492"
    },
    "collapsed": false
   },
   "outputs": [
    {
     "name": "stdout",
     "output_type": "stream",
     "text": [
      "rus: 0.927280322017\n",
      "sm: 0.981674557037\n",
      "enn: 0.945436911566\n"
     ]
    }
   ],
   "source": [
    "\n",
    "print('rus:', roc_auc_score(rus_rt.predict(X_test_rus), y_test_rus))\n",
    "print('sm:', roc_auc_score(sm_rt.predict(X_test_sm), y_test_sm))\n",
    "print('enn:', roc_auc_score(enn_rt.predict(X_test_enn), y_test_enn))\n"
   ]
  },
  {
   "cell_type": "markdown",
   "metadata": {},
   "source": [
    "# Step4 - Ensemble [20 points + 10 Bonus points]\n",
    "\n",
    "In this step, we expect you to use the models created before and create new predictions. You should definitely try poor man's stacking but we encourage you to think of different ensemble techniques as well. We will judge your creativity and improvement in model performance using ensemble models and you can potentially earn 10 bonus points here."
   ]
  },
  {
   "cell_type": "code",
   "execution_count": null,
   "metadata": {
    "collapsed": false
   },
   "outputs": [],
   "source": [
    "#write code below, you can make multiple cells\n",
    "assert True"
   ]
  }
 ],
 "metadata": {
  "anaconda-cloud": {},
  "kernelspec": {
<<<<<<< HEAD
   "display_name": "Python [default]",
=======
   "display_name": "Python [Root]",
>>>>>>> 2709edcad729c1b7750a4dc7aa5fdc352efa2607
   "language": "python",
   "name": "Python [Root]"
  },
  "language_info": {
   "codemirror_mode": {
    "name": "ipython",
    "version": 3
   },
   "file_extension": ".py",
   "mimetype": "text/x-python",
   "name": "python",
   "nbconvert_exporter": "python",
   "pygments_lexer": "ipython3",
   "version": "3.5.2"
  }
 },
 "nbformat": 4,
 "nbformat_minor": 2
}
