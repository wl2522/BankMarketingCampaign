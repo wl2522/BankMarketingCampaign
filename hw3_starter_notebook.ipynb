{
 "cells": [
  {
   "cell_type": "markdown",
   "metadata": {},
   "source": [
    "# Submission Information:\n",
    "\n",
    "### Team Member 1:\n",
    "* UNI:  WL2522\n",
    "* Name: Wilson Lui\n",
    "\n",
    "### Team Member 2 [optional]:\n",
    "* UNI:  \n",
    "* Name:"
   ]
  },
  {
   "cell_type": "markdown",
   "metadata": {},
   "source": [
    "# Step0 - Import Libraries, Load Data [0 points]\n",
    "\n",
    "This is the basic step where you can load the data and create train and test sets for internal validation as per your convinience."
   ]
  },
  {
   "cell_type": "markdown",
   "metadata": {},
   "source": [
    "I experimented with treating the \"month\", \"day_of_week\", and \"prev_days\" features as both continuous and categorical.\n",
    "I decided to treat all three as continuous variables for the Logistic Regression model that I chose since it provided slightly better performance than when treaing them as categorical features.\n",
    "In this step, the data is loaded and the categorical features are encoded as integers in preparation for one hot encoding.\n",
    "Lastly, I create three balanced datasets using the following resampling methods:\n",
    "\n",
    "\n",
    "1) Random Undersampling (rus)\n",
    "2) SMOTE (sm)\n",
    "3) SMOTE Edited Nearest Neighbors (enn)\n"
   ]
  },
  {
   "cell_type": "code",
   "execution_count": 2,
   "metadata": {
    "ExecuteTime": {
     "end_time": "2017-04-05T04:55:05.910296",
     "start_time": "2017-04-05T04:55:04.692457"
    },
    "collapsed": false
   },
   "outputs": [],
   "source": [
    "%matplotlib inline\n",
    "\n",
    "import pandas as pd\n",
    "import numpy as np\n",
    "import matplotlib.pyplot as plt\n",
    "from collections import Counter\n",
    "\n",
    "from sklearn.model_selection import train_test_split, GridSearchCV, cross_val_score\n",
    "from sklearn.preprocessing import LabelEncoder, scale, OneHotEncoder, MaxAbsScaler, FunctionTransformer\n",
    "from sklearn.pipeline import make_pipeline, Pipeline\n",
    "from sklearn.metrics import roc_auc_score\n",
    "from sklearn.linear_model import LogisticRegression, LogisticRegressionCV, SGDClassifier\n",
    "from sklearn.feature_selection import RFE, SelectKBest, mutual_info_classif, f_classif\n",
    "from sklearn.svm import LinearSVC \n",
    "from sklearn.tree import DecisionTreeClassifier\n",
    "from sklearn.ensemble import RandomForestClassifier, ExtraTreesClassifier, VotingClassifier\n",
    "from sklearn.calibration import CalibratedClassifierCV\n",
    "\n",
    "from imblearn.under_sampling import RandomUnderSampler\n",
    "from imblearn.combine import SMOTEENN\n",
    "from imblearn.over_sampling import SMOTE\n",
    "\n",
    "data = pd.read_csv('data/data.csv')\n"
   ]
  },
  {
   "cell_type": "code",
   "execution_count": 3,
   "metadata": {
    "ExecuteTime": {
     "end_time": "2017-04-05T04:55:05.952336",
     "start_time": "2017-04-05T04:55:05.911297"
    },
    "collapsed": true
   },
   "outputs": [],
   "source": [
    "#Separate the ID column from the holdout set\n",
    "\n",
    "\n",
    "holdout = pd.read_csv('data/holdout.csv')\n",
    "ID = holdout['ID']\n",
    "holdout = holdout.drop('ID', 1)\n",
    "\n",
    "\n",
    "#Remove the \"duration\" feature to avoid getting overoptimistic results\n",
    "\n",
    "\n",
    "data = data.drop('duration', 1)\n",
    "holdout = holdout.drop('duration', 1)\n"
   ]
  },
  {
   "cell_type": "code",
   "execution_count": 4,
   "metadata": {
    "ExecuteTime": {
     "end_time": "2017-04-05T04:55:06.022907",
     "start_time": "2017-04-05T04:55:05.953342"
    },
    "collapsed": true
   },
   "outputs": [],
   "source": [
    "#Convert the \"month\" and \"day_of_week\" features to integers\n",
    "#(in order to experiment with treating them as both categorical and continuous features)\n",
    "\n",
    "\n",
    "months = [('mar', 3), ('apr', 4), ('may', 5), ('jun', 6), ('jul', 7), ('aug', 8),\n",
    "          ('sep', 9), ('oct', 10), ('nov', 11), ('dec', 12)]\n",
    "weekdays = [('mon', 1), ('tue', 2), ('wed', 3), ('thu', 4), ('fri', 5)]\n",
    "\n",
    "for month in months:\n",
    "    data['month'].replace(to_replace=month[0], value=month[1], inplace=True)\n",
    "    holdout['month'].replace(to_replace=month[0], value=month[1], inplace=True)\n",
    "    \n",
    "for day in weekdays:\n",
    "    data['day_of_week'].replace(to_replace=day[0], value=day[1], inplace=True)\n",
    "    holdout['day_of_week'].replace(to_replace=day[0], value=day[1], inplace=True)\n",
    "    "
   ]
  },
  {
   "cell_type": "code",
   "execution_count": 5,
   "metadata": {
    "ExecuteTime": {
     "end_time": "2017-04-05T04:55:06.219118",
     "start_time": "2017-04-05T04:55:06.023916"
    },
    "collapsed": true
   },
   "outputs": [],
   "source": [
    "#Create a copy of the dataset for encoding purposes and leave the original for visualizations\n",
    "#Separate the categorical features from the numerical ones\n",
    "#Encode category and response variable strings to integers\n",
    "#Treat \"prev_days\" as a categorical variable due to the large majority of 999 values\n",
    "\n",
    "\n",
    "num = ['age', 'month', 'day_of_week', 'campaign', 'prev_days', 'prev_contacts','emp_var_rate',\n",
    "       'cons_price_idx', 'cons_conf_idx', 'euribor3m', 'nr_employed']\n",
    "\n",
    "cat = ['job', 'marital_status', 'education', 'credit_default', 'housing',\n",
    "       'loan', 'contact', 'prev_outcomes']\n",
    "\n",
    "\n",
    "enc_data = data.copy()\n",
    "enc_holdout = holdout.copy()\n",
    "\n",
    "le = LabelEncoder()\n",
    "\n",
    "\n",
    "for col in cat:\n",
    "    levels = np.concatenate((enc_data[col].unique(), enc_holdout[col].unique()))\n",
    "    le.fit(levels)\n",
    "    enc_data[col] = le.transform(enc_data[col])\n",
    "    enc_holdout[col] = le.transform(enc_holdout[col])\n"
   ]
  },
  {
   "cell_type": "code",
   "execution_count": 6,
   "metadata": {
    "ExecuteTime": {
     "end_time": "2017-04-05T04:55:06.246167",
     "start_time": "2017-04-05T04:55:06.220119"
    },
    "collapsed": true
   },
   "outputs": [],
   "source": [
    "#Encode the response variable\n",
    "#Separate the features from the response variable\n",
    "\n",
    "\n",
    "levels = enc_data['subscribed'].unique()\n",
    "le.fit(levels)\n",
    "enc_data['subscribed'] = le.transform(enc_data['subscribed'])\n",
    "\n",
    "X = enc_data.iloc[:,:-1]\n",
    "y = enc_data.iloc[:,-1]\n"
   ]
  },
  {
   "cell_type": "code",
   "execution_count": 7,
   "metadata": {
    "ExecuteTime": {
     "end_time": "2017-04-05T04:55:11.537264",
     "start_time": "2017-04-05T04:55:06.247164"
    },
    "collapsed": true
   },
   "outputs": [],
   "source": [
    "#Balance the dataset using Random Undersampling, SMOTE, and SMOTE + Edited Nearest Neighbors\n",
    "#Create a different train/test split for each balanced dataset\n",
    "\n",
    "\n",
    "rus = RandomUnderSampler(replacement=True)\n",
    "sm = SMOTE()\n",
    "enn = SMOTEENN()\n",
    "\n",
    "X_rus, y_rus = rus.fit_sample(X, y)\n",
    "X_sm, y_sm = sm.fit_sample(X, y)\n",
    "X_enn, y_enn = enn.fit_sample(X, y)\n",
    "\n",
    "X_train_rus, X_test_rus, y_train_rus, y_test_rus = train_test_split(X_rus, y_rus, stratify=y_rus)\n",
    "X_train_sm, X_test_sm, y_train_sm, y_test_sm = train_test_split(X_sm, y_sm, stratify=y_sm)\n",
    "X_train_enn, X_test_enn, y_train_enn, y_test_enn = train_test_split(X_enn, y_enn, stratify=y_enn)\n"
   ]
  },
  {
   "cell_type": "markdown",
   "metadata": {},
   "source": [
    "# Step1 - Exploration and Preparation [10 points]\n",
    "\n",
    "In this step, we expect you to look into the data and try to understand it before modeling. This understanding may lead to some basic data preparation steps which are common across the two model sets required."
   ]
  },
  {
   "cell_type": "markdown",
   "metadata": {},
   "source": [
    "From the histograms of categorical features, I noticed that the \"prev_days\" feature was highly left-skewed, with a huge majority of the samples having a value of 999, meaning they were not previously contacted.\n",
    "Also, I found that the \"nr_employed\", \"euribor3m\", and \"emp_var_rate\" features were highly correlated with each other, mostly likely due to the fact that all three are economic indicators."
   ]
  },
  {
   "cell_type": "code",
   "execution_count": 8,
   "metadata": {
    "ExecuteTime": {
     "end_time": "2017-04-05T04:55:11.581308",
     "start_time": "2017-04-05T04:55:11.538265"
    },
    "collapsed": false
   },
   "outputs": [
    {
     "data": {
      "text/html": [
       "<div>\n",
       "<table border=\"1\" class=\"dataframe\">\n",
       "  <thead>\n",
       "    <tr style=\"text-align: right;\">\n",
       "      <th></th>\n",
       "      <th>age</th>\n",
       "      <th>month</th>\n",
       "      <th>day_of_week</th>\n",
       "      <th>campaign</th>\n",
       "      <th>prev_days</th>\n",
       "      <th>prev_contacts</th>\n",
       "      <th>emp_var_rate</th>\n",
       "      <th>cons_price_idx</th>\n",
       "      <th>cons_conf_idx</th>\n",
       "      <th>euribor3m</th>\n",
       "      <th>nr_employed</th>\n",
       "    </tr>\n",
       "  </thead>\n",
       "  <tbody>\n",
       "    <tr>\n",
       "      <th>count</th>\n",
       "      <td>32950.000000</td>\n",
       "      <td>32950.000000</td>\n",
       "      <td>32950.000000</td>\n",
       "      <td>32950.000000</td>\n",
       "      <td>32950.000000</td>\n",
       "      <td>32950.000000</td>\n",
       "      <td>32950.000000</td>\n",
       "      <td>32950.000000</td>\n",
       "      <td>32950.000000</td>\n",
       "      <td>32950.000000</td>\n",
       "      <td>32950.000000</td>\n",
       "    </tr>\n",
       "    <tr>\n",
       "      <th>mean</th>\n",
       "      <td>40.019059</td>\n",
       "      <td>6.609317</td>\n",
       "      <td>2.982155</td>\n",
       "      <td>2.641639</td>\n",
       "      <td>961.537906</td>\n",
       "      <td>0.174385</td>\n",
       "      <td>0.080115</td>\n",
       "      <td>93.583705</td>\n",
       "      <td>-40.496740</td>\n",
       "      <td>3.618901</td>\n",
       "      <td>5166.932832</td>\n",
       "    </tr>\n",
       "    <tr>\n",
       "      <th>std</th>\n",
       "      <td>10.850807</td>\n",
       "      <td>2.042670</td>\n",
       "      <td>1.408273</td>\n",
       "      <td>2.803230</td>\n",
       "      <td>189.209917</td>\n",
       "      <td>0.498989</td>\n",
       "      <td>1.573180</td>\n",
       "      <td>1.162662</td>\n",
       "      <td>4.645301</td>\n",
       "      <td>1.737149</td>\n",
       "      <td>72.439480</td>\n",
       "    </tr>\n",
       "    <tr>\n",
       "      <th>min</th>\n",
       "      <td>17.000000</td>\n",
       "      <td>3.000000</td>\n",
       "      <td>1.000000</td>\n",
       "      <td>1.000000</td>\n",
       "      <td>0.000000</td>\n",
       "      <td>0.000000</td>\n",
       "      <td>-3.695294</td>\n",
       "      <td>88.311974</td>\n",
       "      <td>-52.220779</td>\n",
       "      <td>0.325461</td>\n",
       "      <td>4963.600000</td>\n",
       "    </tr>\n",
       "    <tr>\n",
       "      <th>25%</th>\n",
       "      <td>32.000000</td>\n",
       "      <td>5.000000</td>\n",
       "      <td>2.000000</td>\n",
       "      <td>1.000000</td>\n",
       "      <td>999.000000</td>\n",
       "      <td>0.000000</td>\n",
       "      <td>-1.724208</td>\n",
       "      <td>92.800661</td>\n",
       "      <td>-43.087110</td>\n",
       "      <td>1.377065</td>\n",
       "      <td>5101.000000</td>\n",
       "    </tr>\n",
       "    <tr>\n",
       "      <th>50%</th>\n",
       "      <td>38.000000</td>\n",
       "      <td>6.000000</td>\n",
       "      <td>3.000000</td>\n",
       "      <td>2.000000</td>\n",
       "      <td>999.000000</td>\n",
       "      <td>0.000000</td>\n",
       "      <td>1.085053</td>\n",
       "      <td>93.586959</td>\n",
       "      <td>-41.685507</td>\n",
       "      <td>4.800570</td>\n",
       "      <td>5194.000000</td>\n",
       "    </tr>\n",
       "    <tr>\n",
       "      <th>75%</th>\n",
       "      <td>47.000000</td>\n",
       "      <td>8.000000</td>\n",
       "      <td>4.000000</td>\n",
       "      <td>3.000000</td>\n",
       "      <td>999.000000</td>\n",
       "      <td>0.000000</td>\n",
       "      <td>1.366367</td>\n",
       "      <td>94.381404</td>\n",
       "      <td>-36.404580</td>\n",
       "      <td>4.943674</td>\n",
       "      <td>5226.000000</td>\n",
       "    </tr>\n",
       "    <tr>\n",
       "      <th>max</th>\n",
       "      <td>97.000000</td>\n",
       "      <td>12.000000</td>\n",
       "      <td>5.000000</td>\n",
       "      <td>56.000000</td>\n",
       "      <td>999.000000</td>\n",
       "      <td>7.000000</td>\n",
       "      <td>1.785673</td>\n",
       "      <td>98.263042</td>\n",
       "      <td>-25.323735</td>\n",
       "      <td>5.362403</td>\n",
       "      <td>5249.000000</td>\n",
       "    </tr>\n",
       "  </tbody>\n",
       "</table>\n",
       "</div>"
      ],
      "text/plain": [
       "                age         month   day_of_week      campaign     prev_days  \\\n",
       "count  32950.000000  32950.000000  32950.000000  32950.000000  32950.000000   \n",
       "mean      40.019059      6.609317      2.982155      2.641639    961.537906   \n",
       "std       10.850807      2.042670      1.408273      2.803230    189.209917   \n",
       "min       17.000000      3.000000      1.000000      1.000000      0.000000   \n",
       "25%       32.000000      5.000000      2.000000      1.000000    999.000000   \n",
       "50%       38.000000      6.000000      3.000000      2.000000    999.000000   \n",
       "75%       47.000000      8.000000      4.000000      3.000000    999.000000   \n",
       "max       97.000000     12.000000      5.000000     56.000000    999.000000   \n",
       "\n",
       "       prev_contacts  emp_var_rate  cons_price_idx  cons_conf_idx  \\\n",
       "count   32950.000000  32950.000000    32950.000000   32950.000000   \n",
       "mean        0.174385      0.080115       93.583705     -40.496740   \n",
       "std         0.498989      1.573180        1.162662       4.645301   \n",
       "min         0.000000     -3.695294       88.311974     -52.220779   \n",
       "25%         0.000000     -1.724208       92.800661     -43.087110   \n",
       "50%         0.000000      1.085053       93.586959     -41.685507   \n",
       "75%         0.000000      1.366367       94.381404     -36.404580   \n",
       "max         7.000000      1.785673       98.263042     -25.323735   \n",
       "\n",
       "          euribor3m   nr_employed  \n",
       "count  32950.000000  32950.000000  \n",
       "mean       3.618901   5166.932832  \n",
       "std        1.737149     72.439480  \n",
       "min        0.325461   4963.600000  \n",
       "25%        1.377065   5101.000000  \n",
       "50%        4.800570   5194.000000  \n",
       "75%        4.943674   5226.000000  \n",
       "max        5.362403   5249.000000  "
      ]
     },
     "execution_count": 8,
     "metadata": {},
     "output_type": "execute_result"
    }
   ],
   "source": [
    "#Get summary statistics on the data\n",
    "\n",
    "\n",
    "data.describe()"
   ]
  },
  {
   "cell_type": "code",
   "execution_count": 9,
   "metadata": {
    "ExecuteTime": {
     "end_time": "2017-04-05T04:55:11.763001",
     "start_time": "2017-04-05T04:55:11.582308"
    },
    "collapsed": false
   },
   "outputs": [
    {
     "name": "stdout",
     "output_type": "stream",
     "text": [
      "Counter({'admin.': 8342, 'blue-collar': 7408, 'technician': 5371, 'services': 3168, 'management': 2340, 'retired': 1390, 'entrepreneur': 1198, 'self-employed': 1140, 'housemaid': 827, 'unemployed': 797, 'student': 708, 'unknown': 261})\n"
     ]
    },
    {
     "data": {
      "text/plain": [
       "([<matplotlib.axis.XTick at 0x2278e7df2b0>,\n",
       "  <matplotlib.axis.XTick at 0x2278e7df940>,\n",
       "  <matplotlib.axis.XTick at 0x2278e7e4390>,\n",
       "  <matplotlib.axis.XTick at 0x2278ebd7128>,\n",
       "  <matplotlib.axis.XTick at 0x2278ebd7b00>,\n",
       "  <matplotlib.axis.XTick at 0x2278ebdb518>,\n",
       "  <matplotlib.axis.XTick at 0x2278ebdbef0>,\n",
       "  <matplotlib.axis.XTick at 0x2278ebdf908>,\n",
       "  <matplotlib.axis.XTick at 0x2278ebe3320>,\n",
       "  <matplotlib.axis.XTick at 0x2278ebe3cf8>,\n",
       "  <matplotlib.axis.XTick at 0x2278ebe9710>,\n",
       "  <matplotlib.axis.XTick at 0x2278ebee128>],\n",
       " <a list of 12 Text xticklabel objects>)"
      ]
     },
     "execution_count": 9,
     "metadata": {},
     "output_type": "execute_result"
    },
    {
     "data": {
      "image/png": "[encoded data removed]",
      "text/plain": [
       "<matplotlib.figure.Figure at 0x2278e769cc0>"
      ]
     },
     "metadata": {},
     "output_type": "display_data"
    }
   ],
   "source": [
    "#Examine the distribution of job categories\n",
    "\n",
    "\n",
    "job_count = Counter(data['job'])\n",
    "print(job_count)\n",
    "plt.bar(range(len(job_count)), job_count.values(), align='center')\n",
    "plt.xticks(range(len(job_count)), list(job_count.keys()), rotation='vertical')\n"
   ]
  },
  {
   "cell_type": "code",
   "execution_count": 10,
   "metadata": {
    "ExecuteTime": {
     "end_time": "2017-04-05T04:55:11.890186",
     "start_time": "2017-04-05T04:55:11.764002"
    },
    "collapsed": false
   },
   "outputs": [
    {
     "name": "stdout",
     "output_type": "stream",
     "text": [
      "Counter({'married': 19955, 'single': 9256, 'divorced': 3676, 'unknown': 63})\n"
     ]
    },
    {
     "data": {
      "text/plain": [
       "([<matplotlib.axis.XTick at 0x2278ec44358>,\n",
       "  <matplotlib.axis.XTick at 0x2278ec4c668>,\n",
       "  <matplotlib.axis.XTick at 0x2278ec3f6a0>,\n",
       "  <matplotlib.axis.XTick at 0x2278f5d95c0>],\n",
       " <a list of 4 Text xticklabel objects>)"
      ]
     },
     "execution_count": 10,
     "metadata": {},
     "output_type": "execute_result"
    },
    {
     "data": {
      "image/png": "[encoded data removed]",
      "text/plain": [
       "<matplotlib.figure.Figure at 0x2278e7695f8>"
      ]
     },
     "metadata": {},
     "output_type": "display_data"
    }
   ],
   "source": [
    "#Examine the distribution of marital statuses\n",
    "\n",
    "\n",
    "marital_count = Counter(data['marital_status'])\n",
    "print(marital_count)\n",
    "plt.bar(range(len(marital_count)), marital_count.values(), align='center')\n",
    "plt.xticks(range(len(marital_count)), list(marital_count.keys()), rotation='vertical')\n"
   ]
  },
  {
   "cell_type": "code",
   "execution_count": 11,
   "metadata": {
    "ExecuteTime": {
     "end_time": "2017-04-05T04:55:12.071914",
     "start_time": "2017-04-05T04:55:11.891188"
    },
    "collapsed": false
   },
   "outputs": [
    {
     "name": "stdout",
     "output_type": "stream",
     "text": [
      "Counter({'university.degree': 9760, 'high.school': 7580, 'basic.9y': 4889, 'professional.course': 4154, 'basic.4y': 3313, 'basic.6y': 1846, 'unknown': 1394, 'illiterate': 14})\n"
     ]
    },
    {
     "data": {
      "text/plain": [
       "([<matplotlib.axis.XTick at 0x2278f5d2470>,\n",
       "  <matplotlib.axis.XTick at 0x2278f5f8b70>,\n",
       "  <matplotlib.axis.XTick at 0x2278ec32d68>,\n",
       "  <matplotlib.axis.XTick at 0x2278f671588>,\n",
       "  <matplotlib.axis.XTick at 0x2278f671f60>,\n",
       "  <matplotlib.axis.XTick at 0x2278f676978>,\n",
       "  <matplotlib.axis.XTick at 0x2278f67b390>,\n",
       "  <matplotlib.axis.XTick at 0x2278f67bd68>],\n",
       " <a list of 8 Text xticklabel objects>)"
      ]
     },
     "execution_count": 11,
     "metadata": {},
     "output_type": "execute_result"
    },
    {
     "data": {
      "image/png": "[encoded data removed]",
      "text/plain": [
       "<matplotlib.figure.Figure at 0x2278f5e1908>"
      ]
     },
     "metadata": {},
     "output_type": "display_data"
    }
   ],
   "source": [
    "#Examine the distribution of education levels\n",
    "\n",
    "\n",
    "education_count = Counter(data['education'])\n",
    "print(education_count)\n",
    "plt.bar(range(len(education_count)), education_count.values(), align='center')\n",
    "plt.xticks(range(len(education_count)), list(education_count.keys()), rotation='vertical')\n"
   ]
  },
  {
   "cell_type": "code",
   "execution_count": 12,
   "metadata": {
    "ExecuteTime": {
     "end_time": "2017-04-05T04:55:12.232117",
     "start_time": "2017-04-05T04:55:12.072901"
    },
    "collapsed": false
   },
   "outputs": [
    {
     "name": "stdout",
     "output_type": "stream",
     "text": [
      "Counter({5: 11016, 7: 5716, 8: 4954, 6: 4272, 11: 3299, 4: 2097, 10: 540, 9: 465, 3: 437, 12: 154})\n"
     ]
    },
    {
     "data": {
      "text/plain": [
       "([<matplotlib.axis.XTick at 0x22792df36d8>,\n",
       "  <matplotlib.axis.XTick at 0x22792df64e0>,\n",
       "  <matplotlib.axis.XTick at 0x2278f66dcc0>,\n",
       "  <matplotlib.axis.XTick at 0x22792e4a048>,\n",
       "  <matplotlib.axis.XTick at 0x22792e4aa20>,\n",
       "  <matplotlib.axis.XTick at 0x22792e4e438>,\n",
       "  <matplotlib.axis.XTick at 0x22792e4ee10>,\n",
       "  <matplotlib.axis.XTick at 0x22792e52828>,\n",
       "  <matplotlib.axis.XTick at 0x22792e58240>,\n",
       "  <matplotlib.axis.XTick at 0x22792e58c18>],\n",
       " <a list of 10 Text xticklabel objects>)"
      ]
     },
     "execution_count": 12,
     "metadata": {},
     "output_type": "execute_result"
    },
    {
     "data": {
      "image/png": "[encoded data removed]",
      "text/plain": [
       "<matplotlib.figure.Figure at 0x2278f6215c0>"
      ]
     },
     "metadata": {},
     "output_type": "display_data"
    }
   ],
   "source": [
    "#Examine the distribution of call months\n",
    "\n",
    "\n",
    "month_count = Counter(enc_data['month'])\n",
    "print(month_count)\n",
    "plt.bar(range(len(month_count)), month_count.values(), align='center')\n",
    "plt.xticks(range(len(month_count)), list(month_count.keys()), rotation='vertical')\n"
   ]
  },
  {
   "cell_type": "code",
   "execution_count": 13,
   "metadata": {
    "ExecuteTime": {
     "end_time": "2017-04-05T04:55:12.360275",
     "start_time": "2017-04-05T04:55:12.233104"
    },
    "collapsed": false
   },
   "outputs": [
    {
     "name": "stdout",
     "output_type": "stream",
     "text": [
      "Counter({4: 6945, 1: 6749, 3: 6531, 2: 6495, 5: 6230})\n"
     ]
    },
    {
     "data": {
      "text/plain": [
       "([<matplotlib.axis.XTick at 0x22792e1a780>,\n",
       "  <matplotlib.axis.XTick at 0x22792e823c8>,\n",
       "  <matplotlib.axis.XTick at 0x22792e4ef60>,\n",
       "  <matplotlib.axis.XTick at 0x22792ec12e8>,\n",
       "  <matplotlib.axis.XTick at 0x22792ec1cc0>],\n",
       " <a list of 5 Text xticklabel objects>)"
      ]
     },
     "execution_count": 13,
     "metadata": {},
     "output_type": "execute_result"
    },
    {
     "data": {
      "image/png": "[encoded data removed]",
      "text/plain": [
       "<matplotlib.figure.Figure at 0x22792e58588>"
      ]
     },
     "metadata": {},
     "output_type": "display_data"
    }
   ],
   "source": [
    "#Examine the distribution of days of the week\n",
    "\n",
    "\n",
    "week_count = Counter(enc_data['day_of_week'])\n",
    "print(week_count)\n",
    "plt.bar(range(len(week_count)), week_count.values(), align='center')\n",
    "plt.xticks(range(len(week_count)), list(week_count.keys()), rotation='vertical')\n"
   ]
  },
  {
   "cell_type": "code",
   "execution_count": 14,
   "metadata": {
    "ExecuteTime": {
     "end_time": "2017-04-05T04:55:12.606607",
     "start_time": "2017-04-05T04:55:12.361263"
    },
    "collapsed": false
   },
   "outputs": [
    {
     "name": "stdout",
     "output_type": "stream",
     "text": [
      "Counter({999: 31707, 3: 373, 6: 332, 4: 105, 9: 55, 7: 48, 2: 46, 12: 45, 5: 42, 10: 40, 13: 26, 11: 23, 1: 19, 15: 18, 14: 17, 8: 13, 0: 11, 16: 10, 17: 5, 18: 4, 19: 3, 22: 3, 21: 2, 20: 1, 26: 1, 27: 1})\n"
     ]
    },
    {
     "data": {
      "text/plain": [
       "([<matplotlib.axis.XTick at 0x22792eed940>,\n",
       "  <matplotlib.axis.XTick at 0x22792e65cf8>,\n",
       "  <matplotlib.axis.XTick at 0x22792ecf0f0>,\n",
       "  <matplotlib.axis.XTick at 0x22792f7a198>,\n",
       "  <matplotlib.axis.XTick at 0x22792f7ab70>,\n",
       "  <matplotlib.axis.XTick at 0x22792f7f588>,\n",
       "  <matplotlib.axis.XTick at 0x22792f7ff60>,\n",
       "  <matplotlib.axis.XTick at 0x22792f83978>,\n",
       "  <matplotlib.axis.XTick at 0x22792f88390>,\n",
       "  <matplotlib.axis.XTick at 0x22792eea828>,\n",
       "  <matplotlib.axis.XTick at 0x22792e82470>,\n",
       "  <matplotlib.axis.XTick at 0x22792f88d68>,\n",
       "  <matplotlib.axis.XTick at 0x22792f8f780>,\n",
       "  <matplotlib.axis.XTick at 0x22792f92198>,\n",
       "  <matplotlib.axis.XTick at 0x22792f92b70>,\n",
       "  <matplotlib.axis.XTick at 0x22792f96588>,\n",
       "  <matplotlib.axis.XTick at 0x22792f96f60>,\n",
       "  <matplotlib.axis.XTick at 0x22792f9b978>,\n",
       "  <matplotlib.axis.XTick at 0x22792f9f390>,\n",
       "  <matplotlib.axis.XTick at 0x22792f9fd68>,\n",
       "  <matplotlib.axis.XTick at 0x22792fa5780>,\n",
       "  <matplotlib.axis.XTick at 0x22792fa9198>,\n",
       "  <matplotlib.axis.XTick at 0x22792fa9b70>,\n",
       "  <matplotlib.axis.XTick at 0x22792fad588>,\n",
       "  <matplotlib.axis.XTick at 0x22792fadf60>,\n",
       "  <matplotlib.axis.XTick at 0x22792fb3978>],\n",
       " <a list of 26 Text xticklabel objects>)"
      ]
     },
     "execution_count": 14,
     "metadata": {},
     "output_type": "execute_result"
    },
    {
     "data": {
      "image/png": "[encoded data removed]",
      "text/plain": [
       "<matplotlib.figure.Figure at 0x22792ecbe80>"
      ]
     },
     "metadata": {},
     "output_type": "display_data"
    }
   ],
   "source": [
    "#Examine the distribution of previous days since last contact\n",
    "\n",
    "\n",
    "days_count = Counter(data['prev_days'])\n",
    "print(days_count)\n",
    "plt.bar(range(len(days_count)), days_count.values(), align='center')\n",
    "plt.xticks(range(len(days_count)), list(days_count.keys()))\n"
   ]
  },
  {
   "cell_type": "code",
   "execution_count": 15,
   "metadata": {
    "ExecuteTime": {
     "end_time": "2017-04-05T04:55:12.945531",
     "start_time": "2017-04-05T04:55:12.607594"
    },
    "collapsed": false
   },
   "outputs": [
    {
     "name": "stdout",
     "output_type": "stream",
     "text": [
      "Counter({'no': 26059, 'unknown': 6888, 'yes': 3})\n",
      "Counter({'yes': 17176, 'no': 14974, 'unknown': 800})\n",
      "Counter({'no': 27179, 'yes': 4971, 'unknown': 800})\n",
      "Counter({'cellular': 20902, 'telephone': 12048})\n"
     ]
    },
    {
     "data": {
      "text/plain": [
       "<matplotlib.text.Text at 0x227930ef240>"
      ]
     },
     "execution_count": 15,
     "metadata": {},
     "output_type": "execute_result"
    },
    {
     "data": {
      "image/png": "[encoded data removed]",
      "text/plain": [
       "<matplotlib.figure.Figure at 0x2278e78e048>"
      ]
     },
     "metadata": {},
     "output_type": "display_data"
    }
   ],
   "source": [
    "#Examine distribution of binary variables\n",
    "\n",
    "\n",
    "default_count = Counter(data['credit_default'])\n",
    "housing_count = Counter(data['housing'])\n",
    "loan_count = Counter(data['loan'])\n",
    "contact_count = Counter(data['contact'])\n",
    "print(default_count)\n",
    "print(housing_count)\n",
    "print(loan_count)\n",
    "print(contact_count)\n",
    "\n",
    "ax1 = plt.subplot('331')\n",
    "plt.bar(range(len(default_count)), default_count.values(), align='center')\n",
    "plt.xticks(range(len(default_count)), list(default_count.keys()), rotation='vertical')\n",
    "ax1.set_title('Has Credit Defaults?')\n",
    "\n",
    "ax2 = plt.subplot('333')\n",
    "plt.bar(range(len(housing_count)), housing_count.values(), align='center')\n",
    "plt.xticks(range(len(housing_count)), list(housing_count.keys()), rotation='vertical')\n",
    "ax2.set_title('Has Housing Loans?')\n",
    "\n",
    "ax3 = plt.subplot('337')\n",
    "plt.bar(range(len(loan_count)), loan_count.values(), align='center')\n",
    "plt.xticks(range(len(loan_count)), list(loan_count.keys()), rotation='vertical')\n",
    "ax3.set_title('Has Personal Loans?')\n",
    "\n",
    "ax4 = plt.subplot('339')\n",
    "plt.bar(range(len(contact_count)), contact_count.values(), align='center')\n",
    "plt.xticks(range(len(contact_count)), list(contact_count), rotation='vertical')\n",
    "ax4.set_title('Method of Communication')\n"
   ]
  },
  {
   "cell_type": "code",
   "execution_count": 16,
   "metadata": {
    "ExecuteTime": {
     "end_time": "2017-04-05T04:55:13.256324",
     "start_time": "2017-04-05T04:55:12.946513"
    },
    "collapsed": false
   },
   "outputs": [
    {
     "name": "stdout",
     "output_type": "stream",
     "text": [
      "Correlation Matrix\n",
      "(nr_employed, euribor3m, emp_var_rate)\n"
     ]
    },
    {
     "data": {
      "text/plain": [
       "array([[ 1.        ,  0.9418152 ,  0.90294658],\n",
       "       [ 0.9418152 ,  1.        ,  0.96852127],\n",
       "       [ 0.90294658,  0.96852127,  1.        ]])"
      ]
     },
     "execution_count": 16,
     "metadata": {},
     "output_type": "execute_result"
    },
    {
     "data": {
      "image/png": "[encoded data removed]",
      "text/plain": [
       "<matplotlib.figure.Figure at 0x22792f92da0>"
      ]
     },
     "metadata": {},
     "output_type": "display_data"
    }
   ],
   "source": [
    "#Create covariance matrix heatmap to check for correlated features\n",
    "\n",
    "\n",
    "cov = np.cov(scale(X), rowvar = False)\n",
    "plt.imshow(cov, cmap='viridis', interpolation='nearest')\n",
    "plt.xticks(range(len(list(X))), list(X), rotation = 'vertical')\n",
    "plt.yticks(range(len(list(X))), list(X))\n",
    "\n",
    "\n",
    "#Take a closer look at the three continuous variables with high covariance\n",
    "\n",
    "\n",
    "print('Correlation Matrix')\n",
    "print('(nr_employed, euribor3m, emp_var_rate)')\n",
    "\n",
    "np.corrcoef(np.stack((data['nr_employed'], data['euribor3m']), axis=0), data['emp_var_rate'])\n"
   ]
  },
  {
   "cell_type": "markdown",
   "metadata": {},
   "source": [
    "# Step2 - ModelSet1 [35 points]\n",
    "\n",
    "In this step, we expect you to perform the following steps relevant to the models you choose for set1:\n",
    "\n",
    "* feature engineering\n",
    "* validation\n",
    "* feature selection\n",
    "* final model selection\n",
    "\n",
    "You may select up to 5 models in this step for the purpose of final ensemble. Any classification algorithm covered in class apart from tree-based models can be tested here."
   ]
  },
  {
   "cell_type": "markdown",
   "metadata": {},
   "source": [
    "I used the following feature selection methods to help decide which features are candidates for removal:\n",
    "\n",
    "\n",
    "1) Recursive Feature Selection with linear SVM\n",
    "2) Recursive Feature Selection with Logistic Regression\n",
    "3) SelectKBest with F-Scores\n",
    "4) SelectKBest with Mutual Information\n",
    "5) Stability Selection with Logistic Regression\n",
    "\n",
    "\n",
    "Having performed these different feature selection methods, I decided to try dropping some features in varying combinations. In the end, I left out the \"age\", \"job\", and \"housing\" features due to them being deemed unimportant by almost every feature selection method. I decided to remove \"nr_employed\" due to its high correlation with \"euribor3m\" and \"emp_var_rate\", though I assume that removing one of the other two features instead would have a similar effect. Lastly, I dropped \"cons_price_idx\" and saw a less than 1% decrease in the roc_auc scores. Therefore, I decided to leave it out for the sake of having a simpler model. Removing \"prev_days\" seemed to cause a more significant decrease in roc_auc scores so I left it in my model. My final feature set includes the following features: \n",
    "\n",
    "\"marital_status\", \"education\", \"credit_default\", \"loan\", \"contact\", \"month\", \"day_of_week\", \"campaign\", \"prev_days\", \"prev_contacts\", \"prev_outcomes\", \"emp_var_rate\", \"cons_conf_idx\", \"euribor3m\"\n",
    "\n",
    "\n",
    "I chose to avoid using SVM models due to the following reasons:\n",
    "\n",
    "\n",
    "1) the requirement of providing probabilities for our predictions meant relying on SVC's probability parameter, which was not recommended in the lecture on linear models for classification\n",
    "2) they did not exhibit significantly better performance than logistic regression models while requiring much longer to compute.\n",
    "\n",
    "\n",
    "For each Logistic Regression model, I performed one hot encoding on the categorical variables, providing the number of categories that should be in each feature to account for rare categories that may be present in the training set but not in the test set. I used MaxAbsScaler() rather than StandardScaler() due to the sparsity of the encoded arrays.\n",
    "\n",
    "Afterward, I tried using the same reduced feature set on an SGDClassifier and found that the results were slightly worse overall compared to the Logistic Regression model.\n",
    "\n",
    "\n",
    "Mean roc_auc scores achieved with Logistic Regression using the reduced feature set on each balanced training set:\n",
    "\n",
    "\n",
    "rus: 0.773443799587\n",
    "\n",
    "sm : 0.847589670258\n",
    "\n",
    "enn: 0.850619097685\n",
    "\n",
    "\n",
    "roc_auc scores achieved with Logistic Regression using the reduced feature set on each balanced test set:\n",
    "\n",
    "\n",
    "rus: 0.721087520023\n",
    "\n",
    "sm : 0.762174914649\n",
    "\n",
    "enn: 0.766552547537\n",
    "\n",
    "\n",
    "Mean roc_auc scores achieved with the SGDClassifier using the reduced feature set on each balanced training set:\n",
    "\n",
    "\n",
    "rus best score: 0.775891872894\n",
    "\n",
    "sm  best score: 0.830834331782\n",
    "\n",
    "enn best score: 0.835541548231\n",
    "\n",
    "\n",
    "roc_auc scores achieved with the SGDClassifier using the reduced feature set on each balanced test set:\n",
    "\n",
    "\n",
    "rus: 0.721444222657\n",
    "\n",
    "sm : 0.756969852776\n",
    "\n",
    "enn: 0.761043865103\n"
   ]
  },
  {
   "cell_type": "code",
   "execution_count": 17,
   "metadata": {
    "ExecuteTime": {
     "end_time": "2017-04-05T04:57:03.520318",
     "start_time": "2017-04-05T04:55:13.257325"
    },
    "collapsed": false
   },
   "outputs": [
    {
     "name": "stdout",
     "output_type": "stream",
     "text": [
      "sm : [10  7  1  3  1  4  1  1  1  2  1  9  1  1  1  6  5  1  8]\n",
      "rus: [ 8  1  1  1  1  4 10  1  1  3  1  7  1  1  5  6  2  1  9]\n",
      "enn: [ 9  6  1  5  1  2  1  1  4  1  1 10  1  1  7  1  3  1  8]\n"
     ]
    }
   ],
   "source": [
    "#Determine feature importance with RFE using SVMs\n",
    "\n",
    "\n",
    "svc = LinearSVC(random_state=5)\n",
    "svc_rfe = RFE(svc, n_features_to_select = 10)\n",
    "\n",
    "sm = svc_rfe.fit(X_train_sm, y_train_sm)\n",
    "print('sm :', sm.ranking_)\n",
    "\n",
    "rus = svc_rfe.fit(X_train_rus, y_train_rus)\n",
    "print('rus:', rus.ranking_)\n",
    "\n",
    "enn = svc_rfe.fit(X_train_enn, y_train_enn)\n",
    "print('enn:', enn.ranking_)\n"
   ]
  },
  {
   "cell_type": "code",
   "execution_count": 18,
   "metadata": {
    "ExecuteTime": {
     "end_time": "2017-04-05T04:57:10.823668",
     "start_time": "2017-04-05T04:57:03.521319"
    },
    "collapsed": false
   },
   "outputs": [
    {
     "name": "stdout",
     "output_type": "stream",
     "text": [
      "sm : [ 8  7  1  2  1  6  1  1  4  3  1 10  1  1  5  1  1  1  9]\n",
      "rus: [ 8  7  1  2  1  6  1  1  4  3  1 10  1  1  5  1  1  1  9]\n",
      "enn: [ 8  7  1  2  1  6  1  1  4  3  1 10  1  1  5  1  1  1  9]\n"
     ]
    }
   ],
   "source": [
    "#Determine feature importance with RFE using Logistic Regression\n",
    "\n",
    "\n",
    "lr = LogisticRegression(n_jobs=8, random_state=5)\n",
    "lr_rfe = RFE(lr, n_features_to_select = 10)\n",
    "\n",
    "sm_lr = lr_rfe.fit(X_train_sm, y_train_sm)\n",
    "rus_lr = lr_rfe.fit(X_train_rus, y_train_rus)\n",
    "enn_lr = lr_rfe.fit(X_train_enn, y_train_enn)\n",
    "\n",
    "print('sm :', sm_lr.ranking_)\n",
    "print('rus:', rus_lr.ranking_)\n",
    "print('enn:', enn_lr.ranking_)\n"
   ]
  },
  {
   "cell_type": "code",
   "execution_count": 19,
   "metadata": {
    "ExecuteTime": {
     "end_time": "2017-04-05T04:57:19.719296",
     "start_time": "2017-04-05T04:57:10.824669"
    },
    "collapsed": false
   },
   "outputs": [
    {
     "name": "stdout",
     "output_type": "stream",
     "text": [
      "f : [False False False False  True False False  True False False  True  True\n",
      "  True  True  True  True False  True  True]\n",
      "mi: [ True  True  True  True False  True False False  True  True  True False\n",
      " False False False False False  True  True]\n"
     ]
    }
   ],
   "source": [
    "#Determine feature importance with F-scores, mutual information, and SelectKBest\n",
    "\n",
    "\n",
    "f = SelectKBest(f_classif, k=10)\n",
    "mi = SelectKBest(mutual_info_classif, k=10)\n",
    "                \n",
    "f.fit(X_train_sm, y_train_sm)\n",
    "mi.fit(X_train_sm, y_train_sm)\n",
    "\n",
    "print('f :', f.get_support())\n",
    "print('mi:', mi.get_support())\n"
   ]
  },
  {
   "cell_type": "code",
   "execution_count": 20,
   "metadata": {
    "ExecuteTime": {
     "end_time": "2017-04-05T04:58:03.789634",
     "start_time": "2017-04-05T04:57:19.720286"
    },
    "collapsed": false
   },
   "outputs": [
    {
     "name": "stdout",
     "output_type": "stream",
     "text": [
      "sm : [ 0.     0.275  0.68   1.     1.     0.     0.325  1.     0.315  0.495  1.\n",
      "  0.855  0.205  1.     0.605  0.115  0.985  0.175  1.   ]\n",
      "rus: [ 0.     0.275  0.68   1.     1.     0.     0.325  1.     0.315  0.495  1.\n",
      "  0.855  0.205  1.     0.605  0.115  0.985  0.175  1.   ]\n",
      "enn: [ 0.     0.275  0.68   1.     1.     0.     0.325  1.     0.315  0.495  1.\n",
      "  0.855  0.205  1.     0.605  0.115  0.985  0.175  1.   ]\n"
     ]
    }
   ],
   "source": [
    "#Determine feature importance with stability selection using Logistic Regression\n",
    "\n",
    "\n",
    "from sklearn.linear_model import RandomizedLogisticRegression\n",
    "\n",
    "rlr = RandomizedLogisticRegression(random_state=5)\n",
    "\n",
    "rus_rlr = rlr.fit(X_train_rus, y_train_rus)\n",
    "sm_rlr = rlr.fit(X_train_sm, y_train_sm)\n",
    "enn_rlr = rlr.fit(X_train_enn, y_train_enn)\n",
    "\n",
    "print('sm :', sm_rlr.scores_)\n",
    "print('rus:', rus_rlr.scores_)\n",
    "print('enn:', enn_rlr.scores_)\n"
   ]
  },
  {
   "cell_type": "code",
   "execution_count": 21,
   "metadata": {
    "ExecuteTime": {
     "end_time": "2017-04-05T04:59:15.099872",
     "start_time": "2017-04-05T04:58:03.790635"
    },
    "collapsed": false
   },
   "outputs": [
    {
     "name": "stdout",
     "output_type": "stream",
     "text": [
      "rus: 0.778027203586\n",
      "sm : 0.859445074321\n",
      "enn: 0.864283365945\n"
     ]
    }
   ],
   "source": [
    "#Drop the features deemed to be unimportant: \"age\", \"housing\", \"nr_employed\"\n",
    "#Perform One Hot Encoding on the categorical features\n",
    "#Determine the best resampling technique to use with Logistic Regression\n",
    "\n",
    "\n",
    "dropped = [0, 5, 18]\n",
    "leftover_discrete = np.array([0, 1, 2, 3, 4, 5, 11])\n",
    "levels = np.array([12, 4, 8, 3, 3, 2, 3])\n",
    "drop = FunctionTransformer(np.delete, kw_args={'obj': dropped, 'axis': 1})\n",
    "\n",
    "pipe = make_pipeline(drop, OneHotEncoder(categorical_features=leftover_discrete, n_values=levels),\n",
    "                     MaxAbsScaler(), LogisticRegressionCV(n_jobs=8, random_state=5))\n",
    "\n",
    "rus_score = cross_val_score(pipe, X_train_rus, y_train_rus, cv=10, scoring='roc_auc')\n",
    "print('rus:', np.mean(rus_score))\n",
    "\n",
    "sm_score = cross_val_score(pipe, X_train_sm, y_train_sm, cv=10, scoring='roc_auc')\n",
    "print('sm :', np.mean(sm_score))\n",
    "\n",
    "enn_score = cross_val_score(pipe, X_train_enn, y_train_enn, cv=10, scoring='roc_auc')\n",
    "print('enn:', np.mean(enn_score))\n",
    "    "
   ]
  },
  {
   "cell_type": "code",
   "execution_count": 22,
   "metadata": {
    "ExecuteTime": {
     "end_time": "2017-04-05T05:00:23.732883",
     "start_time": "2017-04-05T04:59:15.100859"
    },
    "collapsed": false
   },
   "outputs": [
    {
     "name": "stdout",
     "output_type": "stream",
     "text": [
      "rus: 0.775964995743\n",
      "sm : 0.849835574439\n",
      "enn: 0.856098288793\n"
     ]
    }
   ],
   "source": [
    "#Drop the features deemed to be unimportant: \"age\", \"job\", \"housing\", \"nr_employed\"\n",
    "#Perform One Hot Encoding on the categorical features\n",
    "#Determine the best resampling technique to use with Logistic Regression\n",
    "\n",
    "\n",
    "dropped = [0, 1, 5, 18]\n",
    "leftover_discrete = [0, 1, 2, 3, 4, 10]\n",
    "levels = np.array([4, 8, 3, 3, 2, 3])\n",
    "drop = FunctionTransformer(np.delete, kw_args={'obj': dropped, 'axis': 1})\n",
    "\n",
    "pipe = make_pipeline(drop, OneHotEncoder(categorical_features=leftover_discrete, n_values=levels),\n",
    "                     MaxAbsScaler(), LogisticRegressionCV(n_jobs=8, random_state=5))\n",
    "\n",
    "rus_score = cross_val_score(pipe, X_train_rus, y_train_rus, cv=10, scoring='roc_auc')\n",
    "print('rus:', np.mean(rus_score))\n",
    "\n",
    "sm_score = cross_val_score(pipe, X_train_sm, y_train_sm, cv=10, scoring='roc_auc')\n",
    "print('sm :', np.mean(sm_score))\n",
    "\n",
    "enn_score = cross_val_score(pipe, X_train_enn, y_train_enn, cv=10, scoring='roc_auc')\n",
    "print('enn:', np.mean(enn_score))\n",
    "    "
   ]
  },
  {
   "cell_type": "code",
   "execution_count": 23,
   "metadata": {
    "ExecuteTime": {
     "end_time": "2017-04-05T05:01:23.050456",
     "start_time": "2017-04-05T05:00:23.733885"
    },
    "collapsed": false
   },
   "outputs": [
    {
     "name": "stdout",
     "output_type": "stream",
     "text": [
      "rus: 0.775039588911\n",
      "sm : 0.849615841477\n",
      "enn: 0.854820423872\n"
     ]
    }
   ],
   "source": [
    "#Drop the features deemed to be unimportant: \"age\", \"job\", \"housing\", \"cons_price_idx\", \"nr_employed\"\n",
    "#Perform One Hot Encoding on the categorical features\n",
    "#Determine the best resampling technique to use with Logistic Regression\n",
    "\n",
    "\n",
    "dropped = [0, 1, 5, 15, 18]\n",
    "leftover_discrete = [0, 1, 2, 3, 4, 10]\n",
    "levels = np.array([4, 8, 3, 3, 2, 3])\n",
    "drop = FunctionTransformer(np.delete, kw_args={'obj': dropped, 'axis': 1})\n",
    "\n",
    "pipe = make_pipeline(drop, OneHotEncoder(categorical_features=leftover_discrete, n_values=levels),\n",
    "                     MaxAbsScaler(), LogisticRegressionCV(n_jobs=8, random_state=5))\n",
    "\n",
    "rus_score = cross_val_score(pipe, X_train_rus, y_train_rus, cv=10, scoring='roc_auc')\n",
    "print('rus:', np.mean(rus_score))\n",
    "\n",
    "sm_score = cross_val_score(pipe, X_train_sm, y_train_sm, cv=10, scoring='roc_auc')\n",
    "print('sm :', np.mean(sm_score))\n",
    "\n",
    "enn_score = cross_val_score(pipe, X_train_enn, y_train_enn, cv=10, scoring='roc_auc')\n",
    "print('enn:', np.mean(enn_score))\n",
    "    "
   ]
  },
  {
   "cell_type": "code",
   "execution_count": 24,
   "metadata": {
    "ExecuteTime": {
     "end_time": "2017-04-05T05:02:19.217944",
     "start_time": "2017-04-05T05:01:23.051440"
    },
    "collapsed": false
   },
   "outputs": [
    {
     "name": "stdout",
     "output_type": "stream",
     "text": [
      "rus: 0.774590417343\n",
      "sm : 0.846688168872\n",
      "enn: 0.851991509518\n"
     ]
    }
   ],
   "source": [
    "#Drop the features deemed to be unimportant: \"age\", \"job\", \"housing\", \"prev_days\", \"cons_price_idx\", \"nr_employed\"\n",
    "#Perform One Hot Encoding on the categorical features\n",
    "#Determine the best resampling technique to use with Logistic Regression\n",
    "\n",
    "\n",
    "dropped = [0, 1, 5, 11, 15, 18]\n",
    "leftover_discrete = [0, 1, 2, 3, 4, 9]\n",
    "levels = np.array([4, 8, 3, 3, 2, 3])\n",
    "drop = FunctionTransformer(np.delete, kw_args={'obj': dropped, 'axis': 1})\n",
    "\n",
    "pipe = make_pipeline(drop, OneHotEncoder(categorical_features=leftover_discrete, n_values=levels),\n",
    "                     MaxAbsScaler(), LogisticRegressionCV(n_jobs=8, random_state=5))\n",
    "\n",
    "rus_score = cross_val_score(pipe, X_train_rus, y_train_rus, cv=10, scoring='roc_auc')\n",
    "print('rus:', np.mean(rus_score))\n",
    "\n",
    "sm_score = cross_val_score(pipe, X_train_sm, y_train_sm, cv=10, scoring='roc_auc')\n",
    "print('sm :', np.mean(sm_score))\n",
    "\n",
    "enn_score = cross_val_score(pipe, X_train_enn, y_train_enn, cv=10, scoring='roc_auc')\n",
    "print('enn:', np.mean(enn_score))\n",
    "    "
   ]
  },
  {
   "cell_type": "code",
   "execution_count": 25,
   "metadata": {
    "ExecuteTime": {
     "end_time": "2017-04-05T05:02:25.109558",
     "start_time": "2017-04-05T05:02:19.218945"
    },
    "collapsed": false
   },
   "outputs": [
    {
     "name": "stdout",
     "output_type": "stream",
     "text": [
      "rus: 0.728845205383\n",
      "sm : 0.767982959642\n",
      "enn: 0.769193358783\n"
     ]
    }
   ],
   "source": [
    "#Score the Logistic Regression model that produced the best results on the training data\n",
    "#Drop the \"age\", \"job\", \"housing\", \"cons_price_idx\", and \"nr_employed\" features\n",
    "\n",
    "\n",
    "dropped = [0, 1, 5, 15, 18]\n",
    "leftover_discrete = [0, 1, 2, 3, 4, 10]\n",
    "levels = np.array([4, 8, 3, 3, 2, 3])\n",
    "drop = FunctionTransformer(np.delete, kw_args={'obj': dropped, 'axis': 1})\n",
    "\n",
    "lr_pipe = make_pipeline(drop, OneHotEncoder(categorical_features=leftover_discrete, n_values=levels),\n",
    "                     MaxAbsScaler(), LogisticRegressionCV(n_jobs=8, random_state=5))\n",
    "    \n",
    "rus_lr = pipe.fit(X_train_rus, y_train_rus)\n",
    "rus_lr_score = roc_auc_score(rus_lr.predict(X_test_rus), y_test_rus)\n",
    "print('rus:', rus_lr_score)\n",
    "\n",
    "sm_lr = pipe.fit(X_train_sm, y_train_sm)\n",
    "sm_lr_score = roc_auc_score(sm_lr.predict(X_test_sm), y_test_sm)\n",
    "print('sm :', sm_lr_score)\n",
    "\n",
    "enn_lr = pipe.fit(X_train_enn, y_train_enn)\n",
    "enn_lr_score = roc_auc_score(enn_lr.predict(X_test_enn), y_test_enn)\n",
    "print('enn:', enn_lr_score)\n"
   ]
  },
  {
   "cell_type": "code",
   "execution_count": 26,
   "metadata": {
    "ExecuteTime": {
     "end_time": "2017-04-05T05:02:58.338636",
     "start_time": "2017-04-05T05:02:25.110559"
    },
    "collapsed": false
   },
   "outputs": [
    {
     "name": "stdout",
     "output_type": "stream",
     "text": [
      "rus best score: 0.778695248505\n",
      "rus best parameters: {'SGDClassifier__alpha': 0.10000000000000001}\n",
      "sm  best score: 0.833919547312\n",
      "sm  best parameters: {'SGDClassifier__alpha': 0.10000000000000001}\n",
      "enn best score: 0.838365006627\n",
      "enn best parameters: {'SGDClassifier__alpha': 0.10000000000000001}\n"
     ]
    }
   ],
   "source": [
    "#Find the optimal value of alpha to use with the SGDClassifier and the chosen feature set\n",
    "\n",
    "\n",
    "dropped = [0, 1, 5, 15, 18]\n",
    "leftover_discrete = [0, 1, 2, 3, 4, 10]\n",
    "levels = np.array([4, 8, 3, 3, 2, 3])\n",
    "drop = FunctionTransformer(np.delete, kw_args={'obj': dropped, 'axis': 1})\n",
    "one = OneHotEncoder(categorical_features=leftover_discrete, n_values=levels)\n",
    "\n",
    "methods = [('rus', X_train_rus, y_train_rus),\n",
    "           ('sm ', X_train_sm, y_train_sm),\n",
    "           ('enn', X_train_enn, y_train_enn)]\n",
    "\n",
    "for array in methods:  \n",
    "    \n",
    "    scaler = MaxAbsScaler()\n",
    "    sgd = SGDClassifier(loss='modified_huber', n_jobs=8,\n",
    "                  random_state=5,n_iter=np.ceil(10**6/np.shape(array[1])[0]))\n",
    "    pipe = Pipeline([('Drop', drop), ('One Hot Encoder', one), ('MaxAbsScaler', scaler),\n",
    "                    ('SGDClassifier', sgd)])\n",
    "    \n",
    "    grid = {'SGDClassifier__alpha': np.logspace(-1,7, 9)}\n",
    "    \n",
    "    gridsearch = GridSearchCV(pipe, param_grid=grid, scoring='roc_auc', cv=15, n_jobs=8)\n",
    "    \n",
    "    sgd = gridsearch.fit(array[1], array[2])\n",
    "    print(array[0], 'best score:', sgd.score(array[1], array[2]))\n",
    "    print(array[0], 'best parameters:', sgd.best_params_)\n",
    "    "
   ]
  },
  {
   "cell_type": "code",
   "execution_count": 27,
   "metadata": {
    "ExecuteTime": {
     "end_time": "2017-04-05T05:02:59.058482",
     "start_time": "2017-04-05T05:02:58.339620"
    },
    "collapsed": false
   },
   "outputs": [
    {
     "name": "stdout",
     "output_type": "stream",
     "text": [
      "rus: 0.722838530674\n",
      "sm : 0.755523937737\n",
      "enn: 0.76089620509\n"
     ]
    }
   ],
   "source": [
    "#Score the SGDClassifier model with the optimal parameter value and the chosen feature set\n",
    "\n",
    "\n",
    "dropped = [0, 1, 5, 15, 18]\n",
    "leftover_discrete = [0, 1, 2, 3, 4, 10]\n",
    "levels = np.array([4, 8, 3, 3, 2, 3])\n",
    "\n",
    "sgd_pipe = make_pipeline(drop, OneHotEncoder(categorical_features=leftover_discrete, n_values=levels), \n",
    "                         MaxAbsScaler(),\n",
    "                         SGDClassifier(alpha=sgd.best_params_['SGDClassifier__alpha'],\n",
    "                                       loss='modified_huber', n_jobs=8, random_state=5, \n",
    "                                       n_iter=np.ceil(10**6/np.shape(array[1])[0])))\n",
    "\n",
    "rus_sgd = sgd_pipe.fit(X_train_rus, y_train_rus)\n",
    "rus_sgd_score = roc_auc_score(rus_sgd.predict(X_test_rus), y_test_rus)\n",
    "print('rus:', rus_sgd_score)\n",
    "\n",
    "sm_sgd = sgd_pipe.fit(X_train_sm, y_train_sm)\n",
    "sm_sgd_score = roc_auc_score(sm_sgd.predict(X_test_sm), y_test_sm)\n",
    "print('sm :', sm_sgd_score)\n",
    "\n",
    "enn_sgd = sgd_pipe.fit(X_train_enn, y_train_enn)\n",
    "enn_sgd_score = roc_auc_score(enn_sgd.predict(X_test_enn), y_test_enn)\n",
    "print('enn:', enn_sgd_score)\n"
   ]
  },
  {
   "cell_type": "markdown",
   "metadata": {},
   "source": [
    "# Step3 - ModelSet2 [35 points]\n",
    "\n",
    "In this step, we expect you to perform the following steps relevant to the models you choose for set2:\n",
    "\n",
    "* feature engineering\n",
    "* validation\n",
    "* feature selection\n",
    "* final model selection\n",
    "\n",
    "You may select up to 5 models in this step for the purpose of final ensemble. We encourage you to try decition tree, random forest and gradient boosted tree methods here and pick the one which you think works best."
   ]
  },
  {
   "cell_type": "markdown",
   "metadata": {},
   "source": [
    "In this section, I tried using a single decision tree model, a random forest model, and an ExtraTreesClassifier model. I tried each model with both the full feature set and the reduced one that I used in step 2. I found that the results were either very close or the reduced feature set performed much worse. Therefore, I decided to use the full feature set for use with three models.\n",
    "\n",
    "\n",
    "Mean roc_auc scores achieved with one Decision Tree on each balanced training set:\n",
    "\n",
    "\n",
    "rus: 0.655539439416\n",
    "\n",
    "sm : 0.895182311169\n",
    "\n",
    "enn: 0.896686871576\n",
    "\n",
    "\n",
    "roc_auc scores achieved with one Decision Tree on each balanced test_set:\n",
    "\n",
    "\n",
    "rus: 0.916124713879\n",
    "\n",
    "sm: 0.964969314802\n",
    "\n",
    "enn: 0.899284923307\n",
    "\n",
    "\n",
    "Mean roc_auc scores achieved with a Random Forest on each balanced training set:\n",
    "\n",
    "\n",
    "rus: 0.979832158723\n",
    "\n",
    "sm : 0.996729402728\n",
    "\n",
    "enn: 0.999999991477\n",
    "\n",
    "\n",
    "roc_auc scores achieved with a Random Forest on each balanced test_set:\n",
    "\n",
    "\n",
    "rus: 0.92825020223\n",
    "\n",
    "sm: 0.981237022125\n",
    "\n",
    "enn: 0.945911511396\n",
    "\n",
    "\n",
    "Mean roc_auc scores achieved with the ExtraTreesClassifier on each balanced training set:\n",
    "\n",
    "\n",
    "rus: 0.979832158723\n",
    "\n",
    "sm : 0.996729402728\n",
    "\n",
    "enn: 0.999999991477\n",
    "\n",
    "\n",
    "roc_auc scores achieved with the ExtraTreesClassifier on each balanced training set:\n",
    "\n",
    "\n",
    "rus: 0.944855948244\n",
    "\n",
    "sm: 0.983914240581\n",
    "\n",
    "enn: 0.955509035091\n"
   ]
  },
  {
   "cell_type": "code",
   "execution_count": 28,
   "metadata": {
    "ExecuteTime": {
     "end_time": "2017-04-05T05:03:19.273943",
     "start_time": "2017-04-05T05:02:59.059483"
    },
    "collapsed": false
   },
   "outputs": [
    {
     "name": "stdout",
     "output_type": "stream",
     "text": [
      "rus: 0.909841954023\n",
      "{'max_features': 13, 'max_depth': 50.0}\n",
      "sm : 0.963267207464\n",
      "{'max_features': 13, 'max_depth': 50.0}\n",
      "enn: 1.0\n",
      "{'max_features': 13, 'max_depth': 50.0}\n"
     ]
    }
   ],
   "source": [
    "#Perform a grid search to find the optimal Decision Tree parameter values for max_depth and max_features\n",
    "\n",
    "\n",
    "grid = {'max_features': range(3, 15, 1), 'max_depth': np.linspace(5, 50, 2)}\n",
    "\n",
    "search = GridSearchCV(DecisionTreeClassifier(random_state=5), param_grid = grid, scoring='roc_auc', cv=10, n_jobs=8)\n",
    "\n",
    "rus = search.fit(X_train_rus, y_train_rus)\n",
    "sm = search.fit(X_train_sm, y_train_sm)\n",
    "enn = search.fit(X_train_enn, y_train_enn)\n",
    "\n",
    "print('rus:', rus.score(X_train_rus, y_train_rus))\n",
    "print(rus.best_params_)\n",
    "print('sm :', sm.score(X_train_sm, y_train_sm))\n",
    "print(sm.best_params_)\n",
    "print('enn:', enn.score(X_train_enn, y_train_enn))\n",
    "print(enn.best_params_)\n"
   ]
  },
  {
   "cell_type": "code",
   "execution_count": 29,
   "metadata": {
    "ExecuteTime": {
     "end_time": "2017-04-05T05:03:25.920047",
     "start_time": "2017-04-05T05:03:19.274925"
    },
    "collapsed": false
   },
   "outputs": [
    {
     "name": "stdout",
     "output_type": "stream",
     "text": [
      "rus: 0.649977437405\n",
      "sm : 0.893517518831\n",
      "enn: 0.896829404449\n"
     ]
    }
   ],
   "source": [
    "#Perform cross-validation using each balanced dataset and the optimal parameter values\n",
    "\n",
    "\n",
    "dt = DecisionTreeClassifier(max_features=enn.best_params_['max_features'],\n",
    "                            max_depth=enn.best_params_['max_depth'], random_state=5)\n",
    "\n",
    "print('rus:', np.mean(cross_val_score(dt, X_train_rus, y_train_rus, cv=10, scoring='roc_auc')))\n",
    "print('sm :', np.mean(cross_val_score(dt, X_train_sm, y_train_sm, cv=10, scoring='roc_auc')))\n",
    "print('enn:', np.mean(cross_val_score(dt, X_train_enn, y_train_enn, cv=10, scoring='roc_auc')))\n"
   ]
  },
  {
   "cell_type": "code",
   "execution_count": 30,
   "metadata": {
    "ExecuteTime": {
     "end_time": "2017-04-05T05:03:26.678383",
     "start_time": "2017-04-05T05:03:25.921032"
    },
    "collapsed": false
   },
   "outputs": [
    {
     "name": "stdout",
     "output_type": "stream",
     "text": [
      "rus: 0.918613459365\n",
      "sm: 0.964063300736\n",
      "enn: 0.901351112765\n"
     ]
    }
   ],
   "source": [
    "#Score the test set using the chosen parameters values\n",
    "\n",
    "\n",
    "rus_dt = dt.fit(X_train_rus, y_train_rus)\n",
    "sm_dt = dt.fit(X_train_sm, y_train_sm)\n",
    "enn_dt = dt.fit(X_train_enn, y_train_enn)\n",
    "\n",
    "rus_dt_score = roc_auc_score(rus_dt.predict(X_test_rus), y_test_rus)\n",
    "print('rus:', rus_dt_score)\n",
    "sm_dt_score = roc_auc_score(sm_dt.predict(X_test_sm), y_test_sm)\n",
    "print('sm:', sm_dt_score)\n",
    "enn_dt_score = roc_auc_score(enn_dt.predict(X_test_enn), y_test_enn)\n",
    "print('enn:', enn_dt_score)\n"
   ]
  },
  {
   "cell_type": "code",
   "execution_count": 31,
   "metadata": {
    "ExecuteTime": {
     "end_time": "2017-04-05T05:07:13.232753",
     "start_time": "2017-04-05T05:03:26.679366"
    },
    "collapsed": false
   },
   "outputs": [
    {
     "name": "stdout",
     "output_type": "stream",
     "text": [
      "rus: 0.976851314263\n",
      "{'max_depth': 35}\n",
      "sm : 0.996863389999\n",
      "{'max_depth': 35}\n",
      "enn: 0.999999989351\n",
      "{'max_depth': 35}\n"
     ]
    }
   ],
   "source": [
    "#Perform a grid search to find the optimal Random Forest parameter value for max_depth\n",
    "\n",
    "\n",
    "grid = {'max_depth': np.array([5, 10, 15, 20, 25, 30, 35, 40, 45, 50, None])}\n",
    "search = GridSearchCV(RandomForestClassifier(n_estimators=50, max_features='sqrt', n_jobs=8, random_state=5),\n",
    "                      param_grid = grid, scoring='roc_auc', cv=10)\n",
    "\n",
    "\n",
    "rus_rt = search.fit(X_train_rus, y_train_rus)\n",
    "sm_rt = search.fit(X_train_sm, y_train_sm)\n",
    "enn_rt = search.fit(X_train_enn, y_train_enn)\n",
    "\n",
    "print('rus:', rus_rt.score(X_train_rus, y_train_rus))\n",
    "print(rus_rt.best_params_)\n",
    "print('sm :', sm_rt.score(X_train_sm, y_train_sm))\n",
    "print(sm_rt.best_params_)\n",
    "print('enn:', enn_rt.score(X_train_enn, y_train_enn))\n",
    "print(enn_rt.best_params_)\n"
   ]
  },
  {
   "cell_type": "code",
   "execution_count": 32,
   "metadata": {
    "ExecuteTime": {
     "end_time": "2017-04-05T05:07:15.828423",
     "start_time": "2017-04-05T05:07:13.233757"
    },
    "collapsed": false
   },
   "outputs": [
    {
     "name": "stdout",
     "output_type": "stream",
     "text": [
      "rus: 0.934319659667\n",
      "sm: 0.982037918437\n",
      "enn: 0.94819666024\n"
     ]
    }
   ],
   "source": [
    "#Score the test set using the chosen parameter\n",
    "\n",
    "\n",
    "rt = RandomForestClassifier(n_estimators=75, max_features='sqrt',\n",
    "                            max_depth=enn_rt.best_params_['max_depth'], n_jobs=8, random_state=5)\n",
    "\n",
    "rus_rt = rt.fit(X_train_rus, y_train_rus)\n",
    "sm_rt = rt.fit(X_train_sm, y_train_sm)\n",
    "enn_rt = rt.fit(X_train_enn, y_train_enn)\n",
    "\n",
    "rus_rt_score = roc_auc_score(rus_rt.predict(X_test_rus), y_test_rus)\n",
    "print('rus:', rus_rt_score)\n",
    "sm_rt_score = roc_auc_score(sm_rt.predict(X_test_sm), y_test_sm)\n",
    "print('sm:', sm_rt_score)\n",
    "enn_rt_score = roc_auc_score(enn_rt.predict(X_test_enn), y_test_enn)\n",
    "print('enn:', enn_rt_score)\n"
   ]
  },
  {
   "cell_type": "code",
   "execution_count": 33,
   "metadata": {
    "ExecuteTime": {
     "end_time": "2017-04-05T05:10:58.834631",
     "start_time": "2017-04-05T05:07:15.829425"
    },
    "collapsed": false
   },
   "outputs": [
    {
     "name": "stdout",
     "output_type": "stream",
     "text": [
      "rus: 0.976851314263\n",
      "{'max_depth': 35}\n",
      "sm : 0.996863389999\n",
      "{'max_depth': 35}\n",
      "enn: 0.999999989351\n",
      "{'max_depth': 35}\n"
     ]
    }
   ],
   "source": [
    "#Perform a grid search to find the optimal Extra Trees parameter value for max_depth\n",
    "\n",
    "\n",
    "grid = {'max_depth': np.array([5, 10, 15, 20, 25, 30, 35, 40, 45, 50, None])}\n",
    "et_search = GridSearchCV(ExtraTreesClassifier(n_estimators=50, max_features='sqrt', n_jobs=8, random_state=5),\n",
    "                      param_grid = grid, scoring='roc_auc', cv=10)\n",
    "\n",
    "\n",
    "rus_et = search.fit(X_train_rus, y_train_rus)\n",
    "sm_et = search.fit(X_train_sm, y_train_sm)\n",
    "enn_et = search.fit(X_train_enn, y_train_enn)\n",
    "\n",
    "print('rus:', rus_et.score(X_train_rus, y_train_rus))\n",
    "print(rus_et.best_params_)\n",
    "print('sm :', sm_et.score(X_train_sm, y_train_sm))\n",
    "print(sm_et.best_params_)\n",
    "print('enn:', enn_et.score(X_train_enn, y_train_enn))\n",
    "print(enn_et.best_params_)\n"
   ]
  },
  {
   "cell_type": "code",
   "execution_count": 34,
   "metadata": {
    "ExecuteTime": {
     "end_time": "2017-04-05T05:11:00.423642",
     "start_time": "2017-04-05T05:10:58.835619"
    },
    "collapsed": false
   },
   "outputs": [
    {
     "name": "stdout",
     "output_type": "stream",
     "text": [
      "rus: 0.948630726986\n",
      "sm : 0.982516396415\n",
      "enn: 0.955110529833\n"
     ]
    }
   ],
   "source": [
    "#Score the test set using the chosen parameter\n",
    "\n",
    "\n",
    "et = ExtraTreesClassifier(n_estimators=75, max_features='sqrt',\n",
    "                          max_depth=enn_et.best_params_['max_depth'], n_jobs=8, random_state=5)\n",
    "\n",
    "rus_et = et.fit(X_train_rus, y_train_rus)\n",
    "sm_et = et.fit(X_train_sm, y_train_sm)\n",
    "enn_et = et.fit(X_train_enn, y_train_enn)\n",
    "\n",
    "rus_et_score = roc_auc_score(rus_et.predict(X_test_rus), y_test_rus)\n",
    "print('rus:', rus_et_score)\n",
    "sm_et_score = roc_auc_score(sm_et.predict(X_test_sm), y_test_sm)\n",
    "print('sm :', sm_et_score)\n",
    "enn_et_score = roc_auc_score(enn_et.predict(X_test_enn), y_test_enn)\n",
    "print('enn:', enn_et_score)\n"
   ]
  },
  {
   "cell_type": "markdown",
   "metadata": {},
   "source": [
    "# Step4 - Ensemble [20 points + 10 Bonus points]\n",
    "\n",
    "In this step, we expect you to use the models created before and create new predictions. You should definitely try poor man's stacking but we encourage you to think of different ensemble techniques as well. We will judge your creativity and improvement in model performance using ensemble models and you can potentially earn 10 bonus points here."
   ]
  },
  {
   "cell_type": "code",
   "execution_count": 35,
   "metadata": {
    "ExecuteTime": {
     "end_time": "2017-04-05T05:11:00.744738",
     "start_time": "2017-04-05T05:11:00.424643"
    },
    "collapsed": false
   },
   "outputs": [
    {
     "data": {
      "text/plain": [
       "CalibratedClassifierCV(base_estimator=RandomForestClassifier(bootstrap=True, class_weight=None, criterion='gini',\n",
       "            max_depth=35, max_features='sqrt', max_leaf_nodes=None,\n",
       "            min_impurity_split=1e-07, min_samples_leaf=1,\n",
       "            min_samples_split=2, min_weight_fraction_leaf=0.0,\n",
       "            n_estimators=75, n_jobs=8, oob_score=False, random_state=5,\n",
       "            verbose=0, warm_start=False),\n",
       "            cv='prefit', method='isotonic')"
      ]
     },
     "execution_count": 35,
     "metadata": {},
     "output_type": "execute_result"
    }
   ],
   "source": [
    "#Calibrate the selected classifiers and fit them to the test set\n",
    "\n",
    "\n",
    "dropped = [0, 1, 5, 15, 18]\n",
    "leftover_discrete = [0, 1, 2, 3, 4, 10]\n",
    "levels = np.array([4, 8, 3, 3, 2, 3])\n",
    "\n",
    "sm_lr_cal = CalibratedClassifierCV(base_estimator=sm_lr, method='isotonic', cv='prefit')\n",
    "sm_lr_cal.fit(X_test_sm, y_test_sm)\n",
    "\n",
    "sm_sgd_cal = CalibratedClassifierCV(base_estimator=sm_sgd, method='isotonic', cv='prefit')\n",
    "sm_sgd_cal.fit(X_test_sm, y_test_sm)\n",
    "\n",
    "sm_dt_cal = CalibratedClassifierCV(base_estimator=sm_dt, method='isotonic', cv='prefit')\n",
    "sm_dt_cal.fit(X_test_sm, y_test_sm)\n",
    "\n",
    "sm_rt_cal = CalibratedClassifierCV(base_estimator=sm_rt, method='isotonic', cv='prefit')\n",
    "sm_rt_cal.fit(X_test_sm, y_test_sm)\n",
    "\n",
    "sm_et_cal = CalibratedClassifierCV(base_estimator=sm_rt, method='isotonic', cv='prefit')\n",
    "sm_et_cal.fit(X_test_sm, y_test_sm)\n"
   ]
  },
  {
   "cell_type": "code",
   "execution_count": 40,
   "metadata": {
    "ExecuteTime": {
     "end_time": "2017-04-05T05:13:54.855333",
     "start_time": "2017-04-05T05:13:02.551236"
    },
    "collapsed": false
   },
   "outputs": [
    {
     "name": "stdout",
     "output_type": "stream",
     "text": [
      "0.981690478121\n"
     ]
    }
   ],
   "source": [
    "#Train the calibrated ensemble using the dataset that was created with SMOTE and the reduced feature set\n",
    "\n",
    "\n",
    "dropped = [0, 1, 5, 15, 18]\n",
    "leftover_discrete = [0, 1, 2, 3, 4, 10]\n",
    "levels = np.array([4, 8, 3, 3, 2, 3])\n",
    "drop = FunctionTransformer(np.delete, kw_args={'obj': dropped, 'axis': 1})\n",
    "\n",
    "\n",
    "vc = VotingClassifier(estimators= [('sm_lr', sm_lr), ('sm_sgd', sm_sgd), ('sm_dt', sm_dt), ('sm_rt', sm_rt), ('sm_et', sm_et)],\n",
    "                      voting='soft', weights=[2, 1, 2, 8, 8], n_jobs=8)\n",
    "\n",
    "vc.fit(X_train_sm, y_train_sm)\n",
    "final_score = np.mean(cross_val_score(vc, X_train_sm, y_train_sm, cv=10, scoring='roc_auc'))\n",
    "\n",
    "\n",
    "print(final_score)\n",
    "\n",
    "assert final_score > 0.89\n"
   ]
  },
  {
   "cell_type": "code",
   "execution_count": 41,
   "metadata": {
    "ExecuteTime": {
     "end_time": "2017-04-05T05:14:04.737639",
     "start_time": "2017-04-05T05:14:04.426452"
    },
    "collapsed": false
   },
   "outputs": [
    {
     "name": "stdout",
     "output_type": "stream",
     "text": [
      "[[ 0.98325436  0.01674564]\n",
      " [ 0.9857903   0.0142097 ]\n",
      " [ 0.8774726   0.1225274 ]\n",
      " ..., \n",
      " [ 0.80254019  0.19745981]\n",
      " [ 0.82167457  0.17832543]\n",
      " [ 0.86961357  0.13038643]]\n",
      "[['ID' 'Subscribed']\n",
      " ['2866.0' '0.016745641270254203']\n",
      " ['1957.0' '0.014209701749760776']\n",
      " ..., \n",
      " ['4196.0' '0.1974598129172286']\n",
      " ['2999.0' '0.17832543246638155']\n",
      " ['1642.0' '0.13038642887359242']]\n"
     ]
    }
   ],
   "source": [
    "#Generate the prediction probabilities for the holdout set and export them\n",
    "\n",
    "probs = (vc.predict_proba(enc_holdout.as_matrix()))\n",
    "print(probs)\n",
    "predictions = np.stack((ID, np.fmin(probs[:,0], probs[:,1])), axis=1)\n",
    "header = np.array([['ID', 'Subscribed']])\n",
    "\n",
    "predictions = np.append(header, predictions, axis=0)\n",
    "print(predictions)\n",
    "np.savetxt(\"predictions.csv\", predictions, delimiter=',', fmt='%s')\n"
   ]
  }
 ],
 "metadata": {
  "anaconda-cloud": {},
  "kernelspec": {
   "display_name": "Python [default]",
   "language": "python",
   "name": "python3"
  },
  "language_info": {
   "codemirror_mode": {
    "name": "ipython",
    "version": 3
   },
   "file_extension": ".py",
   "mimetype": "text/x-python",
   "name": "python",
   "nbconvert_exporter": "python",
   "pygments_lexer": "ipython3",
   "version": "3.5.2"
  }
 },
 "nbformat": 4,
 "nbformat_minor": 2
}
